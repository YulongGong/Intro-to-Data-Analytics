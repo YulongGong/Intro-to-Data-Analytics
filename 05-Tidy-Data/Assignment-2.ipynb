{
  "nbformat": 4,
  "nbformat_minor": 0,
  "metadata": {
    "kernelspec": {
      "display_name": "Python 3",
      "language": "python",
      "name": "python3"
    },
    "language_info": {
      "codemirror_mode": {
        "name": "ipython",
        "version": 3
      },
      "file_extension": ".py",
      "mimetype": "text/x-python",
      "name": "python",
      "nbconvert_exporter": "python",
      "pygments_lexer": "ipython3",
      "version": "3.7.2"
    },
    "colab": {
      "name": "Assignment-2.ipynb",
      "provenance": []
    }
  },
  "cells": [
    {
      "cell_type": "markdown",
      "metadata": {
        "id": "4JMxiOEU-UOf"
      },
      "source": [
        "# Assignment 2"
      ]
    },
    {
      "cell_type": "markdown",
      "metadata": {
        "id": "whFet5J4-UOj"
      },
      "source": [
        "## Data\n",
        "\n",
        "This is a historical dataset on the modern Olympic Games, including all the Games from Athens 1896 to Rio 2016. The data was taken from Kaggle. The `athlete_events` Dataset contains $271,116$ rows and $15$ columns.\n",
        "\n",
        "**Source:**\n",
        "\n",
        "Griffin, R, H (2018) 120 years of Olympic history: athletes and results, athlete_events, Found at: https://www.kaggle.com/heesoo37/120-years-of-olympic-history-athletes-and-results#athlete_events.csv\n",
        "\n",
        "**ATTRIBUTES:**\n",
        "\n",
        "**athlete_events.csv**\n",
        "\n",
        "| Column Name | Data Type | Description/Notes |\n",
        "|:----:|:----:|:----|\n",
        "| ID |  integer | Unique number for each athlete |\n",
        "| Name | string | Athlete’s name |\n",
        "| Sex | string | M or F |\n",
        "| Age | integer |  |\n",
        "| Height | integer | In centimeters |\n",
        "| Weight | integer | In kilograms |\n",
        "| Team | string | Team name |\n",
        "| NOC | string | National Olympic Committee, 3 letter code (Matches with `NOC` from noc_regions.csv) |\n",
        "| Games | string | Year and season |\n",
        "| Year | integer |  |\n",
        "| Season | string | Summer or Winter |\n",
        "| City | string | Host city |\n",
        "| Sport | string |  |\n",
        "| Event | string |  |\n",
        "| Medal | string | Gold, Silver, Bronze, or NA |"
      ]
    },
    {
      "cell_type": "markdown",
      "metadata": {
        "id": "j32Fz0Oe-UOj"
      },
      "source": [
        "Download athlete_events.csv from the link above and load it into a DataFrame called `athlete_events` (also can be found in the [course repo](https://github.com/soltaniehha/Intro-to-Data-Analytics/tree/main/data)):"
      ]
    },
    {
      "cell_type": "code",
      "metadata": {
        "id": "oKOMTxr1-UOk"
      },
      "source": [
        "# Your answer goes here\n"
      ],
      "execution_count": null,
      "outputs": []
    },
    {
      "cell_type": "markdown",
      "metadata": {
        "id": "QFiui54X-UOo"
      },
      "source": [
        "Use `info()` method on this DataFrame to get a sense of the data:"
      ]
    },
    {
      "cell_type": "code",
      "metadata": {
        "id": "1xkOJZRP-UOo"
      },
      "source": [
        "# Your answer goes here\n"
      ],
      "execution_count": null,
      "outputs": []
    },
    {
      "cell_type": "markdown",
      "metadata": {
        "id": "yNxUbJs2-UOs"
      },
      "source": [
        "## Question 1\n",
        "Clearly not every athlete receives a medal in the olympics. How many records have a non-null value for `Medal` field? In other words, how many medals were given according to this dataset?"
      ]
    },
    {
      "cell_type": "code",
      "metadata": {
        "id": "U-JNH0Gg-UOt"
      },
      "source": [
        "# Your answer goes here\n"
      ],
      "execution_count": null,
      "outputs": []
    },
    {
      "cell_type": "markdown",
      "metadata": {
        "id": "_5BCr0gY-UOv"
      },
      "source": [
        "Use the `head()` method to inspect the first few rows of the data:"
      ]
    },
    {
      "cell_type": "code",
      "metadata": {
        "id": "hSZcsLEm-UOv"
      },
      "source": [
        "# Your answer goes here\n"
      ],
      "execution_count": null,
      "outputs": []
    },
    {
      "cell_type": "markdown",
      "metadata": {
        "id": "vrIIqq6D-UOx"
      },
      "source": [
        "## Question 2\n",
        "\n",
        "What is the minimum and maximum `Year`?"
      ]
    },
    {
      "cell_type": "code",
      "metadata": {
        "id": "voZqV5Zh-UOy"
      },
      "source": [
        "# Your answer goes here\n"
      ],
      "execution_count": null,
      "outputs": []
    },
    {
      "cell_type": "code",
      "metadata": {
        "id": "h4aL8Se9-UO0"
      },
      "source": [
        "# Your answer goes here\n"
      ],
      "execution_count": null,
      "outputs": []
    },
    {
      "cell_type": "markdown",
      "metadata": {
        "id": "isC4hLaJ-UO3"
      },
      "source": [
        "## Question 3\n",
        "\n",
        "Is the following statement True or False?\n",
        "\n",
        "> Average age of female athletes who attended the olympic games after 1990 has raised when compared to the era before then."
      ]
    },
    {
      "cell_type": "code",
      "metadata": {
        "id": "KIM8qUdP-UO4"
      },
      "source": [
        "# Your answer goes here\n"
      ],
      "execution_count": null,
      "outputs": []
    },
    {
      "cell_type": "code",
      "metadata": {
        "id": "0wYu-E6Y-UO6"
      },
      "source": [
        "# Your answer goes here\n"
      ],
      "execution_count": null,
      "outputs": []
    },
    {
      "cell_type": "markdown",
      "metadata": {
        "id": "6MFpzA3--UO7"
      },
      "source": [
        "## Question 4\n",
        "\n",
        "How many Gold medals were given to men from 1970 to 2000 (including both years)?"
      ]
    },
    {
      "cell_type": "code",
      "metadata": {
        "id": "LNEsH9YH-UO8"
      },
      "source": [
        "# Your answer goes here\n"
      ],
      "execution_count": null,
      "outputs": []
    },
    {
      "cell_type": "markdown",
      "metadata": {
        "id": "WrqL6DQM-UO-"
      },
      "source": [
        "## Question 5\n",
        "\n",
        "How many athletes attended the olympic games in 1968?\n",
        "\n",
        "Hint: You can use the method `.unique()` on any pandas Series to get the unique values. Any column subset of a DataFrame returns a Series object."
      ]
    },
    {
      "cell_type": "code",
      "metadata": {
        "id": "MwsLBcwo-UO-"
      },
      "source": [
        "# Your answer goes here\n"
      ],
      "execution_count": null,
      "outputs": []
    },
    {
      "cell_type": "markdown",
      "metadata": {
        "id": "ths12eTm-UPB"
      },
      "source": [
        "## Question 6\n",
        "\n",
        "Who won the event \"Swimming Men's 100 metres Breaststroke\" in 2004? Please note that there is a typo in the Event description!"
      ]
    },
    {
      "cell_type": "code",
      "metadata": {
        "id": "UhM9yVf5-UPC"
      },
      "source": [
        "# Your answer goes here\n"
      ],
      "execution_count": null,
      "outputs": []
    },
    {
      "cell_type": "markdown",
      "metadata": {
        "id": "7c-RA1Ii_VXI"
      },
      "source": [
        "## Question 7\n",
        "\n",
        "Using the `athlete_events` dataframe and **seaborn** and/or **Matplotlib** library, create a plot to describe a portion of the dataset. This question is left open intentionally. To get the full points, make sure to customize your plot and produce a meaningful graph that follows best practices. For instance, it should have a title, and axes labels; it should be readable and insightful for an audience that is not familiar with the dataset."
      ]
    },
    {
      "cell_type": "code",
      "metadata": {
        "id": "ijRWJl85ALFn"
      },
      "source": [
        "# Your answer goes here\n"
      ],
      "execution_count": null,
      "outputs": []
    }
  ]
}