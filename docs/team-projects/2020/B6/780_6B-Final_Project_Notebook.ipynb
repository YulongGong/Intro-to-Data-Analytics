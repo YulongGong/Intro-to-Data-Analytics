{
  "nbformat": 4,
  "nbformat_minor": 0,
  "metadata": {
    "colab": {
      "name": "780_GroupB_Project.ipynb",
      "provenance": [],
      "collapsed_sections": [
        "hqh0PNcJz1Tf",
        "vbSEevk_0D0y"
      ],
      "toc_visible": true
    },
    "environment": {
      "name": "common-cpu.m56",
      "type": "gcloud",
      "uri": "gcr.io/deeplearning-platform-release/base-cpu:m56"
    },
    "kernelspec": {
      "display_name": "Python 3",
      "language": "python",
      "name": "python3"
    },
    "language_info": {
      "codemirror_mode": {
        "name": "ipython",
        "version": 3
      },
      "file_extension": ".py",
      "mimetype": "text/x-python",
      "name": "python",
      "nbconvert_exporter": "python",
      "pygments_lexer": "ipython3",
      "version": "3.7.8"
    }
  },
  "cells": [
    {
      "cell_type": "markdown",
      "metadata": {
        "id": "ROcpzYv7g_HH"
      },
      "source": [
        "## **Titanic Dataset: Who Most Likely Survived?** \n",
        "---\n"
      ]
    },
    {
      "cell_type": "markdown",
      "metadata": {
        "id": "ruwQYU_c2xxB"
      },
      "source": [
        "By Cohort B Team 6: (Sylar)Jiajian Guo, Lequn Yu, Qiqi Tang, Scott McCoy, Tiam Moradi"
      ]
    },
    {
      "cell_type": "markdown",
      "metadata": {
        "id": "dGTCany6iVgk"
      },
      "source": [
        "## **Proposal**\n",
        "\n",
        "Our goal for the project is to use python to further explore the Titanic dataset and the relationship between passenger features and their chances of survival. We plan to use this improved understanding to optimize our Machine Learning model to make better predictions. "
      ]
    },
    {
      "cell_type": "code",
      "metadata": {
        "id": "BRMdDJTOsT35"
      },
      "source": [
        "import pandas as pd\n",
        "import numpy as np\n",
        "import matplotlib.pyplot as plt\n",
        "import seaborn as sns"
      ],
      "execution_count": 2,
      "outputs": []
    },
    {
      "cell_type": "code",
      "metadata": {
        "id": "1cBl4rxLoQAs"
      },
      "source": [
        "# formatting options cell\n",
        "sns.set_context('notebook')\n",
        "sns.set_style('darkgrid')"
      ],
      "execution_count": 3,
      "outputs": []
    },
    {
      "cell_type": "code",
      "metadata": {
        "colab": {
          "base_uri": "https://localhost:8080/",
          "height": 197
        },
        "id": "wlxRWF2psRBc",
        "outputId": "093b727c-7b53-4c0a-cde1-5bee667cb801"
      },
      "source": [
        "df = pd.read_csv('https://www.openml.org/data/get_csv/16826755/phpMYEkMl', na_values='?')\n",
        "df.head()"
      ],
      "execution_count": 4,
      "outputs": [
        {
          "output_type": "execute_result",
          "data": {
            "text/html": [
              "<div>\n",
              "<style scoped>\n",
              "    .dataframe tbody tr th:only-of-type {\n",
              "        vertical-align: middle;\n",
              "    }\n",
              "\n",
              "    .dataframe tbody tr th {\n",
              "        vertical-align: top;\n",
              "    }\n",
              "\n",
              "    .dataframe thead th {\n",
              "        text-align: right;\n",
              "    }\n",
              "</style>\n",
              "<table border=\"1\" class=\"dataframe\">\n",
              "  <thead>\n",
              "    <tr style=\"text-align: right;\">\n",
              "      <th></th>\n",
              "      <th>pclass</th>\n",
              "      <th>survived</th>\n",
              "      <th>name</th>\n",
              "      <th>sex</th>\n",
              "      <th>age</th>\n",
              "      <th>sibsp</th>\n",
              "      <th>parch</th>\n",
              "      <th>ticket</th>\n",
              "      <th>fare</th>\n",
              "      <th>cabin</th>\n",
              "      <th>embarked</th>\n",
              "      <th>boat</th>\n",
              "      <th>body</th>\n",
              "      <th>home.dest</th>\n",
              "    </tr>\n",
              "  </thead>\n",
              "  <tbody>\n",
              "    <tr>\n",
              "      <th>0</th>\n",
              "      <td>1</td>\n",
              "      <td>1</td>\n",
              "      <td>Allen, Miss. Elisabeth Walton</td>\n",
              "      <td>female</td>\n",
              "      <td>29.0000</td>\n",
              "      <td>0</td>\n",
              "      <td>0</td>\n",
              "      <td>24160</td>\n",
              "      <td>211.3375</td>\n",
              "      <td>B5</td>\n",
              "      <td>S</td>\n",
              "      <td>2</td>\n",
              "      <td>NaN</td>\n",
              "      <td>St Louis, MO</td>\n",
              "    </tr>\n",
              "    <tr>\n",
              "      <th>1</th>\n",
              "      <td>1</td>\n",
              "      <td>1</td>\n",
              "      <td>Allison, Master. Hudson Trevor</td>\n",
              "      <td>male</td>\n",
              "      <td>0.9167</td>\n",
              "      <td>1</td>\n",
              "      <td>2</td>\n",
              "      <td>113781</td>\n",
              "      <td>151.5500</td>\n",
              "      <td>C22 C26</td>\n",
              "      <td>S</td>\n",
              "      <td>11</td>\n",
              "      <td>NaN</td>\n",
              "      <td>Montreal, PQ / Chesterville, ON</td>\n",
              "    </tr>\n",
              "    <tr>\n",
              "      <th>2</th>\n",
              "      <td>1</td>\n",
              "      <td>0</td>\n",
              "      <td>Allison, Miss. Helen Loraine</td>\n",
              "      <td>female</td>\n",
              "      <td>2.0000</td>\n",
              "      <td>1</td>\n",
              "      <td>2</td>\n",
              "      <td>113781</td>\n",
              "      <td>151.5500</td>\n",
              "      <td>C22 C26</td>\n",
              "      <td>S</td>\n",
              "      <td>NaN</td>\n",
              "      <td>NaN</td>\n",
              "      <td>Montreal, PQ / Chesterville, ON</td>\n",
              "    </tr>\n",
              "    <tr>\n",
              "      <th>3</th>\n",
              "      <td>1</td>\n",
              "      <td>0</td>\n",
              "      <td>Allison, Mr. Hudson Joshua Creighton</td>\n",
              "      <td>male</td>\n",
              "      <td>30.0000</td>\n",
              "      <td>1</td>\n",
              "      <td>2</td>\n",
              "      <td>113781</td>\n",
              "      <td>151.5500</td>\n",
              "      <td>C22 C26</td>\n",
              "      <td>S</td>\n",
              "      <td>NaN</td>\n",
              "      <td>135.0</td>\n",
              "      <td>Montreal, PQ / Chesterville, ON</td>\n",
              "    </tr>\n",
              "    <tr>\n",
              "      <th>4</th>\n",
              "      <td>1</td>\n",
              "      <td>0</td>\n",
              "      <td>Allison, Mrs. Hudson J C (Bessie Waldo Daniels)</td>\n",
              "      <td>female</td>\n",
              "      <td>25.0000</td>\n",
              "      <td>1</td>\n",
              "      <td>2</td>\n",
              "      <td>113781</td>\n",
              "      <td>151.5500</td>\n",
              "      <td>C22 C26</td>\n",
              "      <td>S</td>\n",
              "      <td>NaN</td>\n",
              "      <td>NaN</td>\n",
              "      <td>Montreal, PQ / Chesterville, ON</td>\n",
              "    </tr>\n",
              "  </tbody>\n",
              "</table>\n",
              "</div>"
            ],
            "text/plain": [
              "   pclass  survived  ...   body                        home.dest\n",
              "0       1         1  ...    NaN                     St Louis, MO\n",
              "1       1         1  ...    NaN  Montreal, PQ / Chesterville, ON\n",
              "2       1         0  ...    NaN  Montreal, PQ / Chesterville, ON\n",
              "3       1         0  ...  135.0  Montreal, PQ / Chesterville, ON\n",
              "4       1         0  ...    NaN  Montreal, PQ / Chesterville, ON\n",
              "\n",
              "[5 rows x 14 columns]"
            ]
          },
          "metadata": {
            "tags": []
          },
          "execution_count": 4
        }
      ]
    },
    {
      "cell_type": "markdown",
      "metadata": {
        "id": "IUl4niUov9xg"
      },
      "source": [
        "## **Exploratory Data Analysis**"
      ]
    },
    {
      "cell_type": "markdown",
      "metadata": {
        "id": "_KpINzezyYjB"
      },
      "source": [
        "The Titanic dataset we have here includes 14 columns. The dependent variable is 'survived' and the remaining 13 columns are independent variables. There are 1309 data entries which means we have in total 1309 people for this dataset. There are only 4 columns missing a lot of data: 'cabin', 'boat', 'body',and 'home.dest', while other variables have mostly non-null data. Most of the columns are categorical."
      ]
    },
    {
      "cell_type": "code",
      "metadata": {
        "colab": {
          "base_uri": "https://localhost:8080/"
        },
        "id": "REiYkj1M6G0v",
        "outputId": "aceb5948-ebd0-4b5c-9902-8d196c791a77"
      },
      "source": [
        "df.info()"
      ],
      "execution_count": null,
      "outputs": [
        {
          "output_type": "stream",
          "text": [
            "<class 'pandas.core.frame.DataFrame'>\n",
            "RangeIndex: 1309 entries, 0 to 1308\n",
            "Data columns (total 14 columns):\n",
            " #   Column     Non-Null Count  Dtype  \n",
            "---  ------     --------------  -----  \n",
            " 0   pclass     1309 non-null   int64  \n",
            " 1   survived   1309 non-null   int64  \n",
            " 2   name       1309 non-null   object \n",
            " 3   sex        1309 non-null   object \n",
            " 4   age        1046 non-null   float64\n",
            " 5   sibsp      1309 non-null   int64  \n",
            " 6   parch      1309 non-null   int64  \n",
            " 7   ticket     1309 non-null   object \n",
            " 8   fare       1308 non-null   float64\n",
            " 9   cabin      295 non-null    object \n",
            " 10  embarked   1307 non-null   object \n",
            " 11  boat       486 non-null    object \n",
            " 12  body       121 non-null    float64\n",
            " 13  home.dest  745 non-null    object \n",
            "dtypes: float64(3), int64(4), object(7)\n",
            "memory usage: 143.3+ KB\n"
          ],
          "name": "stdout"
        }
      ]
    },
    {
      "cell_type": "markdown",
      "metadata": {
        "id": "nhr5ll1D18sV"
      },
      "source": [
        "We can see some useful statistics listed below with the describe method. The total survival rate was 38.2% on Titanic which gives us a general sense of how serious the Titanic disaster event was. Another useful piece of informatino we can tell is that most passengers were mid-age with an interquartile range of 21-39 years old. Lastly, we can guess the distribution of 'fare' is highly skewed with outliers from its statistics here."
      ]
    },
    {
      "cell_type": "code",
      "metadata": {
        "colab": {
          "base_uri": "https://localhost:8080/",
          "height": 297
        },
        "id": "LJFIAF1gg2Xi",
        "outputId": "80866b56-357a-4e41-c9ce-c6bc01072cae"
      },
      "source": [
        "df.describe()"
      ],
      "execution_count": null,
      "outputs": [
        {
          "output_type": "execute_result",
          "data": {
            "text/html": [
              "<div>\n",
              "<style scoped>\n",
              "    .dataframe tbody tr th:only-of-type {\n",
              "        vertical-align: middle;\n",
              "    }\n",
              "\n",
              "    .dataframe tbody tr th {\n",
              "        vertical-align: top;\n",
              "    }\n",
              "\n",
              "    .dataframe thead th {\n",
              "        text-align: right;\n",
              "    }\n",
              "</style>\n",
              "<table border=\"1\" class=\"dataframe\">\n",
              "  <thead>\n",
              "    <tr style=\"text-align: right;\">\n",
              "      <th></th>\n",
              "      <th>pclass</th>\n",
              "      <th>survived</th>\n",
              "      <th>age</th>\n",
              "      <th>sibsp</th>\n",
              "      <th>parch</th>\n",
              "      <th>fare</th>\n",
              "      <th>body</th>\n",
              "    </tr>\n",
              "  </thead>\n",
              "  <tbody>\n",
              "    <tr>\n",
              "      <th>count</th>\n",
              "      <td>1309.000000</td>\n",
              "      <td>1309.000000</td>\n",
              "      <td>1046.000000</td>\n",
              "      <td>1309.000000</td>\n",
              "      <td>1309.000000</td>\n",
              "      <td>1308.000000</td>\n",
              "      <td>121.000000</td>\n",
              "    </tr>\n",
              "    <tr>\n",
              "      <th>mean</th>\n",
              "      <td>2.294882</td>\n",
              "      <td>0.381971</td>\n",
              "      <td>29.881135</td>\n",
              "      <td>0.498854</td>\n",
              "      <td>0.385027</td>\n",
              "      <td>33.295479</td>\n",
              "      <td>160.809917</td>\n",
              "    </tr>\n",
              "    <tr>\n",
              "      <th>std</th>\n",
              "      <td>0.837836</td>\n",
              "      <td>0.486055</td>\n",
              "      <td>14.413500</td>\n",
              "      <td>1.041658</td>\n",
              "      <td>0.865560</td>\n",
              "      <td>51.758668</td>\n",
              "      <td>97.696922</td>\n",
              "    </tr>\n",
              "    <tr>\n",
              "      <th>min</th>\n",
              "      <td>1.000000</td>\n",
              "      <td>0.000000</td>\n",
              "      <td>0.166700</td>\n",
              "      <td>0.000000</td>\n",
              "      <td>0.000000</td>\n",
              "      <td>0.000000</td>\n",
              "      <td>1.000000</td>\n",
              "    </tr>\n",
              "    <tr>\n",
              "      <th>25%</th>\n",
              "      <td>2.000000</td>\n",
              "      <td>0.000000</td>\n",
              "      <td>21.000000</td>\n",
              "      <td>0.000000</td>\n",
              "      <td>0.000000</td>\n",
              "      <td>7.895800</td>\n",
              "      <td>72.000000</td>\n",
              "    </tr>\n",
              "    <tr>\n",
              "      <th>50%</th>\n",
              "      <td>3.000000</td>\n",
              "      <td>0.000000</td>\n",
              "      <td>28.000000</td>\n",
              "      <td>0.000000</td>\n",
              "      <td>0.000000</td>\n",
              "      <td>14.454200</td>\n",
              "      <td>155.000000</td>\n",
              "    </tr>\n",
              "    <tr>\n",
              "      <th>75%</th>\n",
              "      <td>3.000000</td>\n",
              "      <td>1.000000</td>\n",
              "      <td>39.000000</td>\n",
              "      <td>1.000000</td>\n",
              "      <td>0.000000</td>\n",
              "      <td>31.275000</td>\n",
              "      <td>256.000000</td>\n",
              "    </tr>\n",
              "    <tr>\n",
              "      <th>max</th>\n",
              "      <td>3.000000</td>\n",
              "      <td>1.000000</td>\n",
              "      <td>80.000000</td>\n",
              "      <td>8.000000</td>\n",
              "      <td>9.000000</td>\n",
              "      <td>512.329200</td>\n",
              "      <td>328.000000</td>\n",
              "    </tr>\n",
              "  </tbody>\n",
              "</table>\n",
              "</div>"
            ],
            "text/plain": [
              "            pclass     survived  ...         fare        body\n",
              "count  1309.000000  1309.000000  ...  1308.000000  121.000000\n",
              "mean      2.294882     0.381971  ...    33.295479  160.809917\n",
              "std       0.837836     0.486055  ...    51.758668   97.696922\n",
              "min       1.000000     0.000000  ...     0.000000    1.000000\n",
              "25%       2.000000     0.000000  ...     7.895800   72.000000\n",
              "50%       3.000000     0.000000  ...    14.454200  155.000000\n",
              "75%       3.000000     1.000000  ...    31.275000  256.000000\n",
              "max       3.000000     1.000000  ...   512.329200  328.000000\n",
              "\n",
              "[8 rows x 7 columns]"
            ]
          },
          "metadata": {
            "tags": []
          },
          "execution_count": 6
        }
      ]
    },
    {
      "cell_type": "markdown",
      "metadata": {
        "id": "jU1ItwJa01o1"
      },
      "source": [
        "### **Examining Survival Based on Each Feature**\n",
        "\n",
        "Which passenger features were most associated with surviving the shipwreck? \n",
        "\n",
        "The titanic dataset has a number of features about each passenger that could be used as indicators affecting their chances of surviving. We analyzed each feature independently and found that the most significant indicators of survival were sex, passenger class, and age. Our analysis focuses on these features, but also discusses other relevant features that have potential predictive capability."
      ]
    },
    {
      "cell_type": "markdown",
      "metadata": {
        "id": "CGAQ_wwFIJS9"
      },
      "source": [
        "#### **Sex**\n",
        "After calculating survival rates based on sex, we found that female passengers had a significantly higher survival rate at 72.7%, to male passengers at 19.1%."
      ]
    },
    {
      "cell_type": "code",
      "metadata": {
        "colab": {
          "base_uri": "https://localhost:8080/",
          "height": 142
        },
        "id": "aMtIM2IX4Qai",
        "outputId": "d94a5c7f-011d-44cc-a038-675f86ddbfb5"
      },
      "source": [
        "df.pivot_table(values='survived',index='sex')"
      ],
      "execution_count": null,
      "outputs": [
        {
          "output_type": "execute_result",
          "data": {
            "text/html": [
              "<div>\n",
              "<style scoped>\n",
              "    .dataframe tbody tr th:only-of-type {\n",
              "        vertical-align: middle;\n",
              "    }\n",
              "\n",
              "    .dataframe tbody tr th {\n",
              "        vertical-align: top;\n",
              "    }\n",
              "\n",
              "    .dataframe thead th {\n",
              "        text-align: right;\n",
              "    }\n",
              "</style>\n",
              "<table border=\"1\" class=\"dataframe\">\n",
              "  <thead>\n",
              "    <tr style=\"text-align: right;\">\n",
              "      <th></th>\n",
              "      <th>survived</th>\n",
              "    </tr>\n",
              "    <tr>\n",
              "      <th>sex</th>\n",
              "      <th></th>\n",
              "    </tr>\n",
              "  </thead>\n",
              "  <tbody>\n",
              "    <tr>\n",
              "      <th>female</th>\n",
              "      <td>0.727468</td>\n",
              "    </tr>\n",
              "    <tr>\n",
              "      <th>male</th>\n",
              "      <td>0.190985</td>\n",
              "    </tr>\n",
              "  </tbody>\n",
              "</table>\n",
              "</div>"
            ],
            "text/plain": [
              "        survived\n",
              "sex             \n",
              "female  0.727468\n",
              "male    0.190985"
            ]
          },
          "metadata": {
            "tags": []
          },
          "execution_count": 7
        }
      ]
    },
    {
      "cell_type": "markdown",
      "metadata": {
        "id": "-5V4yNIGMhHN"
      },
      "source": [
        "The following two charts illustrate the striking divide between survival rates of men and women. Even though a majority of passengers were male, women made up more than two thrids of survivors."
      ]
    },
    {
      "cell_type": "code",
      "metadata": {
        "colab": {
          "base_uri": "https://localhost:8080/",
          "height": 301
        },
        "id": "GAwp91jo9WXd",
        "outputId": "49ee686c-2af0-43fd-e1f6-742db84e9636"
      },
      "source": [
        "# fig, (ax1, ax2) = plt.subplots(ncols=2, sharey=True);\n",
        "\n",
        "sns.countplot(data = df, x='sex');\n",
        "plt.title('Distribution of passengers by sex');\n"
      ],
      "execution_count": null,
      "outputs": [
        {
          "output_type": "display_data",
          "data": {
            "image/png": "[encoded data removed]",
            "text/plain": [
              "<Figure size 432x288 with 1 Axes>"
            ]
          },
          "metadata": {
            "tags": []
          }
        }
      ]
    },
    {
      "cell_type": "code",
      "metadata": {
        "colab": {
          "base_uri": "https://localhost:8080/",
          "height": 301
        },
        "id": "QrAiG96Y0Xp9",
        "outputId": "609640c4-8d75-4242-8265-cdc1ba7f80e5"
      },
      "source": [
        "sns.countplot(data = df, x=df['survived'].map({1:'Yes', 0:'No'}), hue = 'sex');\n",
        "plt.title('Distribution of Survivors by Sex');"
      ],
      "execution_count": null,
      "outputs": [
        {
          "output_type": "display_data",
          "data": {
            "image/png": "[encoded data removed]",
            "text/plain": [
              "<Figure size 432x288 with 1 Axes>"
            ]
          },
          "metadata": {
            "tags": []
          }
        }
      ]
    },
    {
      "cell_type": "markdown",
      "metadata": {
        "id": "1eYyJ9hXPcaw"
      },
      "source": [
        "#### **Passenger Class**"
      ]
    },
    {
      "cell_type": "markdown",
      "metadata": {
        "id": "rDnPgpdJ5ibV"
      },
      "source": [
        "When looking into survival rate based on passenger class, we see that class 1 had the highest survival rate of 61.9% , followed by class 2 with 43%, and finally class 3 with 25.5%. One thing to also notice is that there are more passengers in class 3 than class 1 and class 2 combined. Our hypothesis for why there is a big disparity of the survival rates is because of the locations of the passenger rooms on the titanic for a different passenger classes."
      ]
    },
    {
      "cell_type": "code",
      "metadata": {
        "colab": {
          "base_uri": "https://localhost:8080/",
          "height": 173
        },
        "id": "0FIaodoVPocf",
        "outputId": "2c434ed5-11fb-43f6-82d7-4d4decefcfde"
      },
      "source": [
        "df.pivot_table(values='survived',index='pclass')"
      ],
      "execution_count": null,
      "outputs": [
        {
          "output_type": "execute_result",
          "data": {
            "text/html": [
              "<div>\n",
              "<style scoped>\n",
              "    .dataframe tbody tr th:only-of-type {\n",
              "        vertical-align: middle;\n",
              "    }\n",
              "\n",
              "    .dataframe tbody tr th {\n",
              "        vertical-align: top;\n",
              "    }\n",
              "\n",
              "    .dataframe thead th {\n",
              "        text-align: right;\n",
              "    }\n",
              "</style>\n",
              "<table border=\"1\" class=\"dataframe\">\n",
              "  <thead>\n",
              "    <tr style=\"text-align: right;\">\n",
              "      <th></th>\n",
              "      <th>survived</th>\n",
              "    </tr>\n",
              "    <tr>\n",
              "      <th>pclass</th>\n",
              "      <th></th>\n",
              "    </tr>\n",
              "  </thead>\n",
              "  <tbody>\n",
              "    <tr>\n",
              "      <th>1</th>\n",
              "      <td>0.619195</td>\n",
              "    </tr>\n",
              "    <tr>\n",
              "      <th>2</th>\n",
              "      <td>0.429603</td>\n",
              "    </tr>\n",
              "    <tr>\n",
              "      <th>3</th>\n",
              "      <td>0.255289</td>\n",
              "    </tr>\n",
              "  </tbody>\n",
              "</table>\n",
              "</div>"
            ],
            "text/plain": [
              "        survived\n",
              "pclass          \n",
              "1       0.619195\n",
              "2       0.429603\n",
              "3       0.255289"
            ]
          },
          "metadata": {
            "tags": []
          },
          "execution_count": 10
        }
      ]
    },
    {
      "cell_type": "code",
      "metadata": {
        "colab": {
          "base_uri": "https://localhost:8080/",
          "height": 301
        },
        "id": "n-hsoiKtPojY",
        "outputId": "71e1c146-8a90-42f4-92db-d396dddb107b"
      },
      "source": [
        "df.pivot_table(values='survived',index='pclass').plot(kind = 'bar');\n",
        "plt.title('Survival Percentage by Passenger Class');\n",
        "plt.ylabel('Survival Rate');\n",
        "plt.xlabel('Passenger Class');\n",
        "plt.xticks(rotation=0);"
      ],
      "execution_count": null,
      "outputs": [
        {
          "output_type": "display_data",
          "data": {
            "image/png": "[encoded data removed]",
            "text/plain": [
              "<Figure size 432x288 with 1 Axes>"
            ]
          },
          "metadata": {
            "tags": []
          }
        }
      ]
    },
    {
      "cell_type": "code",
      "metadata": {
        "colab": {
          "base_uri": "https://localhost:8080/",
          "height": 301
        },
        "id": "P0xYs8nKPotD",
        "outputId": "5974bc63-bc12-4e6e-a77b-a2826a2c32e7"
      },
      "source": [
        "sns.countplot(data = df, x = 'pclass');\n",
        "plt.title('Passenger Class Distribution');\n",
        "plt.ylabel('Count');\n",
        "plt.xlabel('Passenger Class');"
      ],
      "execution_count": null,
      "outputs": [
        {
          "output_type": "display_data",
          "data": {
            "image/png": "[encoded data removed]",
            "text/plain": [
              "<Figure size 432x288 with 1 Axes>"
            ]
          },
          "metadata": {
            "tags": []
          }
        }
      ]
    },
    {
      "cell_type": "code",
      "metadata": {
        "id": "SLyYUuMKPogL"
      },
      "source": [
        ""
      ],
      "execution_count": null,
      "outputs": []
    },
    {
      "cell_type": "markdown",
      "metadata": {
        "id": "MvUBxW3bPe_-"
      },
      "source": [
        "#### **Age**"
      ]
    },
    {
      "cell_type": "markdown",
      "metadata": {
        "id": "rhkn88mA55fb"
      },
      "source": [
        "To compare the effect of age on survival, we divided our passengers into several distinct age categores. We define a child as a person under 18, an adult as a person between the ages of 18 and 50, and Elder as a person over 50 years old. Children had the highest survival rate, followed by adults and elderly. With the dataset, we also see that there was a quite large group created called None which means we had Null values within the age column of our dataset."
      ]
    },
    {
      "cell_type": "code",
      "metadata": {
        "colab": {
          "base_uri": "https://localhost:8080/",
          "height": 173
        },
        "id": "_D_KcQz0DL1m",
        "outputId": "bb9973fd-30b0-4a89-b460-7d13dab3aca1"
      },
      "source": [
        "dfage = df.copy()\n",
        "group_names = ['Child', 'Adult', 'Elderly']\n",
        "ranges = [0,17,49, np.inf]\n",
        "dfage['age_group'] = pd.cut(dfage['age'], bins = ranges, labels = group_names)\n",
        "dfage.pivot_table(values='survived', index = 'age_group')"
      ],
      "execution_count": null,
      "outputs": [
        {
          "output_type": "execute_result",
          "data": {
            "text/html": [
              "<div>\n",
              "<style scoped>\n",
              "    .dataframe tbody tr th:only-of-type {\n",
              "        vertical-align: middle;\n",
              "    }\n",
              "\n",
              "    .dataframe tbody tr th {\n",
              "        vertical-align: top;\n",
              "    }\n",
              "\n",
              "    .dataframe thead th {\n",
              "        text-align: right;\n",
              "    }\n",
              "</style>\n",
              "<table border=\"1\" class=\"dataframe\">\n",
              "  <thead>\n",
              "    <tr style=\"text-align: right;\">\n",
              "      <th></th>\n",
              "      <th>survived</th>\n",
              "    </tr>\n",
              "    <tr>\n",
              "      <th>age_group</th>\n",
              "      <th></th>\n",
              "    </tr>\n",
              "  </thead>\n",
              "  <tbody>\n",
              "    <tr>\n",
              "      <th>Child</th>\n",
              "      <td>0.525974</td>\n",
              "    </tr>\n",
              "    <tr>\n",
              "      <th>Adult</th>\n",
              "      <td>0.386189</td>\n",
              "    </tr>\n",
              "    <tr>\n",
              "      <th>Elderly</th>\n",
              "      <td>0.400000</td>\n",
              "    </tr>\n",
              "  </tbody>\n",
              "</table>\n",
              "</div>"
            ],
            "text/plain": [
              "           survived\n",
              "age_group          \n",
              "Child      0.525974\n",
              "Adult      0.386189\n",
              "Elderly    0.400000"
            ]
          },
          "metadata": {
            "tags": []
          },
          "execution_count": 13
        }
      ]
    },
    {
      "cell_type": "code",
      "metadata": {
        "colab": {
          "base_uri": "https://localhost:8080/",
          "height": 301
        },
        "id": "02o_SjiPHfPX",
        "outputId": "8caa8ba9-97b2-40ae-ad93-2ae89d120db5"
      },
      "source": [
        "dfage.pivot_table(values='survived', index = 'age_group').plot(kind = 'bar');\n",
        "plt.title('Survival Percentage by Age Group');\n",
        "plt.ylabel('Survival Rate');\n",
        "plt.xlabel('Age Group');\n",
        "plt.xticks(rotation=0);"
      ],
      "execution_count": null,
      "outputs": [
        {
          "output_type": "display_data",
          "data": {
            "image/png": "[encoded data removed]",
            "text/plain": [
              "<Figure size 432x288 with 1 Axes>"
            ]
          },
          "metadata": {
            "tags": []
          }
        }
      ]
    },
    {
      "cell_type": "markdown",
      "metadata": {
        "id": "U8zW69aYNOf1"
      },
      "source": [
        "The survival rate for children was higher than for any other age group, but the effect is less than we expected. Later we will show that the correlation between age and passenger class somewhat masks the predictive effect of age, and that when viewed independently from passenger class, age is a powerful predictor of survival."
      ]
    },
    {
      "cell_type": "code",
      "metadata": {
        "id": "GjwSOzO7ZSSz"
      },
      "source": [
        ""
      ],
      "execution_count": null,
      "outputs": []
    },
    {
      "cell_type": "markdown",
      "metadata": {
        "id": "CZpThPknME6I"
      },
      "source": [
        "#### **Fare**"
      ]
    },
    {
      "cell_type": "markdown",
      "metadata": {
        "id": "WDz7vhDg6Iuj"
      },
      "source": [
        "Here we have defined the fare to be cheap if the price was under 10 dollars, if the fair was over 10 but less than 30 dollars then it is mid , and if the fare price was over 30 dollars, then we would define that as expensive. There was also a large portion of the passengers that had missing values, however for the data that we do have, high level fare prices had the highest survival rate, followed by mid and cheap fare tickets. "
      ]
    },
    {
      "cell_type": "markdown",
      "metadata": {
        "id": "_xlbj5MJTb2d"
      },
      "source": [
        "> Survival Rate by Fare Group:"
      ]
    },
    {
      "cell_type": "code",
      "metadata": {
        "colab": {
          "base_uri": "https://localhost:8080/",
          "height": 173
        },
        "id": "GuntpbrqNiHh",
        "outputId": "39426be7-2a05-4149-fe43-22110dbbde82"
      },
      "source": [
        "group_names = ['Cheap', 'Mid', 'Expensive']\n",
        "ranges = [0,10,30, np.inf]\n",
        "df['fare_group'] = pd.cut(df['fare'], bins = ranges, labels = group_names)\n",
        "df.pivot_table(values='survived', index = 'fare_group')"
      ],
      "execution_count": null,
      "outputs": [
        {
          "output_type": "execute_result",
          "data": {
            "text/html": [
              "<div>\n",
              "<style scoped>\n",
              "    .dataframe tbody tr th:only-of-type {\n",
              "        vertical-align: middle;\n",
              "    }\n",
              "\n",
              "    .dataframe tbody tr th {\n",
              "        vertical-align: top;\n",
              "    }\n",
              "\n",
              "    .dataframe thead th {\n",
              "        text-align: right;\n",
              "    }\n",
              "</style>\n",
              "<table border=\"1\" class=\"dataframe\">\n",
              "  <thead>\n",
              "    <tr style=\"text-align: right;\">\n",
              "      <th></th>\n",
              "      <th>survived</th>\n",
              "    </tr>\n",
              "    <tr>\n",
              "      <th>fare_group</th>\n",
              "      <th></th>\n",
              "    </tr>\n",
              "  </thead>\n",
              "  <tbody>\n",
              "    <tr>\n",
              "      <th>Cheap</th>\n",
              "      <td>0.227848</td>\n",
              "    </tr>\n",
              "    <tr>\n",
              "      <th>Mid</th>\n",
              "      <td>0.409283</td>\n",
              "    </tr>\n",
              "    <tr>\n",
              "      <th>Expensive</th>\n",
              "      <td>0.571429</td>\n",
              "    </tr>\n",
              "  </tbody>\n",
              "</table>\n",
              "</div>"
            ],
            "text/plain": [
              "            survived\n",
              "fare_group          \n",
              "Cheap       0.227848\n",
              "Mid         0.409283\n",
              "Expensive   0.571429"
            ]
          },
          "metadata": {
            "tags": []
          },
          "execution_count": 15
        }
      ]
    },
    {
      "cell_type": "code",
      "metadata": {
        "colab": {
          "base_uri": "https://localhost:8080/",
          "height": 301
        },
        "id": "Rz9SjCwxG1WN",
        "outputId": "ab5ec7c6-bada-4c64-a2a7-a4a7662f6db0"
      },
      "source": [
        "df.pivot_table(values='survived', index = 'fare_group').plot(kind = 'bar');\n",
        "plt.title('Survival Percentage by Fare Group');\n",
        "plt.xticks(rotation=0)\n",
        "plt.ylabel('Survival Rate');\n"
      ],
      "execution_count": null,
      "outputs": [
        {
          "output_type": "display_data",
          "data": {
            "image/png": "[encoded data removed]",
            "text/plain": [
              "<Figure size 432x288 with 1 Axes>"
            ]
          },
          "metadata": {
            "tags": []
          }
        }
      ]
    },
    {
      "cell_type": "markdown",
      "metadata": {
        "id": "Qj_hbNmd5LIh"
      },
      "source": [
        "One possible explanation for the high survival rate of passengers with expensive tickets is that first class passengers (the class with the highest survival percentage) paid significantly more for their tickets on average. Later we will show that even after controlling for passenger class, higher fares are still associated with higher survival rates."
      ]
    },
    {
      "cell_type": "markdown",
      "metadata": {
        "id": "caJWQaCk5uB2"
      },
      "source": [
        "> Average Fare and Survival Percentage by Passenger Class"
      ]
    },
    {
      "cell_type": "code",
      "metadata": {
        "colab": {
          "base_uri": "https://localhost:8080/",
          "height": 173
        },
        "id": "oyo4u08GG1bA",
        "outputId": "ac592888-959f-4c07-aee2-acc674a88509"
      },
      "source": [
        "dff = df.pivot_table(index = 'pclass', values = ['fare', 'survived'])\n",
        "dff.columns = ['Average Fare', 'Survival Percentage']\n",
        "dff"
      ],
      "execution_count": null,
      "outputs": [
        {
          "output_type": "execute_result",
          "data": {
            "text/html": [
              "<div>\n",
              "<style scoped>\n",
              "    .dataframe tbody tr th:only-of-type {\n",
              "        vertical-align: middle;\n",
              "    }\n",
              "\n",
              "    .dataframe tbody tr th {\n",
              "        vertical-align: top;\n",
              "    }\n",
              "\n",
              "    .dataframe thead th {\n",
              "        text-align: right;\n",
              "    }\n",
              "</style>\n",
              "<table border=\"1\" class=\"dataframe\">\n",
              "  <thead>\n",
              "    <tr style=\"text-align: right;\">\n",
              "      <th></th>\n",
              "      <th>Average Fare</th>\n",
              "      <th>Survival Percentage</th>\n",
              "    </tr>\n",
              "    <tr>\n",
              "      <th>pclass</th>\n",
              "      <th></th>\n",
              "      <th></th>\n",
              "    </tr>\n",
              "  </thead>\n",
              "  <tbody>\n",
              "    <tr>\n",
              "      <th>1</th>\n",
              "      <td>87.508992</td>\n",
              "      <td>0.619195</td>\n",
              "    </tr>\n",
              "    <tr>\n",
              "      <th>2</th>\n",
              "      <td>21.179196</td>\n",
              "      <td>0.429603</td>\n",
              "    </tr>\n",
              "    <tr>\n",
              "      <th>3</th>\n",
              "      <td>13.302889</td>\n",
              "      <td>0.255289</td>\n",
              "    </tr>\n",
              "  </tbody>\n",
              "</table>\n",
              "</div>"
            ],
            "text/plain": [
              "        Average Fare  Survival Percentage\n",
              "pclass                                   \n",
              "1          87.508992             0.619195\n",
              "2          21.179196             0.429603\n",
              "3          13.302889             0.255289"
            ]
          },
          "metadata": {
            "tags": []
          },
          "execution_count": 17
        }
      ]
    },
    {
      "cell_type": "markdown",
      "metadata": {
        "id": "M1Q-MWSxGzbI"
      },
      "source": [
        "#### **Port Embarked**"
      ]
    },
    {
      "cell_type": "markdown",
      "metadata": {
        "id": "1NVRvP646LKl"
      },
      "source": [
        "Data shows us that Cherbourg, France is the port with the highest survival rate."
      ]
    },
    {
      "cell_type": "markdown",
      "metadata": {
        "id": "DVkEIyWnToSV"
      },
      "source": [
        "> Survival Percentage by Port of Embarkation"
      ]
    },
    {
      "cell_type": "code",
      "metadata": {
        "colab": {
          "base_uri": "https://localhost:8080/",
          "height": 173
        },
        "id": "hzRdf3628PGG",
        "outputId": "0efb83dc-7b11-4baa-a88c-79f98d59ec19"
      },
      "source": [
        "dfpe = df.pivot_table(values='survived',index='embarked')\n",
        "dfpe.columns = ['Survival Percentage']\n",
        "dfpe['Number of Passengers'] = df.groupby('embarked').count()['survived']\n",
        "dfpe['Number of Survivors'] = df[df['survived'] == 1].groupby('embarked').count()['survived']\n",
        "dfpe[['Number of Passengers', 'Number of Survivors', 'Survival Percentage']]"
      ],
      "execution_count": null,
      "outputs": [
        {
          "output_type": "execute_result",
          "data": {
            "text/html": [
              "<div>\n",
              "<style scoped>\n",
              "    .dataframe tbody tr th:only-of-type {\n",
              "        vertical-align: middle;\n",
              "    }\n",
              "\n",
              "    .dataframe tbody tr th {\n",
              "        vertical-align: top;\n",
              "    }\n",
              "\n",
              "    .dataframe thead th {\n",
              "        text-align: right;\n",
              "    }\n",
              "</style>\n",
              "<table border=\"1\" class=\"dataframe\">\n",
              "  <thead>\n",
              "    <tr style=\"text-align: right;\">\n",
              "      <th></th>\n",
              "      <th>Number of Passengers</th>\n",
              "      <th>Number of Survivors</th>\n",
              "      <th>Survival Percentage</th>\n",
              "    </tr>\n",
              "    <tr>\n",
              "      <th>embarked</th>\n",
              "      <th></th>\n",
              "      <th></th>\n",
              "      <th></th>\n",
              "    </tr>\n",
              "  </thead>\n",
              "  <tbody>\n",
              "    <tr>\n",
              "      <th>C</th>\n",
              "      <td>270</td>\n",
              "      <td>150</td>\n",
              "      <td>0.555556</td>\n",
              "    </tr>\n",
              "    <tr>\n",
              "      <th>Q</th>\n",
              "      <td>123</td>\n",
              "      <td>44</td>\n",
              "      <td>0.357724</td>\n",
              "    </tr>\n",
              "    <tr>\n",
              "      <th>S</th>\n",
              "      <td>914</td>\n",
              "      <td>304</td>\n",
              "      <td>0.332604</td>\n",
              "    </tr>\n",
              "  </tbody>\n",
              "</table>\n",
              "</div>"
            ],
            "text/plain": [
              "          Number of Passengers  Number of Survivors  Survival Percentage\n",
              "embarked                                                                \n",
              "C                          270                  150             0.555556\n",
              "Q                          123                   44             0.357724\n",
              "S                          914                  304             0.332604"
            ]
          },
          "metadata": {
            "tags": []
          },
          "execution_count": 18
        }
      ]
    },
    {
      "cell_type": "code",
      "metadata": {
        "colab": {
          "base_uri": "https://localhost:8080/",
          "height": 398
        },
        "id": "0YRZDDYs9XII",
        "outputId": "b0efee8f-231d-498c-e444-6ea0df9ec8c4"
      },
      "source": [
        "sns.catplot(data = df, kind = 'bar', x = df['embarked'].map({'C': 'Cherbourg', 'S':'Southampton', 'Q': 'Queenstown'}), y = 'survived', ci = None);\n",
        "plt.title('Survival Percentage by Port of Embarkation');\n",
        "plt.ylabel('Survival Rate');\n",
        "plt.xlabel('Port');\n"
      ],
      "execution_count": null,
      "outputs": [
        {
          "output_type": "display_data",
          "data": {
            "image/png": "[encoded data removed]",
            "text/plain": [
              "<Figure size 360x360 with 1 Axes>"
            ]
          },
          "metadata": {
            "tags": []
          }
        }
      ]
    },
    {
      "cell_type": "markdown",
      "metadata": {
        "id": "GLXnGw2QAtK2"
      },
      "source": [
        "We also see that a higher proportion of passengers embarking from Cherbourg were first class compared to the other two ports. This raises the question if the high survival rate can actually be attributed to the port itself, or whether it has more to do with correlation between port and passenger class.  Later we will show that passengers embarking from Cherbourg had a higher survival rate regardless of their class. "
      ]
    },
    {
      "cell_type": "markdown",
      "metadata": {
        "id": "906_JPkGTvbw"
      },
      "source": [
        " Distribution of Passengers by Port and Passenger Class"
      ]
    },
    {
      "cell_type": "code",
      "metadata": {
        "colab": {
          "base_uri": "https://localhost:8080/",
          "height": 359
        },
        "id": "U4eW-h977jy_",
        "outputId": "bd0a9b33-ea9e-41b7-dc6e-cf9e06408e68"
      },
      "source": [
        "df1 = df.pivot_table(values='survived',index=['embarked', 'pclass'], aggfunc = 'count')\n",
        "df1.columns = ['Count']\n",
        "df1"
      ],
      "execution_count": null,
      "outputs": [
        {
          "output_type": "execute_result",
          "data": {
            "text/html": [
              "<div>\n",
              "<style scoped>\n",
              "    .dataframe tbody tr th:only-of-type {\n",
              "        vertical-align: middle;\n",
              "    }\n",
              "\n",
              "    .dataframe tbody tr th {\n",
              "        vertical-align: top;\n",
              "    }\n",
              "\n",
              "    .dataframe thead th {\n",
              "        text-align: right;\n",
              "    }\n",
              "</style>\n",
              "<table border=\"1\" class=\"dataframe\">\n",
              "  <thead>\n",
              "    <tr style=\"text-align: right;\">\n",
              "      <th></th>\n",
              "      <th></th>\n",
              "      <th>Count</th>\n",
              "    </tr>\n",
              "    <tr>\n",
              "      <th>embarked</th>\n",
              "      <th>pclass</th>\n",
              "      <th></th>\n",
              "    </tr>\n",
              "  </thead>\n",
              "  <tbody>\n",
              "    <tr>\n",
              "      <th rowspan=\"3\" valign=\"top\">C</th>\n",
              "      <th>1</th>\n",
              "      <td>141</td>\n",
              "    </tr>\n",
              "    <tr>\n",
              "      <th>2</th>\n",
              "      <td>28</td>\n",
              "    </tr>\n",
              "    <tr>\n",
              "      <th>3</th>\n",
              "      <td>101</td>\n",
              "    </tr>\n",
              "    <tr>\n",
              "      <th rowspan=\"3\" valign=\"top\">Q</th>\n",
              "      <th>1</th>\n",
              "      <td>3</td>\n",
              "    </tr>\n",
              "    <tr>\n",
              "      <th>2</th>\n",
              "      <td>7</td>\n",
              "    </tr>\n",
              "    <tr>\n",
              "      <th>3</th>\n",
              "      <td>113</td>\n",
              "    </tr>\n",
              "    <tr>\n",
              "      <th rowspan=\"3\" valign=\"top\">S</th>\n",
              "      <th>1</th>\n",
              "      <td>177</td>\n",
              "    </tr>\n",
              "    <tr>\n",
              "      <th>2</th>\n",
              "      <td>242</td>\n",
              "    </tr>\n",
              "    <tr>\n",
              "      <th>3</th>\n",
              "      <td>495</td>\n",
              "    </tr>\n",
              "  </tbody>\n",
              "</table>\n",
              "</div>"
            ],
            "text/plain": [
              "                 Count\n",
              "embarked pclass       \n",
              "C        1         141\n",
              "         2          28\n",
              "         3         101\n",
              "Q        1           3\n",
              "         2           7\n",
              "         3         113\n",
              "S        1         177\n",
              "         2         242\n",
              "         3         495"
            ]
          },
          "metadata": {
            "tags": []
          },
          "execution_count": 20
        }
      ]
    },
    {
      "cell_type": "code",
      "metadata": {
        "colab": {
          "base_uri": "https://localhost:8080/",
          "height": 173
        },
        "id": "2bbCInynGulf",
        "outputId": "b2594bf7-921f-447f-d1a0-30376ce19a92"
      },
      "source": [
        "df.groupby(['pclass', 'embarked']).count()['survived'].unstack()"
      ],
      "execution_count": null,
      "outputs": [
        {
          "output_type": "execute_result",
          "data": {
            "text/html": [
              "<div>\n",
              "<style scoped>\n",
              "    .dataframe tbody tr th:only-of-type {\n",
              "        vertical-align: middle;\n",
              "    }\n",
              "\n",
              "    .dataframe tbody tr th {\n",
              "        vertical-align: top;\n",
              "    }\n",
              "\n",
              "    .dataframe thead th {\n",
              "        text-align: right;\n",
              "    }\n",
              "</style>\n",
              "<table border=\"1\" class=\"dataframe\">\n",
              "  <thead>\n",
              "    <tr style=\"text-align: right;\">\n",
              "      <th>embarked</th>\n",
              "      <th>C</th>\n",
              "      <th>Q</th>\n",
              "      <th>S</th>\n",
              "    </tr>\n",
              "    <tr>\n",
              "      <th>pclass</th>\n",
              "      <th></th>\n",
              "      <th></th>\n",
              "      <th></th>\n",
              "    </tr>\n",
              "  </thead>\n",
              "  <tbody>\n",
              "    <tr>\n",
              "      <th>1</th>\n",
              "      <td>141</td>\n",
              "      <td>3</td>\n",
              "      <td>177</td>\n",
              "    </tr>\n",
              "    <tr>\n",
              "      <th>2</th>\n",
              "      <td>28</td>\n",
              "      <td>7</td>\n",
              "      <td>242</td>\n",
              "    </tr>\n",
              "    <tr>\n",
              "      <th>3</th>\n",
              "      <td>101</td>\n",
              "      <td>113</td>\n",
              "      <td>495</td>\n",
              "    </tr>\n",
              "  </tbody>\n",
              "</table>\n",
              "</div>"
            ],
            "text/plain": [
              "embarked    C    Q    S\n",
              "pclass                 \n",
              "1         141    3  177\n",
              "2          28    7  242\n",
              "3         101  113  495"
            ]
          },
          "metadata": {
            "tags": []
          },
          "execution_count": 21
        }
      ]
    },
    {
      "cell_type": "markdown",
      "metadata": {
        "id": "qux1qNXoPiKV"
      },
      "source": [
        "#### **Familial Relationships (sibsp / parch)**"
      ]
    },
    {
      "cell_type": "code",
      "metadata": {
        "id": "DrUi3LQqGtwX"
      },
      "source": [
        ""
      ],
      "execution_count": null,
      "outputs": []
    },
    {
      "cell_type": "markdown",
      "metadata": {
        "id": "nR2d7wys6Bgd"
      },
      "source": [
        "First aspect to note is that 891 passengers did not have a sibling or a spouse, yet this demographic contributed to over 68 percent of the population. It is also interesting that the group with the highest survival rate had atleast a spouse or siblings on board the Titanic. Once we look at passnegers having 2 siblings or more, we see a decline in the survival rate."
      ]
    },
    {
      "cell_type": "markdown",
      "metadata": {
        "id": "ykJGHmfDT2U0"
      },
      "source": [
        "> Survival Percentage by Number of Companions"
      ]
    },
    {
      "cell_type": "code",
      "metadata": {
        "colab": {
          "base_uri": "https://localhost:8080/",
          "height": 173
        },
        "id": "dEOQmRnROUot",
        "outputId": "60f1fb54-ab64-4a31-cdba-5b95209c2d8f"
      },
      "source": [
        "group_names = ['Alone', '1-2 companions', 'more than 2 companions']\n",
        "ranges = [-1,0,2, np.inf]\n",
        "df['sibsp_group'] = pd.cut(df['sibsp'], bins = ranges, labels = group_names)\n",
        "df.pivot_table(values='survived', index = 'sibsp_group')"
      ],
      "execution_count": null,
      "outputs": [
        {
          "output_type": "execute_result",
          "data": {
            "text/html": [
              "<div>\n",
              "<style scoped>\n",
              "    .dataframe tbody tr th:only-of-type {\n",
              "        vertical-align: middle;\n",
              "    }\n",
              "\n",
              "    .dataframe tbody tr th {\n",
              "        vertical-align: top;\n",
              "    }\n",
              "\n",
              "    .dataframe thead th {\n",
              "        text-align: right;\n",
              "    }\n",
              "</style>\n",
              "<table border=\"1\" class=\"dataframe\">\n",
              "  <thead>\n",
              "    <tr style=\"text-align: right;\">\n",
              "      <th></th>\n",
              "      <th>survived</th>\n",
              "    </tr>\n",
              "    <tr>\n",
              "      <th>sibsp_group</th>\n",
              "      <th></th>\n",
              "    </tr>\n",
              "  </thead>\n",
              "  <tbody>\n",
              "    <tr>\n",
              "      <th>Alone</th>\n",
              "      <td>0.346801</td>\n",
              "    </tr>\n",
              "    <tr>\n",
              "      <th>1-2 companions</th>\n",
              "      <td>0.504155</td>\n",
              "    </tr>\n",
              "    <tr>\n",
              "      <th>more than 2 companions</th>\n",
              "      <td>0.157895</td>\n",
              "    </tr>\n",
              "  </tbody>\n",
              "</table>\n",
              "</div>"
            ],
            "text/plain": [
              "                        survived\n",
              "sibsp_group                     \n",
              "Alone                   0.346801\n",
              "1-2 companions          0.504155\n",
              "more than 2 companions  0.157895"
            ]
          },
          "metadata": {
            "tags": []
          },
          "execution_count": 22
        }
      ]
    },
    {
      "cell_type": "code",
      "metadata": {
        "colab": {
          "base_uri": "https://localhost:8080/",
          "height": 301
        },
        "id": "j47kl7ROPrYB",
        "outputId": "830424b9-2fd8-4e52-ed70-0f6414c7f187"
      },
      "source": [
        "df.pivot_table(values='survived', index = 'sibsp').plot(kind = 'bar');\n",
        "plt.title('Survival Percentage by Sibsp Group');\n",
        "plt.xticks(rotation=0)\n",
        "plt.xlabel('Number of Siblings/Spouses');\n",
        "plt.ylabel('Survival Rate');\n",
        "# sns.set_style(\"darkgrid\")"
      ],
      "execution_count": null,
      "outputs": [
        {
          "output_type": "display_data",
          "data": {
            "image/png": "[encoded data removed]",
            "text/plain": [
              "<Figure size 432x288 with 1 Axes>"
            ]
          },
          "metadata": {
            "tags": []
          }
        }
      ]
    },
    {
      "cell_type": "code",
      "metadata": {
        "id": "1zMW9kKpPraq"
      },
      "source": [
        ""
      ],
      "execution_count": null,
      "outputs": []
    },
    {
      "cell_type": "code",
      "metadata": {
        "id": "xFwcaUU8PrVa"
      },
      "source": [
        ""
      ],
      "execution_count": null,
      "outputs": []
    },
    {
      "cell_type": "markdown",
      "metadata": {
        "id": "ui0Afs7R0qN8"
      },
      "source": [
        "### **Correlation Between Features**"
      ]
    },
    {
      "cell_type": "markdown",
      "metadata": {
        "id": "oV3P-ze61SpU"
      },
      "source": [
        "> Can we make meaningful observations about the relationships between our features, and use this to improve our analysis or classification model?"
      ]
    },
    {
      "cell_type": "code",
      "metadata": {
        "colab": {
          "base_uri": "https://localhost:8080/",
          "height": 297
        },
        "id": "XbdutakHt2fg",
        "outputId": "42b71499-7bdd-41cc-d473-4603bc6e1ff2"
      },
      "source": [
        "co = df.copy()\n",
        "co['sex'] = co['sex'].map({'male':0, 'female':1}) \n",
        "co['pclass'] = co['pclass'].map({1:3, 2:2, 3:1})    #switched numbering of passenger classes for correlation calc\n",
        "\n",
        "corr = co.corr()\n",
        "corr"
      ],
      "execution_count": null,
      "outputs": [
        {
          "output_type": "execute_result",
          "data": {
            "text/html": [
              "<div>\n",
              "<style scoped>\n",
              "    .dataframe tbody tr th:only-of-type {\n",
              "        vertical-align: middle;\n",
              "    }\n",
              "\n",
              "    .dataframe tbody tr th {\n",
              "        vertical-align: top;\n",
              "    }\n",
              "\n",
              "    .dataframe thead th {\n",
              "        text-align: right;\n",
              "    }\n",
              "</style>\n",
              "<table border=\"1\" class=\"dataframe\">\n",
              "  <thead>\n",
              "    <tr style=\"text-align: right;\">\n",
              "      <th></th>\n",
              "      <th>pclass</th>\n",
              "      <th>survived</th>\n",
              "      <th>sex</th>\n",
              "      <th>age</th>\n",
              "      <th>sibsp</th>\n",
              "      <th>parch</th>\n",
              "      <th>fare</th>\n",
              "      <th>body</th>\n",
              "    </tr>\n",
              "  </thead>\n",
              "  <tbody>\n",
              "    <tr>\n",
              "      <th>pclass</th>\n",
              "      <td>1.000000</td>\n",
              "      <td>0.312469</td>\n",
              "      <td>0.124617</td>\n",
              "      <td>0.408106</td>\n",
              "      <td>-0.060832</td>\n",
              "      <td>-0.018322</td>\n",
              "      <td>0.558629</td>\n",
              "      <td>0.034642</td>\n",
              "    </tr>\n",
              "    <tr>\n",
              "      <th>survived</th>\n",
              "      <td>0.312469</td>\n",
              "      <td>1.000000</td>\n",
              "      <td>0.528693</td>\n",
              "      <td>-0.055513</td>\n",
              "      <td>-0.027825</td>\n",
              "      <td>0.082660</td>\n",
              "      <td>0.244265</td>\n",
              "      <td>NaN</td>\n",
              "    </tr>\n",
              "    <tr>\n",
              "      <th>sex</th>\n",
              "      <td>0.124617</td>\n",
              "      <td>0.528693</td>\n",
              "      <td>1.000000</td>\n",
              "      <td>-0.063646</td>\n",
              "      <td>0.109609</td>\n",
              "      <td>0.213125</td>\n",
              "      <td>0.185523</td>\n",
              "      <td>0.015903</td>\n",
              "    </tr>\n",
              "    <tr>\n",
              "      <th>age</th>\n",
              "      <td>0.408106</td>\n",
              "      <td>-0.055513</td>\n",
              "      <td>-0.063646</td>\n",
              "      <td>1.000000</td>\n",
              "      <td>-0.243699</td>\n",
              "      <td>-0.150917</td>\n",
              "      <td>0.178739</td>\n",
              "      <td>0.058809</td>\n",
              "    </tr>\n",
              "    <tr>\n",
              "      <th>sibsp</th>\n",
              "      <td>-0.060832</td>\n",
              "      <td>-0.027825</td>\n",
              "      <td>0.109609</td>\n",
              "      <td>-0.243699</td>\n",
              "      <td>1.000000</td>\n",
              "      <td>0.373587</td>\n",
              "      <td>0.160238</td>\n",
              "      <td>-0.099961</td>\n",
              "    </tr>\n",
              "    <tr>\n",
              "      <th>parch</th>\n",
              "      <td>-0.018322</td>\n",
              "      <td>0.082660</td>\n",
              "      <td>0.213125</td>\n",
              "      <td>-0.150917</td>\n",
              "      <td>0.373587</td>\n",
              "      <td>1.000000</td>\n",
              "      <td>0.221539</td>\n",
              "      <td>0.051099</td>\n",
              "    </tr>\n",
              "    <tr>\n",
              "      <th>fare</th>\n",
              "      <td>0.558629</td>\n",
              "      <td>0.244265</td>\n",
              "      <td>0.185523</td>\n",
              "      <td>0.178739</td>\n",
              "      <td>0.160238</td>\n",
              "      <td>0.221539</td>\n",
              "      <td>1.000000</td>\n",
              "      <td>-0.043110</td>\n",
              "    </tr>\n",
              "    <tr>\n",
              "      <th>body</th>\n",
              "      <td>0.034642</td>\n",
              "      <td>NaN</td>\n",
              "      <td>0.015903</td>\n",
              "      <td>0.058809</td>\n",
              "      <td>-0.099961</td>\n",
              "      <td>0.051099</td>\n",
              "      <td>-0.043110</td>\n",
              "      <td>1.000000</td>\n",
              "    </tr>\n",
              "  </tbody>\n",
              "</table>\n",
              "</div>"
            ],
            "text/plain": [
              "            pclass  survived       sex  ...     parch      fare      body\n",
              "pclass    1.000000  0.312469  0.124617  ... -0.018322  0.558629  0.034642\n",
              "survived  0.312469  1.000000  0.528693  ...  0.082660  0.244265       NaN\n",
              "sex       0.124617  0.528693  1.000000  ...  0.213125  0.185523  0.015903\n",
              "age       0.408106 -0.055513 -0.063646  ... -0.150917  0.178739  0.058809\n",
              "sibsp    -0.060832 -0.027825  0.109609  ...  0.373587  0.160238 -0.099961\n",
              "parch    -0.018322  0.082660  0.213125  ...  1.000000  0.221539  0.051099\n",
              "fare      0.558629  0.244265  0.185523  ...  0.221539  1.000000 -0.043110\n",
              "body      0.034642       NaN  0.015903  ...  0.051099 -0.043110  1.000000\n",
              "\n",
              "[8 rows x 8 columns]"
            ]
          },
          "metadata": {
            "tags": []
          },
          "execution_count": 24
        }
      ]
    },
    {
      "cell_type": "code",
      "metadata": {
        "colab": {
          "base_uri": "https://localhost:8080/",
          "height": 556
        },
        "id": "skrfYW7xuQ_y",
        "outputId": "9256ffc6-3efc-499f-9644-d81691b0da1b"
      },
      "source": [
        "sns.set_style('white')\n",
        "\n",
        "mask = np.triu(np.ones_like(corr, dtype=bool))  \n",
        "\n",
        "f, ax = plt.subplots(figsize=(11, 9))\n",
        "cmap = sns.diverging_palette(230, 20, as_cmap=True)\n",
        "sns.heatmap(corr,  mask=mask,cmap=cmap, vmax=.6, center=0,\n",
        "            square=True, linewidths=.55, cbar_kws={\"shrink\": .5});\n",
        "plt.title('Correlation Matrix')\n",
        "plt.show()"
      ],
      "execution_count": null,
      "outputs": [
        {
          "output_type": "display_data",
          "data": {
            "image/png": "[encoded data removed]",
            "text/plain": [
              "<Figure size 792x648 with 2 Axes>"
            ]
          },
          "metadata": {
            "tags": []
          }
        }
      ]
    },
    {
      "cell_type": "markdown",
      "metadata": {
        "id": "yIF4uo0kHINy"
      },
      "source": [
        "Very high positive correlation between: \n",
        "* Sex and survived - Shows how important sex feature is for prediction.\n",
        "* Age and pclass (1st class passengers are more likely to be older) - Might explain why age didn't have strong predictive value we expected. \n",
        "* Fare and pclass - Makes sense that higher class tickets cost more. We need to further explore this relationship to determine the predictive power of fare.\n"
      ]
    },
    {
      "cell_type": "markdown",
      "metadata": {
        "id": "QTfBa9Hp2-Nr"
      },
      "source": [
        "#### Age vs Passenger Class"
      ]
    },
    {
      "cell_type": "markdown",
      "metadata": {
        "id": "LNDm42xM77cA"
      },
      "source": [
        "> Average age by passenger class:"
      ]
    },
    {
      "cell_type": "code",
      "metadata": {
        "colab": {
          "base_uri": "https://localhost:8080/",
          "height": 173
        },
        "id": "WbU5OaIy5zDs",
        "outputId": "a534e21a-c1e2-4a70-df2a-d6393d01b6b4"
      },
      "source": [
        "df.pivot_table(values = 'age', index = 'pclass')"
      ],
      "execution_count": null,
      "outputs": [
        {
          "output_type": "execute_result",
          "data": {
            "text/html": [
              "<div>\n",
              "<style scoped>\n",
              "    .dataframe tbody tr th:only-of-type {\n",
              "        vertical-align: middle;\n",
              "    }\n",
              "\n",
              "    .dataframe tbody tr th {\n",
              "        vertical-align: top;\n",
              "    }\n",
              "\n",
              "    .dataframe thead th {\n",
              "        text-align: right;\n",
              "    }\n",
              "</style>\n",
              "<table border=\"1\" class=\"dataframe\">\n",
              "  <thead>\n",
              "    <tr style=\"text-align: right;\">\n",
              "      <th></th>\n",
              "      <th>age</th>\n",
              "    </tr>\n",
              "    <tr>\n",
              "      <th>pclass</th>\n",
              "      <th></th>\n",
              "    </tr>\n",
              "  </thead>\n",
              "  <tbody>\n",
              "    <tr>\n",
              "      <th>1</th>\n",
              "      <td>39.159918</td>\n",
              "    </tr>\n",
              "    <tr>\n",
              "      <th>2</th>\n",
              "      <td>29.506705</td>\n",
              "    </tr>\n",
              "    <tr>\n",
              "      <th>3</th>\n",
              "      <td>24.816367</td>\n",
              "    </tr>\n",
              "  </tbody>\n",
              "</table>\n",
              "</div>"
            ],
            "text/plain": [
              "              age\n",
              "pclass           \n",
              "1       39.159918\n",
              "2       29.506705\n",
              "3       24.816367"
            ]
          },
          "metadata": {
            "tags": []
          },
          "execution_count": 26
        }
      ]
    },
    {
      "cell_type": "markdown",
      "metadata": {
        "id": "MrwE7WhC8Dta"
      },
      "source": [
        "First class passengers are on average almost 10 years older than second class passengers, and 15 years older than third class passengers. <br >\n",
        "\n",
        "> Indented block\n",
        "\n",
        "\n",
        "Since the older first class had the highest survival percentage, are we underestimating the predictive value of age when we just look at survival rates of passengers as a whole? <br > \n",
        "We broke out the distribution of age by passenger class to get a better understanding."
      ]
    },
    {
      "cell_type": "code",
      "metadata": {
        "colab": {
          "base_uri": "https://localhost:8080/",
          "height": 564
        },
        "id": "F25VaoVxZSkw",
        "outputId": "2c35e0d1-2cb5-4741-f30f-f7bfb3de65e7"
      },
      "source": [
        "sns.set_style('darkgrid')\n",
        "g = sns.catplot(data = df, y = 'age', x = 'pclass', kind = 'swarm', hue = 'survived',height=7.5, aspect=7/8);\n",
        "plt.axhline(18, color=\"k\", linestyle=\"--\", alpha=1);\n",
        "g.fig.suptitle('Distribution of Age by Passenger Class')\n",
        "plt.show()"
      ],
      "execution_count": null,
      "outputs": [
        {
          "output_type": "display_data",
          "data": {
            "image/png": "[encoded data removed]",
            "text/plain": [
              "<Figure size 532.925x540 with 1 Axes>"
            ]
          },
          "metadata": {
            "tags": []
          }
        }
      ]
    },
    {
      "cell_type": "markdown",
      "metadata": {
        "id": "xrqHlovAMr3-"
      },
      "source": [
        "> Survival by passenger class and age group:\n",
        "\n",
        "\n",
        "\n"
      ]
    },
    {
      "cell_type": "code",
      "metadata": {
        "colab": {
          "base_uri": "https://localhost:8080/",
          "height": 167
        },
        "id": "N6hkjxQLPsKL",
        "outputId": "62bea869-dffe-4e4f-93f0-c144dd345651"
      },
      "source": [
        "df_p = df[df['age'] < 18].pivot_table(values = 'survived', index = 'pclass')\n",
        "df_p.columns = ['Child']\n",
        "df_p['Adult'] = df[df['age'] >= 18].pivot_table(values = 'survived', index = 'pclass')\n",
        "df_p['Difference'] = df_p['Child'] - df_p['Adult']\n",
        "df_p"
      ],
      "execution_count": null,
      "outputs": [
        {
          "output_type": "execute_result",
          "data": {
            "text/html": [
              "<div>\n",
              "<style scoped>\n",
              "    .dataframe tbody tr th:only-of-type {\n",
              "        vertical-align: middle;\n",
              "    }\n",
              "\n",
              "    .dataframe tbody tr th {\n",
              "        vertical-align: top;\n",
              "    }\n",
              "\n",
              "    .dataframe thead th {\n",
              "        text-align: right;\n",
              "    }\n",
              "</style>\n",
              "<table border=\"1\" class=\"dataframe\">\n",
              "  <thead>\n",
              "    <tr style=\"text-align: right;\">\n",
              "      <th></th>\n",
              "      <th>Child</th>\n",
              "      <th>Adult</th>\n",
              "      <th>Difference</th>\n",
              "    </tr>\n",
              "    <tr>\n",
              "      <th>pclass</th>\n",
              "      <th></th>\n",
              "      <th></th>\n",
              "      <th></th>\n",
              "    </tr>\n",
              "  </thead>\n",
              "  <tbody>\n",
              "    <tr>\n",
              "      <th>1</th>\n",
              "      <td>0.866667</td>\n",
              "      <td>0.624535</td>\n",
              "      <td>0.242131</td>\n",
              "    </tr>\n",
              "    <tr>\n",
              "      <th>2</th>\n",
              "      <td>0.878788</td>\n",
              "      <td>0.377193</td>\n",
              "      <td>0.501595</td>\n",
              "    </tr>\n",
              "    <tr>\n",
              "      <th>3</th>\n",
              "      <td>0.367925</td>\n",
              "      <td>0.232911</td>\n",
              "      <td>0.135013</td>\n",
              "    </tr>\n",
              "  </tbody>\n",
              "</table>\n",
              "</div>"
            ],
            "text/plain": [
              "           Child     Adult  Difference\n",
              "pclass                                \n",
              "1       0.866667  0.624535    0.242131\n",
              "2       0.878788  0.377193    0.501595\n",
              "3       0.367925  0.232911    0.135013"
            ]
          },
          "metadata": {
            "tags": []
          },
          "execution_count": 5
        }
      ]
    },
    {
      "cell_type": "markdown",
      "metadata": {
        "id": "WpLkEX2NIPBB"
      },
      "source": [
        "Here we see that for each passenger class, being under the age of 18 results in a higher chance of survival."
      ]
    },
    {
      "cell_type": "markdown",
      "metadata": {
        "id": "_1TQrM4dJ9c8"
      },
      "source": [
        "Our visualization also shows that a majority of passengers under the age of 18 were in 3rd class, which would drag down the survival rate of the age group as a whole."
      ]
    },
    {
      "cell_type": "markdown",
      "metadata": {
        "id": "IbBkzWeyMbzQ"
      },
      "source": [
        "> Distribution of passenger class for child passengers:"
      ]
    },
    {
      "cell_type": "code",
      "metadata": {
        "colab": {
          "base_uri": "https://localhost:8080/"
        },
        "id": "9f2lIofMAs04",
        "outputId": "e553cb9d-d593-4bb8-ebef-e971859cc98f"
      },
      "source": [
        "df[df['age'] < 18 ]['pclass'].value_counts(normalize=True) * 100"
      ],
      "execution_count": null,
      "outputs": [
        {
          "output_type": "execute_result",
          "data": {
            "text/plain": [
              "3    68.831169\n",
              "2    21.428571\n",
              "1     9.740260\n",
              "Name: pclass, dtype: float64"
            ]
          },
          "metadata": {
            "tags": []
          },
          "execution_count": 10
        }
      ]
    },
    {
      "cell_type": "markdown",
      "metadata": {
        "id": "NPImpGBpKN5k"
      },
      "source": [
        "When viewed independently from passenger class, we see that age is a powerful predictor of survival."
      ]
    },
    {
      "cell_type": "code",
      "metadata": {
        "id": "TWVJhu6uNIAt"
      },
      "source": [
        ""
      ],
      "execution_count": null,
      "outputs": []
    },
    {
      "cell_type": "code",
      "metadata": {
        "id": "Nl2231ciNJgK"
      },
      "source": [
        ""
      ],
      "execution_count": null,
      "outputs": []
    },
    {
      "cell_type": "markdown",
      "metadata": {
        "id": "40nlKM9p4V3n"
      },
      "source": [
        "#### Fare vs Passenger Class"
      ]
    },
    {
      "cell_type": "markdown",
      "metadata": {
        "id": "M8Owc61BMHxL"
      },
      "source": [
        "We previously found that a higher fare was associated with a higher rate of survival. But was that effect more reflective of 1st class passengers paying higher fares? "
      ]
    },
    {
      "cell_type": "code",
      "metadata": {
        "colab": {
          "base_uri": "https://localhost:8080/",
          "height": 301
        },
        "id": "Gr9Kwbqz3Xsy",
        "outputId": "162c36f6-c081-4b39-a408-fd6fe1176b2e"
      },
      "source": [
        "sns.set_style('dark')\n",
        "sns.histplot(data = df[ df['pclass'] == 1], x = 'fare', hue = 'survived');\n",
        "plt.title('First class passenger survival by fare');"
      ],
      "execution_count": null,
      "outputs": [
        {
          "output_type": "display_data",
          "data": {
            "image/png": "[encoded data removed]",
            "text/plain": [
              "<Figure size 432x288 with 1 Axes>"
            ]
          },
          "metadata": {
            "tags": []
          }
        }
      ]
    },
    {
      "cell_type": "markdown",
      "metadata": {
        "id": "2Sp8czeXN70Y"
      },
      "source": [
        "Here we see that among all first class passengers, higher fares are associated with greater chance of survival."
      ]
    },
    {
      "cell_type": "code",
      "metadata": {
        "colab": {
          "base_uri": "https://localhost:8080/",
          "height": 301
        },
        "id": "L-cUbz2Xqajl",
        "outputId": "bfff9b8c-b499-4515-9560-1763923c5051"
      },
      "source": [
        "sns.histplot(data = df[ df['pclass'] == 2], x = 'fare', hue = 'survived');\n",
        "plt.title('Second class passenger survival by fare');"
      ],
      "execution_count": null,
      "outputs": [
        {
          "output_type": "display_data",
          "data": {
            "image/png": "[encoded data removed]",
            "text/plain": [
              "<Figure size 432x288 with 1 Axes>"
            ]
          },
          "metadata": {
            "tags": []
          }
        }
      ]
    },
    {
      "cell_type": "code",
      "metadata": {
        "colab": {
          "base_uri": "https://localhost:8080/",
          "height": 301
        },
        "id": "JOh_dq1LqadY",
        "outputId": "bbcb7b81-cbc5-45f1-a663-416e352648f7"
      },
      "source": [
        "sns.histplot(data = df[ df['pclass'] == 3], x = 'fare', hue = 'survived', bins = 10);\n",
        "plt.title('Third class passenger survival by fare');"
      ],
      "execution_count": null,
      "outputs": [
        {
          "output_type": "display_data",
          "data": {
            "image/png": "[encoded data removed]",
            "text/plain": [
              "<Figure size 432x288 with 1 Axes>"
            ]
          },
          "metadata": {
            "tags": []
          }
        }
      ]
    },
    {
      "cell_type": "markdown",
      "metadata": {
        "id": "_4sMA_E4QXvt"
      },
      "source": [
        "For second and third class passengers, the effect is not as profound, but we can still see that passengers paying higher fares are more likely to survive regardless of their passenger class."
      ]
    },
    {
      "cell_type": "markdown",
      "metadata": {
        "id": "z44b8aGVGxMx"
      },
      "source": [
        "#### Port of Embarkation vs Passenger Class"
      ]
    },
    {
      "cell_type": "code",
      "metadata": {
        "colab": {
          "base_uri": "https://localhost:8080/",
          "height": 431
        },
        "id": "GpGF4RDkG4rl",
        "outputId": "476b12b6-48a5-4448-dc68-fab86684620c"
      },
      "source": [
        "sns.set_style('darkgrid')\n",
        "g= sns.catplot(data = df, x = 'pclass', kind = 'count', col = 'embarked', col_order = ['C', 'S', 'Q']);\n",
        "g.fig.suptitle('Distributon of Passenger Class by Port of Embarkation', y = 1.1);\n",
        "g.set(xlabel = 'Passenger Class', ylabel = 'Count');"
      ],
      "execution_count": null,
      "outputs": [
        {
          "output_type": "display_data",
          "data": {
            "image/png": "[encoded data removed]",
            "text/plain": [
              "<Figure size 1080x360 with 3 Axes>"
            ]
          },
          "metadata": {
            "tags": []
          }
        }
      ]
    },
    {
      "cell_type": "markdown",
      "metadata": {
        "id": "H_PUI6NGQ2mh"
      },
      "source": [
        "We saw earlier that passengers embarking from Cherbourg had the highest rate of survival. However this chart also shows that these passengers were much more likely to be first class than either of the other ports. Does this skew the survival rate by port? To find out, we broke out the survival rates by passenger class below."
      ]
    },
    {
      "cell_type": "code",
      "metadata": {
        "id": "JmXXa5iCG4y8"
      },
      "source": [
        ""
      ],
      "execution_count": null,
      "outputs": []
    },
    {
      "cell_type": "markdown",
      "metadata": {
        "id": "BusGF-pjUXVE"
      },
      "source": [
        "> Survival Percentage by Port and Passenger Class:"
      ]
    },
    {
      "cell_type": "code",
      "metadata": {
        "colab": {
          "base_uri": "https://localhost:8080/",
          "height": 173
        },
        "id": "n7ctHhj2PsH7",
        "outputId": "6756667d-24d6-4a2a-98cf-1fd54d58678e"
      },
      "source": [
        "dfch = df[df['embarked'] == 'C'].pivot_table(values='survived',index='pclass')\n",
        "dfch['Other Port'] = df[df['embarked'].isin(['S', 'Q'])].pivot_table(values = 'survived', index = 'pclass')\n",
        "dfch.columns = ['Cherbourg Surival Rate', 'Other Ports Survival Rate']\n",
        "dfch['Difference'] = dfch['Cherbourg Surival Rate']- dfch['Other Ports Survival Rate']\n",
        "dfch"
      ],
      "execution_count": null,
      "outputs": [
        {
          "output_type": "execute_result",
          "data": {
            "text/html": [
              "<div>\n",
              "<style scoped>\n",
              "    .dataframe tbody tr th:only-of-type {\n",
              "        vertical-align: middle;\n",
              "    }\n",
              "\n",
              "    .dataframe tbody tr th {\n",
              "        vertical-align: top;\n",
              "    }\n",
              "\n",
              "    .dataframe thead th {\n",
              "        text-align: right;\n",
              "    }\n",
              "</style>\n",
              "<table border=\"1\" class=\"dataframe\">\n",
              "  <thead>\n",
              "    <tr style=\"text-align: right;\">\n",
              "      <th></th>\n",
              "      <th>Cherbourg Surival Rate</th>\n",
              "      <th>Other Ports Survival Rate</th>\n",
              "      <th>Difference</th>\n",
              "    </tr>\n",
              "    <tr>\n",
              "      <th>pclass</th>\n",
              "      <th></th>\n",
              "      <th></th>\n",
              "      <th></th>\n",
              "    </tr>\n",
              "  </thead>\n",
              "  <tbody>\n",
              "    <tr>\n",
              "      <th>1</th>\n",
              "      <td>0.687943</td>\n",
              "      <td>0.561111</td>\n",
              "      <td>0.126832</td>\n",
              "    </tr>\n",
              "    <tr>\n",
              "      <th>2</th>\n",
              "      <td>0.571429</td>\n",
              "      <td>0.413655</td>\n",
              "      <td>0.157774</td>\n",
              "    </tr>\n",
              "    <tr>\n",
              "      <th>3</th>\n",
              "      <td>0.366337</td>\n",
              "      <td>0.236842</td>\n",
              "      <td>0.129495</td>\n",
              "    </tr>\n",
              "  </tbody>\n",
              "</table>\n",
              "</div>"
            ],
            "text/plain": [
              "        Cherbourg Surival Rate  Other Ports Survival Rate  Difference\n",
              "pclass                                                               \n",
              "1                     0.687943                   0.561111    0.126832\n",
              "2                     0.571429                   0.413655    0.157774\n",
              "3                     0.366337                   0.236842    0.129495"
            ]
          },
          "metadata": {
            "tags": []
          },
          "execution_count": 44
        }
      ]
    },
    {
      "cell_type": "markdown",
      "metadata": {
        "id": "3lZ0Qb64G8cm"
      },
      "source": [
        "This table shows that passengers who embarked from Cherbourg had a higher survival percentage than the other two ports, regardless of their class."
      ]
    },
    {
      "cell_type": "code",
      "metadata": {
        "colab": {
          "base_uri": "https://localhost:8080/"
        },
        "id": "i9w9CDiyWoVy",
        "outputId": "2eddfafe-ffae-4a2f-f797-7157a0974910"
      },
      "source": [
        "import scipy as scipy\n",
        "# 1st class C vs non-C embark survival diff significance\n",
        "scipy.stats.ttest_ind(pd.array(df.loc[(df['embarked'] == 'C')&(df['pclass']==1)]['survived']),pd.array(df.loc[(df['embarked'] != 'C')&(df['pclass']==1)]['survived']))"
      ],
      "execution_count": null,
      "outputs": [
        {
          "output_type": "execute_result",
          "data": {
            "text/plain": [
              "Ttest_indResult(statistic=2.2502008937937505, pvalue=0.025113026592709285)"
            ]
          },
          "metadata": {
            "tags": []
          },
          "execution_count": 56
        }
      ]
    },
    {
      "cell_type": "code",
      "metadata": {
        "colab": {
          "base_uri": "https://localhost:8080/"
        },
        "id": "BHIBWJ4rX3Fg",
        "outputId": "410e822c-940a-4008-b205-8606f109f419"
      },
      "source": [
        "#2nd class\n",
        "scipy.stats.ttest_ind(pd.array(df.loc[(df['embarked'] == 'C')&(df['pclass']==2)]['survived']),pd.array(df.loc[(df['embarked'] != 'C')&(df['pclass']==2)]['survived']))"
      ],
      "execution_count": null,
      "outputs": [
        {
          "output_type": "execute_result",
          "data": {
            "text/plain": [
              "Ttest_indResult(statistic=1.6006338547131405, pvalue=0.11060616262531942)"
            ]
          },
          "metadata": {
            "tags": []
          },
          "execution_count": 57
        }
      ]
    },
    {
      "cell_type": "code",
      "metadata": {
        "colab": {
          "base_uri": "https://localhost:8080/"
        },
        "id": "lf5igp7lY6If",
        "outputId": "8faa3551-bb56-4714-d10f-c52e3027e66c"
      },
      "source": [
        "#3rd class\n",
        "scipy.stats.ttest_ind(pd.array(df.loc[(df['embarked'] == 'C')&(df['pclass']==3)]['survived']),pd.array(df.loc[(df['embarked'] != 'C')&(df['pclass']==3)]['survived']))"
      ],
      "execution_count": null,
      "outputs": [
        {
          "output_type": "execute_result",
          "data": {
            "text/plain": [
              "Ttest_indResult(statistic=2.7750435335378465, pvalue=0.005665227602576919)"
            ]
          },
          "metadata": {
            "tags": []
          },
          "execution_count": 58
        }
      ]
    },
    {
      "cell_type": "markdown",
      "metadata": {
        "id": "g4BOZhpgwBBG"
      },
      "source": [
        "## **Machine Learning**\n",
        "\n",
        "For this iteration of the machine learning section, we decided to make a class called project, which would handle the preprocessing steps, as well as train two different algorithms, Logistic Regression and XGBoost, which stands for Extreme Gradient Boosting Trees. \\\n",
        "\n",
        "\n",
        "### **Preprocessing**\n",
        "For preprocessing, methods depended on the type of model the user decides to use. If linear_model == True, then our preprocessing steps are going to be similar to when we worked on BigQuery: we One Hot Encoded the pclass, sex, and embarked section, kept the numerical features on their same scale. One thing we tried differently was creating a family feature that was the summation of the Sibsp and Parch features. All other features were dropped.\n",
        "If linear_model == False, then we took a slightly different approach to preprocessing our data. We still created the family feature, and dropped irrelevant columns, however we tried to fill in the null values of the cabin, as well as not create One Hot Encodings of the categorical features. The reason we are even working with the cabin feature is because one of the properties of XGBoost is that it can handle null values. First we readjusted the cabin feature to be labels; we took our the letter in the cabin value and reassigned them to a label. For the null values, we gave them a label of 0, but the non-null values received a label between 1-7. We also decided against using one hot encoding because for Tree Based methods, it is better for these models to split on nodes based on the labels, it helps the Tree method perforrm better with rarer categories ( the non-null values of cabin for instance) and helps the Tree methods make fewer splits. \n",
        "\n",
        "### **Performance**\n",
        "After creating and evaluating our model, how can we tune and re-train it to increase the accuracy of predictions?\n",
        "\n",
        "For the LogisticRegression, we still used L1 regularization, but we also used an algorithm called GridSearchCV for hyperparameter tuning, in order to find the right combination of hyperparameters for the model to perform the best. Finally unlike the BigQuery model, we used a straify parameter within the train_test_split function in order to keep the class distribution the same as in the training set; in BigQuery, the splitting of the data was done by random and did not take class distribution into account. \\\n",
        "\n",
        "With this iteration of the LogisticRegression model, here are the metrics: \n",
        "\n",
        "accuracy: **79.8%** \\\n",
        "precision: **77%**\t\\\n",
        "recal': **67.2%** \\\n",
        "f1_score: **71.8%** \\\n",
        "roc_auc: **77.4%** \\\n",
        "\n",
        "We performed very similar to the model produced in BigQuery; our recall improved by 6 percent, while our precision dropped by 6 percent and our roc_auc dropped by 7 percent. Interestingly enough our F1-score remained the same. Therefore, even though the model did not generate features that were more likely to seperate the data, it still is just as good as the model done in the cloud.  \n",
        "\n",
        "Now here is the performance of the XGBoost model: \n",
        "\n",
        "accuracy: **82%** \\\n",
        "precision: **83.7%**\t\\\n",
        "recall: **65.6%** \\\n",
        "f1_score: **73.5%** \\\n",
        "roc_auc: **78.9%** \\\n",
        "\n",
        "In comparison to both Logistic Regression models, this model performs slightly better with a higher f1-score. This model was able to capture around the same metrics of precision and accuracy as BigQuery model , while having a higher AUC or the ROC curve in comparison the the Logistic Regression trained in python. The one interesting not with these metrics is that the XGBoost had a hard time trying to understand passengers who did not survive, and this could have been because of the inclusion of the cabin feature, but one could check feature importance or use SHAP values to see how big of a role cabin played.\n",
        "\n",
        "### **Cross Validation Results: How do the models compare?**\n",
        "\n",
        "As stated, with GridSearch, where we are able to find the cominbation of hyperparameters that achieved the best results on each of the validation sets , where we have 5 - fold validation. With the cells in the Cross Validation scores section, we have the best performing hyperparameters for the Logistic Regression and XGBoost model we have. First thing to notice is that the Logistic Regression model had the hightest overall test score on all of the cross validation sets, but we can see that the XGBoost model was able to consistently achieve over 80 percent on 4 out of the 5 splits ; this is also seen with the standard deviation of the test scores being lower in comparison to the Logistic Regression model as well. \n",
        "\n",
        "Some more information that we can see from the following series is that with the Logistic Regression model is that there were 30 combinations of hyperparameters that achieved the average test scores, where as the XGBoost model only had 2 models that have achieved the average test scores. That alone tells us a couple of things. First is that overall, the Logistic Regression model with certain hyperparameters that are within a certain range are all capable of performing the same and converge to the best possible scroes. On the otherhand, we can see that hyperparameter tuning significantly improved the XGBoost model, we the limitied amount of comibnations of rank 1 scores means that the slightest tuning of features improved the performance of the model.\n",
        "\n",
        "Overall between the two models, in a real world scenario, we would most likely use the XGBoost model, as it has a higher test accuracy in comparison to the Logistic Regression, for both the validation sets as well as the test set.\n"
      ]
    },
    {
      "cell_type": "markdown",
      "metadata": {
        "id": "eJ_NkoAlUJ0Q"
      },
      "source": [
        "### **\"Project\" Python Class**"
      ]
    },
    {
      "cell_type": "code",
      "metadata": {
        "colab": {
          "base_uri": "https://localhost:8080/"
        },
        "id": "W_i8zlcryM6c",
        "outputId": "120086ad-b691-4507-e3f4-2ea71066a31a"
      },
      "source": [
        "!pip install shap"
      ],
      "execution_count": 5,
      "outputs": [
        {
          "output_type": "stream",
          "text": [
            "Collecting shap\n",
            "\u001b[?25l  Downloading https://files.pythonhosted.org/packages/85/a3/c0eab9dd6a894165e2cb87504ff5b2710ac5ede3447d9138620b7341b6a2/shap-0.37.0.tar.gz (326kB)\n",
            "\r\u001b[K     |█                               | 10kB 16.3MB/s eta 0:00:01\r\u001b[K     |██                              | 20kB 21.8MB/s eta 0:00:01\r\u001b[K     |███                             | 30kB 17.4MB/s eta 0:00:01\r\u001b[K     |████                            | 40kB 10.0MB/s eta 0:00:01\r\u001b[K     |█████                           | 51kB 7.7MB/s eta 0:00:01\r\u001b[K     |██████                          | 61kB 8.4MB/s eta 0:00:01\r\u001b[K     |███████                         | 71kB 7.5MB/s eta 0:00:01\r\u001b[K     |████████                        | 81kB 8.1MB/s eta 0:00:01\r\u001b[K     |█████████                       | 92kB 8.5MB/s eta 0:00:01\r\u001b[K     |██████████                      | 102kB 8.2MB/s eta 0:00:01\r\u001b[K     |███████████                     | 112kB 8.2MB/s eta 0:00:01\r\u001b[K     |████████████                    | 122kB 8.2MB/s eta 0:00:01\r\u001b[K     |█████████████                   | 133kB 8.2MB/s eta 0:00:01\r\u001b[K     |██████████████                  | 143kB 8.2MB/s eta 0:00:01\r\u001b[K     |███████████████                 | 153kB 8.2MB/s eta 0:00:01\r\u001b[K     |████████████████                | 163kB 8.2MB/s eta 0:00:01\r\u001b[K     |█████████████████               | 174kB 8.2MB/s eta 0:00:01\r\u001b[K     |██████████████████              | 184kB 8.2MB/s eta 0:00:01\r\u001b[K     |███████████████████             | 194kB 8.2MB/s eta 0:00:01\r\u001b[K     |████████████████████            | 204kB 8.2MB/s eta 0:00:01\r\u001b[K     |█████████████████████           | 215kB 8.2MB/s eta 0:00:01\r\u001b[K     |██████████████████████          | 225kB 8.2MB/s eta 0:00:01\r\u001b[K     |███████████████████████         | 235kB 8.2MB/s eta 0:00:01\r\u001b[K     |████████████████████████        | 245kB 8.2MB/s eta 0:00:01\r\u001b[K     |█████████████████████████       | 256kB 8.2MB/s eta 0:00:01\r\u001b[K     |██████████████████████████      | 266kB 8.2MB/s eta 0:00:01\r\u001b[K     |███████████████████████████     | 276kB 8.2MB/s eta 0:00:01\r\u001b[K     |████████████████████████████    | 286kB 8.2MB/s eta 0:00:01\r\u001b[K     |█████████████████████████████   | 296kB 8.2MB/s eta 0:00:01\r\u001b[K     |██████████████████████████████  | 307kB 8.2MB/s eta 0:00:01\r\u001b[K     |███████████████████████████████ | 317kB 8.2MB/s eta 0:00:01\r\u001b[K     |████████████████████████████████| 327kB 8.2MB/s \n",
            "\u001b[?25hRequirement already satisfied: numpy in /usr/local/lib/python3.6/dist-packages (from shap) (1.18.5)\n",
            "Requirement already satisfied: scipy in /usr/local/lib/python3.6/dist-packages (from shap) (1.4.1)\n",
            "Requirement already satisfied: scikit-learn in /usr/local/lib/python3.6/dist-packages (from shap) (0.22.2.post1)\n",
            "Requirement already satisfied: pandas in /usr/local/lib/python3.6/dist-packages (from shap) (1.1.4)\n",
            "Requirement already satisfied: tqdm>4.25.0 in /usr/local/lib/python3.6/dist-packages (from shap) (4.41.1)\n",
            "Collecting slicer==0.0.3\n",
            "  Downloading https://files.pythonhosted.org/packages/02/a6/c708c5a0f338e99cfbcb6288b88794525548e4fc1b8457feec2c552a81a4/slicer-0.0.3-py3-none-any.whl\n",
            "Requirement already satisfied: numba in /usr/local/lib/python3.6/dist-packages (from shap) (0.48.0)\n",
            "Requirement already satisfied: joblib>=0.11 in /usr/local/lib/python3.6/dist-packages (from scikit-learn->shap) (0.17.0)\n",
            "Requirement already satisfied: pytz>=2017.2 in /usr/local/lib/python3.6/dist-packages (from pandas->shap) (2018.9)\n",
            "Requirement already satisfied: python-dateutil>=2.7.3 in /usr/local/lib/python3.6/dist-packages (from pandas->shap) (2.8.1)\n",
            "Requirement already satisfied: setuptools in /usr/local/lib/python3.6/dist-packages (from numba->shap) (50.3.2)\n",
            "Requirement already satisfied: llvmlite<0.32.0,>=0.31.0dev0 in /usr/local/lib/python3.6/dist-packages (from numba->shap) (0.31.0)\n",
            "Requirement already satisfied: six>=1.5 in /usr/local/lib/python3.6/dist-packages (from python-dateutil>=2.7.3->pandas->shap) (1.15.0)\n",
            "Building wheels for collected packages: shap\n",
            "  Building wheel for shap (setup.py) ... \u001b[?25l\u001b[?25hdone\n",
            "  Created wheel for shap: filename=shap-0.37.0-cp36-cp36m-linux_x86_64.whl size=463910 sha256=224265c638707a1d09e4a0ac94260f0b6b8e2be369ca1dd888dbeca439b54c04\n",
            "  Stored in directory: /root/.cache/pip/wheels/df/ad/b0/aa7815ec68850d66551ef618095eccb962c8f6022f1d3dd989\n",
            "Successfully built shap\n",
            "Installing collected packages: slicer, shap\n",
            "Successfully installed shap-0.37.0 slicer-0.0.3\n"
          ],
          "name": "stdout"
        }
      ]
    },
    {
      "cell_type": "code",
      "metadata": {
        "id": "e5AUeccIuQpU"
      },
      "source": [
        "import numpy as np\n",
        "from sklearn.model_selection import train_test_split, GridSearchCV\n",
        "from sklearn.linear_model import LogisticRegression\n",
        "from sklearn.ensemble import GradientBoostingClassifier\n",
        "from sklearn.preprocessing import MinMaxScaler as minmax\n",
        "from sklearn.metrics import accuracy_score, precision_score, recall_score, f1_score , roc_auc_score\n",
        "import shap\n",
        "\n",
        "class project():\n",
        "    def __init__(self,**kwargs):\n",
        "        assert isinstance(kwargs['path'],str)\n",
        "        assert isinstance(kwargs['linear_model'],bool)\n",
        "        assert isinstance(kwargs['seed'],int)\n",
        "\n",
        "        self.path = kwargs['path']\n",
        "        self.linear_model = kwargs['linear_model']\n",
        "        self.seed = kwargs['seed']\n",
        "\n",
        "    def preprocessing(self):\n",
        "        \"\"\"\n",
        "            Here we are giving the path of dataset, prepare the dataset to be processed in a machine learning model\n",
        "            Input:\n",
        "                path: str of the path to the dataset \n",
        "                split_labels: bool that either returns the whole dataframe or the features and the labels seperately \n",
        "                linear_model: bool that preprocesses the data differently depending on if the model we use is either \n",
        "                            a linear classifier or a tree based method\n",
        "                baseline: Here we are going to be making a baseline model for either method\n",
        "            Output:\n",
        "                df or X , y if split_labels = True\n",
        "        \"\"\"\n",
        "        \n",
        "        df = pd.read_csv(self.path,na_values='?')\n",
        "    \n",
        "        # create categorical vars  \n",
        "        if self.linear_model:\n",
        "            print('We are turning categorical features into ohc and dropping some unhelpful columns...')\n",
        "            df = pd.get_dummies(df,columns=['pclass','sex','embarked'])\n",
        "            df['family_size'] = df['sibsp'] + df['parch']\n",
        "            df.drop(['name','boat','home.dest','sex_male','body','cabin','ticket','sibsp','parch','pclass_3','embarked_S'],axis=1,inplace=True)\n",
        "            # df.dropna(axis=0,inplace=True)\n",
        "            df['age'].fillna(df['age'].median(),inplace=True)\n",
        "            df['fare'].fillna(df['fare'].median(),inplace=True)\n",
        "\n",
        "        else:\n",
        "            df = pd.get_dummies(df,columns=['pclass','sex','embarked'])\n",
        "            df['family_size'] = df['sibsp'] + df['parch']\n",
        "            df['cabin'] = df[df.cabin.notnull()].cabin.apply(lambda cabin: cabin[0]).map({'A':1,'B':2,'C':3,'D':4,'E':5,'F':6,'G':7})\n",
        "            df.drop(['name','boat','home.dest','sex_male','body','ticket','sibsp','parch','pclass_3','embarked_S'],axis=1,inplace=True)\n",
        "            df.fillna(0,inplace=True)\n",
        "        # print(df.info())\n",
        "\n",
        "    \n",
        "        label = df['survived']\n",
        "        df.drop(['survived'],axis=1,inplace=True)\n",
        "        \n",
        "        self.df = df \n",
        "        self.label = label\n",
        "\n",
        "    def demistify_model(self,model,X_test):\n",
        "      ## Depending on the model, we are going to be either coefficients, \n",
        "      if self.linear_model:\n",
        "        return pd.DataFrame(model.coef_,columns=self.df.columns)\n",
        "      \n",
        "      else:\n",
        "        ## First we are going to be printing the feature importance \n",
        "        print('Printing the SHAP Values of the ')\n",
        "        shap_values_t1 = shap.TreeExplainer(model).shap_values(X_test)\n",
        "        return shap.summary_plot(shap_values_t1,X_test)\n",
        "  \n",
        "    @classmethod \n",
        "    def cv_scores(self,model):\n",
        "      # Here we are going to see the CV scores from GridSearch\n",
        "      return model.cv_results_\n",
        "\n",
        "\n",
        "    def run_ml(self):\n",
        "        # Here we are going to be running the machine learning model\n",
        "        # make sure that the params \n",
        "        print('Training the model.....',end='\\n')\n",
        "        X , y = self.df, self.label\n",
        "        X_train, X_test, y_train, y_test = train_test_split(X,y,test_size=.25,random_state=self.seed,stratify=y)\n",
        "       \n",
        "        if self.linear_model:\n",
        "            lr = LogisticRegression()\n",
        "            clf = GridSearchCV(estimator=lr,param_grid={'penalty':['l1'],\n",
        "                    'solver':['liblinear'],\n",
        "                    'C':list(np.arange(0.005,1,.015)),\n",
        "                    'max_iter':list(range(50,500,15)),\n",
        "                    'random_state':[self.seed]},cv=5)\n",
        "\n",
        "        else:\n",
        "            xgboost = GradientBoostingClassifier()\n",
        "            clf = GridSearchCV(estimator=xgboost,param_grid={'loss':['deviance','exponential'],\n",
        "                                                         'learning_rate':list(np.arange(0.005,1,.015)),\n",
        "                                                         'n_estimators': [100],\n",
        "                                                         'max_depth':list(range(3,10,2)),\n",
        "                                                         'random_state':[self.seed]},cv=5) \n",
        "            \n",
        "        clf.fit(X_train,y_train)\n",
        "        print('We are done training. Now we are applying the model to the test set...',end='\\n')    \n",
        "        y_pred = clf.predict(X_test)\n",
        "\n",
        "        print('Now we are constructing the metrics dataframe...')\n",
        "        accuracy = accuracy_score(y_test,y_pred)\n",
        "        precision = precision_score(y_test,y_pred)\n",
        "        recall = recall_score(y_test,y_pred)\n",
        "        f1 = f1_score(y_test,y_pred)\n",
        "        roc_auc = roc_auc_score(y_test,y_pred)\n",
        "\n",
        "        metrics = pd.DataFrame({'accuracy':accuracy,\n",
        "                                'precision':precision,\n",
        "                                'recall':recall,\n",
        "                                'f1_score':f1,\n",
        "                                'roc_auc':roc_auc},index=[0])\n",
        "        \n",
        "        return X_test,y_test,y_pred, clf,metrics"
      ],
      "execution_count": 6,
      "outputs": []
    },
    {
      "cell_type": "markdown",
      "metadata": {
        "id": "akdZiT0UUT26"
      },
      "source": [
        "### **Fitting and Running Model**\n",
        "\n",
        "\n"
      ]
    },
    {
      "cell_type": "code",
      "metadata": {
        "colab": {
          "base_uri": "https://localhost:8080/",
          "height": 291
        },
        "id": "ji7VDh-AuQbl",
        "outputId": "fc3c9468-2c94-4646-b953-f491b9b65c0e"
      },
      "source": [
        "project_= project(path='https://www.openml.org/data/get_csv/16826755/phpMYEkMl',\n",
        "                        split_labels=True,\n",
        "                        linear_model=True,\n",
        "                        seed=833)\n",
        "project_.preprocessing()\n",
        "print(project_.df.head())\n",
        "\n",
        "_, base_truth_array, predicted_array, model, metrics_df = project_.run_ml() \n",
        "metrics_df"
      ],
      "execution_count": 7,
      "outputs": [
        {
          "output_type": "stream",
          "text": [
            "We are turning categorical features into ohc and dropping some unhelpful columns...\n",
            "       age      fare  pclass_1  ...  embarked_C  embarked_Q  family_size\n",
            "0  29.0000  211.3375         1  ...           0           0            0\n",
            "1   0.9167  151.5500         1  ...           0           0            3\n",
            "2   2.0000  151.5500         1  ...           0           0            3\n",
            "3  30.0000  151.5500         1  ...           0           0            3\n",
            "4  25.0000  151.5500         1  ...           0           0            3\n",
            "\n",
            "[5 rows x 8 columns]\n",
            "Training the model.....\n",
            "We are done training. Now we are applying the model to the test set...\n",
            "Now we are constructing the metrics dataframe...\n"
          ],
          "name": "stdout"
        },
        {
          "output_type": "execute_result",
          "data": {
            "text/html": [
              "<div>\n",
              "<style scoped>\n",
              "    .dataframe tbody tr th:only-of-type {\n",
              "        vertical-align: middle;\n",
              "    }\n",
              "\n",
              "    .dataframe tbody tr th {\n",
              "        vertical-align: top;\n",
              "    }\n",
              "\n",
              "    .dataframe thead th {\n",
              "        text-align: right;\n",
              "    }\n",
              "</style>\n",
              "<table border=\"1\" class=\"dataframe\">\n",
              "  <thead>\n",
              "    <tr style=\"text-align: right;\">\n",
              "      <th></th>\n",
              "      <th>accuracy</th>\n",
              "      <th>precision</th>\n",
              "      <th>recall</th>\n",
              "      <th>f1_score</th>\n",
              "      <th>roc_auc</th>\n",
              "    </tr>\n",
              "  </thead>\n",
              "  <tbody>\n",
              "    <tr>\n",
              "      <th>0</th>\n",
              "      <td>0.79878</td>\n",
              "      <td>0.770642</td>\n",
              "      <td>0.672</td>\n",
              "      <td>0.717949</td>\n",
              "      <td>0.774424</td>\n",
              "    </tr>\n",
              "  </tbody>\n",
              "</table>\n",
              "</div>"
            ],
            "text/plain": [
              "   accuracy  precision  recall  f1_score   roc_auc\n",
              "0   0.79878   0.770642   0.672  0.717949  0.774424"
            ]
          },
          "metadata": {
            "tags": []
          },
          "execution_count": 7
        }
      ]
    },
    {
      "cell_type": "code",
      "metadata": {
        "colab": {
          "base_uri": "https://localhost:8080/",
          "height": 273
        },
        "id": "j4EVb2UsuQnS",
        "outputId": "a3887bbd-67ac-461c-a28e-c2e1b5a67e41"
      },
      "source": [
        "# This is going to run a Gradient Boosting Model\n",
        "project_xg = project(path = 'https://www.openml.org/data/get_csv/16826755/phpMYEkMl',\n",
        "                        split_labels=True,\n",
        "                        linear_model=False,\n",
        "                        seed=833)\n",
        "project_xg.preprocessing()\n",
        "print(project_xg.df.head())\n",
        "\n",
        "X_test, base_truth_array_xg, predicted_array_xg, model_, metrics_xg_df = project_xg.run_ml() \n",
        "metrics_xg_df"
      ],
      "execution_count": 8,
      "outputs": [
        {
          "output_type": "stream",
          "text": [
            "       age      fare  cabin  ...  embarked_C  embarked_Q  family_size\n",
            "0  29.0000  211.3375    2.0  ...           0           0            0\n",
            "1   0.9167  151.5500    3.0  ...           0           0            3\n",
            "2   2.0000  151.5500    3.0  ...           0           0            3\n",
            "3  30.0000  151.5500    3.0  ...           0           0            3\n",
            "4  25.0000  151.5500    3.0  ...           0           0            3\n",
            "\n",
            "[5 rows x 9 columns]\n",
            "Training the model.....\n",
            "We are done training. Now we are applying the model to the test set...\n",
            "Now we are constructing the metrics dataframe...\n"
          ],
          "name": "stdout"
        },
        {
          "output_type": "execute_result",
          "data": {
            "text/html": [
              "<div>\n",
              "<style scoped>\n",
              "    .dataframe tbody tr th:only-of-type {\n",
              "        vertical-align: middle;\n",
              "    }\n",
              "\n",
              "    .dataframe tbody tr th {\n",
              "        vertical-align: top;\n",
              "    }\n",
              "\n",
              "    .dataframe thead th {\n",
              "        text-align: right;\n",
              "    }\n",
              "</style>\n",
              "<table border=\"1\" class=\"dataframe\">\n",
              "  <thead>\n",
              "    <tr style=\"text-align: right;\">\n",
              "      <th></th>\n",
              "      <th>accuracy</th>\n",
              "      <th>precision</th>\n",
              "      <th>recall</th>\n",
              "      <th>f1_score</th>\n",
              "      <th>roc_auc</th>\n",
              "    </tr>\n",
              "  </thead>\n",
              "  <tbody>\n",
              "    <tr>\n",
              "      <th>0</th>\n",
              "      <td>0.820122</td>\n",
              "      <td>0.836735</td>\n",
              "      <td>0.656</td>\n",
              "      <td>0.735426</td>\n",
              "      <td>0.788591</td>\n",
              "    </tr>\n",
              "  </tbody>\n",
              "</table>\n",
              "</div>"
            ],
            "text/plain": [
              "   accuracy  precision  recall  f1_score   roc_auc\n",
              "0  0.820122   0.836735   0.656  0.735426  0.788591"
            ]
          },
          "metadata": {
            "tags": []
          },
          "execution_count": 8
        }
      ]
    },
    {
      "cell_type": "markdown",
      "metadata": {
        "id": "hqh0PNcJz1Tf"
      },
      "source": [
        "### **Cross Validation Scores**"
      ]
    },
    {
      "cell_type": "code",
      "metadata": {
        "colab": {
          "background_save": true
        },
        "id": "eIvzxIZYyJNP",
        "outputId": "2e7071e4-ab64-4691-ee6a-066b3581f25d"
      },
      "source": [
        "# Best Performing Logistic Regression results \n",
        "pd.DataFrame(model.cv_results_).sort_values('rank_test_score').iloc[0,:]"
      ],
      "execution_count": null,
      "outputs": [
        {
          "output_type": "execute_result",
          "data": {
            "text/plain": [
              "mean_fit_time                                                0.00378466\n",
              "std_fit_time                                                0.000180305\n",
              "mean_score_time                                             0.000973606\n",
              "std_score_time                                              3.75194e-05\n",
              "param_C                                                           0.365\n",
              "param_max_iter                                                       95\n",
              "param_penalty                                                        l1\n",
              "param_random_state                                                  833\n",
              "param_solver                                                  liblinear\n",
              "params                {'C': 0.365, 'max_iter': 95, 'penalty': 'l1', ...\n",
              "split0_test_score                                              0.822335\n",
              "split1_test_score                                               0.77551\n",
              "split2_test_score                                               0.80102\n",
              "split3_test_score                                              0.795918\n",
              "split4_test_score                                              0.755102\n",
              "mean_test_score                                                0.789977\n",
              "std_test_score                                                 0.022934\n",
              "rank_test_score                                                       1\n",
              "Name: 723, dtype: object"
            ]
          },
          "metadata": {
            "tags": []
          },
          "execution_count": 0
        }
      ]
    },
    {
      "cell_type": "code",
      "metadata": {
        "colab": {
          "background_save": true
        },
        "id": "Epr5bGwIzd0-",
        "outputId": "10be27d1-1f5c-4bd1-dfd3-e1b7c2222a2c"
      },
      "source": [
        "# Best Performing XGBoost results \n",
        "pd.DataFrame(model_.cv_results_).sort_values('rank_test_score').iloc[0,:]"
      ],
      "execution_count": null,
      "outputs": [
        {
          "output_type": "execute_result",
          "data": {
            "text/plain": [
              "mean_fit_time                                                   0.193202\n",
              "std_fit_time                                                  0.00786232\n",
              "mean_score_time                                               0.00208974\n",
              "std_score_time                                                1.7916e-05\n",
              "param_learning_rate                                                 0.02\n",
              "param_loss                                                      deviance\n",
              "param_max_depth                                                        5\n",
              "param_n_estimators                                                   100\n",
              "param_random_state                                                   833\n",
              "params                 {'learning_rate': 0.02, 'loss': 'deviance', 'm...\n",
              "split0_test_score                                               0.807107\n",
              "split1_test_score                                               0.806122\n",
              "split2_test_score                                               0.816327\n",
              "split3_test_score                                               0.811224\n",
              "split4_test_score                                               0.770408\n",
              "mean_test_score                                                 0.802238\n",
              "std_test_score                                                 0.0163167\n",
              "rank_test_score                                                        1\n",
              "Name: 9, dtype: object"
            ]
          },
          "metadata": {
            "tags": []
          },
          "execution_count": 0
        }
      ]
    },
    {
      "cell_type": "markdown",
      "metadata": {
        "id": "vbSEevk_0D0y"
      },
      "source": [
        "### **Coefficients and SHAP values**\n",
        "\n",
        "Here we can see the coefficients of the best performing Logistic Regression. Similarly to when we used Logistic Regression on the cloud, our model also contains l1 regularization, and zeroed out irrelevant features for prediction, thus deeming the following features significant: sex_female, plcass_1, pclass_2, embarked_C. Unlike working with the BigQuery ML, we were not able to set the lambda parameter, however, we are able to adjust a parameter called C, which stands for the inverse of the regularization parameter: \\\\[C = \\frac{1}{\\lambda} \\\\] \n",
        "\n",
        "As for the XGBoost, we are going to utilize another method that will give us a visual insight as to how the model is predicting between variables: SHAP values, or Shapely Additive Explanations. This method is able to de black-box models that are non-linear. On the graph, the x axis represents the impact on model performance, or another way is to look at it as the negative and positive classes (negative being passenger did not survive, and positive being that passenger survived). The Y-axis represents the features of the dataset, were they are ordered in descending order of importance. The feature importance is calculated based on the average marginal contribution a feature makes towards predictions across all partitions of the feature space. For this plot, we are going to be using the test set to visualize how the model deciding how to predict its values. For example, we see that the sex_female feature was the most important feature, and when a passenger was a male, it thinks that the passenger will not be as likely to survive, and when a passenger is a female, then the passenger would survive. Followed by the pclass_1 feature as being the most important features for the models predictions, however, this is where the similarities between the Logistic Regression and the XGBoost. Next we see that the XGBoost has the feature importances in the following order:   fair, cabin, age, family_size, and the emarkation features. For fair , age, and family_size, we can see that there is some error points that could have been contributions for misclassification  \\\\\n",
        "\n",
        "\n",
        "From our understanding of the models, we can see the different models are capable of solving the same tasks, but take almost different methods for their predictions.\n"
      ]
    },
    {
      "cell_type": "code",
      "metadata": {
        "colab": {
          "background_save": true
        },
        "id": "YDqbV9Sg0Ed5",
        "outputId": "5ea7a3a3-139e-44da-98e2-126c24a4384a"
      },
      "source": [
        "# Coefficients for our Logistic Regression\n",
        "project_.demistify_model(model.best_estimator_,None).T"
      ],
      "execution_count": null,
      "outputs": [
        {
          "output_type": "execute_result",
          "data": {
            "text/html": [
              "<div>\n",
              "<style scoped>\n",
              "    .dataframe tbody tr th:only-of-type {\n",
              "        vertical-align: middle;\n",
              "    }\n",
              "\n",
              "    .dataframe tbody tr th {\n",
              "        vertical-align: top;\n",
              "    }\n",
              "\n",
              "    .dataframe thead th {\n",
              "        text-align: right;\n",
              "    }\n",
              "</style>\n",
              "<table border=\"1\" class=\"dataframe\">\n",
              "  <thead>\n",
              "    <tr style=\"text-align: right;\">\n",
              "      <th></th>\n",
              "      <th>0</th>\n",
              "    </tr>\n",
              "  </thead>\n",
              "  <tbody>\n",
              "    <tr>\n",
              "      <th>age</th>\n",
              "      <td>-0.030069</td>\n",
              "    </tr>\n",
              "    <tr>\n",
              "      <th>fare</th>\n",
              "      <td>0.003281</td>\n",
              "    </tr>\n",
              "    <tr>\n",
              "      <th>pclass_1</th>\n",
              "      <td>1.477765</td>\n",
              "    </tr>\n",
              "    <tr>\n",
              "      <th>pclass_2</th>\n",
              "      <td>0.668954</td>\n",
              "    </tr>\n",
              "    <tr>\n",
              "      <th>sex_female</th>\n",
              "      <td>2.452388</td>\n",
              "    </tr>\n",
              "    <tr>\n",
              "      <th>embarked_C</th>\n",
              "      <td>0.485291</td>\n",
              "    </tr>\n",
              "    <tr>\n",
              "      <th>embarked_Q</th>\n",
              "      <td>0.000000</td>\n",
              "    </tr>\n",
              "    <tr>\n",
              "      <th>family_size</th>\n",
              "      <td>-0.165658</td>\n",
              "    </tr>\n",
              "  </tbody>\n",
              "</table>\n",
              "</div>"
            ],
            "text/plain": [
              "                    0\n",
              "age         -0.030069\n",
              "fare         0.003281\n",
              "pclass_1     1.477765\n",
              "pclass_2     0.668954\n",
              "sex_female   2.452388\n",
              "embarked_C   0.485291\n",
              "embarked_Q   0.000000\n",
              "family_size -0.165658"
            ]
          },
          "metadata": {
            "tags": []
          },
          "execution_count": 0
        }
      ]
    },
    {
      "cell_type": "code",
      "metadata": {
        "colab": {
          "background_save": true
        },
        "id": "bG5RHFYQ0FI6",
        "outputId": "6b2fee97-90f6-4171-d943-180ff4db9bc9"
      },
      "source": [
        "# SHAP Summary Plot for our \n",
        "project_xg.demistify_model(model_.best_estimator_,X_test)"
      ],
      "execution_count": null,
      "outputs": [
        {
          "output_type": "stream",
          "text": [
            "Printing the SHAP Values of the \n"
          ],
          "name": "stdout"
        },
        {
          "output_type": "display_data",
          "data": {
            "image/png": "[encoded data removed]",
            "text/plain": [
              "<Figure size 576x367.2 with 2 Axes>"
            ]
          },
          "metadata": {
            "tags": []
          }
        }
      ]
    },
    {
      "cell_type": "markdown",
      "metadata": {
        "id": "liSB8OzFW0QO"
      },
      "source": [
        "### Examining Predictions"
      ]
    },
    {
      "cell_type": "markdown",
      "metadata": {
        "id": "vjmswwyLlOIk"
      },
      "source": [
        "We create a copy of the test set and add columns for the model's predicted value, and whether or not the prediction was correct."
      ]
    },
    {
      "cell_type": "code",
      "metadata": {
        "colab": {
          "base_uri": "https://localhost:8080/",
          "height": 406
        },
        "id": "pvMCWXpFFGZc",
        "outputId": "296d6571-9876-4690-dac3-0f1f45cd1f40"
      },
      "source": [
        "compar = pd.DataFrame(base_truth_array)\n",
        "compar['predicted'] = predicted_array\n",
        "compar['correct_pred'] = compar['survived'] == compar['predicted']\n",
        "compar = df.merge(compar, how = 'inner', left_index=True, right_index=True)\n",
        "compar"
      ],
      "execution_count": 9,
      "outputs": [
        {
          "output_type": "execute_result",
          "data": {
            "text/html": [
              "<div>\n",
              "<style scoped>\n",
              "    .dataframe tbody tr th:only-of-type {\n",
              "        vertical-align: middle;\n",
              "    }\n",
              "\n",
              "    .dataframe tbody tr th {\n",
              "        vertical-align: top;\n",
              "    }\n",
              "\n",
              "    .dataframe thead th {\n",
              "        text-align: right;\n",
              "    }\n",
              "</style>\n",
              "<table border=\"1\" class=\"dataframe\">\n",
              "  <thead>\n",
              "    <tr style=\"text-align: right;\">\n",
              "      <th></th>\n",
              "      <th>pclass</th>\n",
              "      <th>survived_x</th>\n",
              "      <th>name</th>\n",
              "      <th>sex</th>\n",
              "      <th>age</th>\n",
              "      <th>sibsp</th>\n",
              "      <th>parch</th>\n",
              "      <th>ticket</th>\n",
              "      <th>fare</th>\n",
              "      <th>cabin</th>\n",
              "      <th>embarked</th>\n",
              "      <th>boat</th>\n",
              "      <th>body</th>\n",
              "      <th>home.dest</th>\n",
              "      <th>survived_y</th>\n",
              "      <th>predicted</th>\n",
              "      <th>correct_pred</th>\n",
              "    </tr>\n",
              "  </thead>\n",
              "  <tbody>\n",
              "    <tr>\n",
              "      <th>1</th>\n",
              "      <td>1</td>\n",
              "      <td>1</td>\n",
              "      <td>Allison, Master. Hudson Trevor</td>\n",
              "      <td>male</td>\n",
              "      <td>0.9167</td>\n",
              "      <td>1</td>\n",
              "      <td>2</td>\n",
              "      <td>113781</td>\n",
              "      <td>151.5500</td>\n",
              "      <td>C22 C26</td>\n",
              "      <td>S</td>\n",
              "      <td>11</td>\n",
              "      <td>NaN</td>\n",
              "      <td>Montreal, PQ / Chesterville, ON</td>\n",
              "      <td>1</td>\n",
              "      <td>1</td>\n",
              "      <td>True</td>\n",
              "    </tr>\n",
              "    <tr>\n",
              "      <th>3</th>\n",
              "      <td>1</td>\n",
              "      <td>0</td>\n",
              "      <td>Allison, Mr. Hudson Joshua Creighton</td>\n",
              "      <td>male</td>\n",
              "      <td>30.0000</td>\n",
              "      <td>1</td>\n",
              "      <td>2</td>\n",
              "      <td>113781</td>\n",
              "      <td>151.5500</td>\n",
              "      <td>C22 C26</td>\n",
              "      <td>S</td>\n",
              "      <td>NaN</td>\n",
              "      <td>135.0</td>\n",
              "      <td>Montreal, PQ / Chesterville, ON</td>\n",
              "      <td>0</td>\n",
              "      <td>0</td>\n",
              "      <td>True</td>\n",
              "    </tr>\n",
              "    <tr>\n",
              "      <th>7</th>\n",
              "      <td>1</td>\n",
              "      <td>0</td>\n",
              "      <td>Andrews, Mr. Thomas Jr</td>\n",
              "      <td>male</td>\n",
              "      <td>39.0000</td>\n",
              "      <td>0</td>\n",
              "      <td>0</td>\n",
              "      <td>112050</td>\n",
              "      <td>0.0000</td>\n",
              "      <td>A36</td>\n",
              "      <td>S</td>\n",
              "      <td>NaN</td>\n",
              "      <td>NaN</td>\n",
              "      <td>Belfast, NI</td>\n",
              "      <td>0</td>\n",
              "      <td>0</td>\n",
              "      <td>True</td>\n",
              "    </tr>\n",
              "    <tr>\n",
              "      <th>13</th>\n",
              "      <td>1</td>\n",
              "      <td>1</td>\n",
              "      <td>Barber, Miss. Ellen 'Nellie'</td>\n",
              "      <td>female</td>\n",
              "      <td>26.0000</td>\n",
              "      <td>0</td>\n",
              "      <td>0</td>\n",
              "      <td>19877</td>\n",
              "      <td>78.8500</td>\n",
              "      <td>NaN</td>\n",
              "      <td>S</td>\n",
              "      <td>6</td>\n",
              "      <td>NaN</td>\n",
              "      <td>NaN</td>\n",
              "      <td>1</td>\n",
              "      <td>1</td>\n",
              "      <td>True</td>\n",
              "    </tr>\n",
              "    <tr>\n",
              "      <th>15</th>\n",
              "      <td>1</td>\n",
              "      <td>0</td>\n",
              "      <td>Baumann, Mr. John D</td>\n",
              "      <td>male</td>\n",
              "      <td>NaN</td>\n",
              "      <td>0</td>\n",
              "      <td>0</td>\n",
              "      <td>PC 17318</td>\n",
              "      <td>25.9250</td>\n",
              "      <td>NaN</td>\n",
              "      <td>S</td>\n",
              "      <td>NaN</td>\n",
              "      <td>NaN</td>\n",
              "      <td>New York, NY</td>\n",
              "      <td>0</td>\n",
              "      <td>0</td>\n",
              "      <td>True</td>\n",
              "    </tr>\n",
              "    <tr>\n",
              "      <th>...</th>\n",
              "      <td>...</td>\n",
              "      <td>...</td>\n",
              "      <td>...</td>\n",
              "      <td>...</td>\n",
              "      <td>...</td>\n",
              "      <td>...</td>\n",
              "      <td>...</td>\n",
              "      <td>...</td>\n",
              "      <td>...</td>\n",
              "      <td>...</td>\n",
              "      <td>...</td>\n",
              "      <td>...</td>\n",
              "      <td>...</td>\n",
              "      <td>...</td>\n",
              "      <td>...</td>\n",
              "      <td>...</td>\n",
              "      <td>...</td>\n",
              "    </tr>\n",
              "    <tr>\n",
              "      <th>1298</th>\n",
              "      <td>3</td>\n",
              "      <td>0</td>\n",
              "      <td>Wittevrongel, Mr. Camille</td>\n",
              "      <td>male</td>\n",
              "      <td>36.0000</td>\n",
              "      <td>0</td>\n",
              "      <td>0</td>\n",
              "      <td>345771</td>\n",
              "      <td>9.5000</td>\n",
              "      <td>NaN</td>\n",
              "      <td>S</td>\n",
              "      <td>NaN</td>\n",
              "      <td>NaN</td>\n",
              "      <td>NaN</td>\n",
              "      <td>0</td>\n",
              "      <td>0</td>\n",
              "      <td>True</td>\n",
              "    </tr>\n",
              "    <tr>\n",
              "      <th>1302</th>\n",
              "      <td>3</td>\n",
              "      <td>0</td>\n",
              "      <td>Yousif, Mr. Wazli</td>\n",
              "      <td>male</td>\n",
              "      <td>NaN</td>\n",
              "      <td>0</td>\n",
              "      <td>0</td>\n",
              "      <td>2647</td>\n",
              "      <td>7.2250</td>\n",
              "      <td>NaN</td>\n",
              "      <td>C</td>\n",
              "      <td>NaN</td>\n",
              "      <td>NaN</td>\n",
              "      <td>NaN</td>\n",
              "      <td>0</td>\n",
              "      <td>0</td>\n",
              "      <td>True</td>\n",
              "    </tr>\n",
              "    <tr>\n",
              "      <th>1304</th>\n",
              "      <td>3</td>\n",
              "      <td>0</td>\n",
              "      <td>Zabour, Miss. Hileni</td>\n",
              "      <td>female</td>\n",
              "      <td>14.5000</td>\n",
              "      <td>1</td>\n",
              "      <td>0</td>\n",
              "      <td>2665</td>\n",
              "      <td>14.4542</td>\n",
              "      <td>NaN</td>\n",
              "      <td>C</td>\n",
              "      <td>NaN</td>\n",
              "      <td>328.0</td>\n",
              "      <td>NaN</td>\n",
              "      <td>0</td>\n",
              "      <td>1</td>\n",
              "      <td>False</td>\n",
              "    </tr>\n",
              "    <tr>\n",
              "      <th>1307</th>\n",
              "      <td>3</td>\n",
              "      <td>0</td>\n",
              "      <td>Zakarian, Mr. Ortin</td>\n",
              "      <td>male</td>\n",
              "      <td>27.0000</td>\n",
              "      <td>0</td>\n",
              "      <td>0</td>\n",
              "      <td>2670</td>\n",
              "      <td>7.2250</td>\n",
              "      <td>NaN</td>\n",
              "      <td>C</td>\n",
              "      <td>NaN</td>\n",
              "      <td>NaN</td>\n",
              "      <td>NaN</td>\n",
              "      <td>0</td>\n",
              "      <td>0</td>\n",
              "      <td>True</td>\n",
              "    </tr>\n",
              "    <tr>\n",
              "      <th>1308</th>\n",
              "      <td>3</td>\n",
              "      <td>0</td>\n",
              "      <td>Zimmerman, Mr. Leo</td>\n",
              "      <td>male</td>\n",
              "      <td>29.0000</td>\n",
              "      <td>0</td>\n",
              "      <td>0</td>\n",
              "      <td>315082</td>\n",
              "      <td>7.8750</td>\n",
              "      <td>NaN</td>\n",
              "      <td>S</td>\n",
              "      <td>NaN</td>\n",
              "      <td>NaN</td>\n",
              "      <td>NaN</td>\n",
              "      <td>0</td>\n",
              "      <td>0</td>\n",
              "      <td>True</td>\n",
              "    </tr>\n",
              "  </tbody>\n",
              "</table>\n",
              "<p>328 rows × 17 columns</p>\n",
              "</div>"
            ],
            "text/plain": [
              "      pclass  survived_x  ... predicted correct_pred\n",
              "1          1           1  ...         1         True\n",
              "3          1           0  ...         0         True\n",
              "7          1           0  ...         0         True\n",
              "13         1           1  ...         1         True\n",
              "15         1           0  ...         0         True\n",
              "...      ...         ...  ...       ...          ...\n",
              "1298       3           0  ...         0         True\n",
              "1302       3           0  ...         0         True\n",
              "1304       3           0  ...         1        False\n",
              "1307       3           0  ...         0         True\n",
              "1308       3           0  ...         0         True\n",
              "\n",
              "[328 rows x 17 columns]"
            ]
          },
          "metadata": {
            "tags": []
          },
          "execution_count": 9
        }
      ]
    },
    {
      "cell_type": "code",
      "metadata": {
        "colab": {
          "base_uri": "https://localhost:8080/",
          "height": 406
        },
        "id": "cB9ACOXDuQZq",
        "outputId": "c2242781-02dc-45e7-c363-1ae655d4ce08"
      },
      "source": [
        "compar_xg = pd.DataFrame(base_truth_array_xg)\n",
        "compar_xg['predicted'] = predicted_array_xg\n",
        "compar_xg['correct_pred'] = compar_xg['survived'] == compar_xg['predicted']\n",
        "compar_xg = df.merge(compar_xg, how = 'inner', left_index=True, right_index=True)\n",
        "compar_xg"
      ],
      "execution_count": 10,
      "outputs": [
        {
          "output_type": "execute_result",
          "data": {
            "text/html": [
              "<div>\n",
              "<style scoped>\n",
              "    .dataframe tbody tr th:only-of-type {\n",
              "        vertical-align: middle;\n",
              "    }\n",
              "\n",
              "    .dataframe tbody tr th {\n",
              "        vertical-align: top;\n",
              "    }\n",
              "\n",
              "    .dataframe thead th {\n",
              "        text-align: right;\n",
              "    }\n",
              "</style>\n",
              "<table border=\"1\" class=\"dataframe\">\n",
              "  <thead>\n",
              "    <tr style=\"text-align: right;\">\n",
              "      <th></th>\n",
              "      <th>pclass</th>\n",
              "      <th>survived_x</th>\n",
              "      <th>name</th>\n",
              "      <th>sex</th>\n",
              "      <th>age</th>\n",
              "      <th>sibsp</th>\n",
              "      <th>parch</th>\n",
              "      <th>ticket</th>\n",
              "      <th>fare</th>\n",
              "      <th>cabin</th>\n",
              "      <th>embarked</th>\n",
              "      <th>boat</th>\n",
              "      <th>body</th>\n",
              "      <th>home.dest</th>\n",
              "      <th>survived_y</th>\n",
              "      <th>predicted</th>\n",
              "      <th>correct_pred</th>\n",
              "    </tr>\n",
              "  </thead>\n",
              "  <tbody>\n",
              "    <tr>\n",
              "      <th>1</th>\n",
              "      <td>1</td>\n",
              "      <td>1</td>\n",
              "      <td>Allison, Master. Hudson Trevor</td>\n",
              "      <td>male</td>\n",
              "      <td>0.9167</td>\n",
              "      <td>1</td>\n",
              "      <td>2</td>\n",
              "      <td>113781</td>\n",
              "      <td>151.5500</td>\n",
              "      <td>C22 C26</td>\n",
              "      <td>S</td>\n",
              "      <td>11</td>\n",
              "      <td>NaN</td>\n",
              "      <td>Montreal, PQ / Chesterville, ON</td>\n",
              "      <td>1</td>\n",
              "      <td>0</td>\n",
              "      <td>False</td>\n",
              "    </tr>\n",
              "    <tr>\n",
              "      <th>3</th>\n",
              "      <td>1</td>\n",
              "      <td>0</td>\n",
              "      <td>Allison, Mr. Hudson Joshua Creighton</td>\n",
              "      <td>male</td>\n",
              "      <td>30.0000</td>\n",
              "      <td>1</td>\n",
              "      <td>2</td>\n",
              "      <td>113781</td>\n",
              "      <td>151.5500</td>\n",
              "      <td>C22 C26</td>\n",
              "      <td>S</td>\n",
              "      <td>NaN</td>\n",
              "      <td>135.0</td>\n",
              "      <td>Montreal, PQ / Chesterville, ON</td>\n",
              "      <td>0</td>\n",
              "      <td>0</td>\n",
              "      <td>True</td>\n",
              "    </tr>\n",
              "    <tr>\n",
              "      <th>7</th>\n",
              "      <td>1</td>\n",
              "      <td>0</td>\n",
              "      <td>Andrews, Mr. Thomas Jr</td>\n",
              "      <td>male</td>\n",
              "      <td>39.0000</td>\n",
              "      <td>0</td>\n",
              "      <td>0</td>\n",
              "      <td>112050</td>\n",
              "      <td>0.0000</td>\n",
              "      <td>A36</td>\n",
              "      <td>S</td>\n",
              "      <td>NaN</td>\n",
              "      <td>NaN</td>\n",
              "      <td>Belfast, NI</td>\n",
              "      <td>0</td>\n",
              "      <td>0</td>\n",
              "      <td>True</td>\n",
              "    </tr>\n",
              "    <tr>\n",
              "      <th>13</th>\n",
              "      <td>1</td>\n",
              "      <td>1</td>\n",
              "      <td>Barber, Miss. Ellen 'Nellie'</td>\n",
              "      <td>female</td>\n",
              "      <td>26.0000</td>\n",
              "      <td>0</td>\n",
              "      <td>0</td>\n",
              "      <td>19877</td>\n",
              "      <td>78.8500</td>\n",
              "      <td>NaN</td>\n",
              "      <td>S</td>\n",
              "      <td>6</td>\n",
              "      <td>NaN</td>\n",
              "      <td>NaN</td>\n",
              "      <td>1</td>\n",
              "      <td>1</td>\n",
              "      <td>True</td>\n",
              "    </tr>\n",
              "    <tr>\n",
              "      <th>15</th>\n",
              "      <td>1</td>\n",
              "      <td>0</td>\n",
              "      <td>Baumann, Mr. John D</td>\n",
              "      <td>male</td>\n",
              "      <td>NaN</td>\n",
              "      <td>0</td>\n",
              "      <td>0</td>\n",
              "      <td>PC 17318</td>\n",
              "      <td>25.9250</td>\n",
              "      <td>NaN</td>\n",
              "      <td>S</td>\n",
              "      <td>NaN</td>\n",
              "      <td>NaN</td>\n",
              "      <td>New York, NY</td>\n",
              "      <td>0</td>\n",
              "      <td>0</td>\n",
              "      <td>True</td>\n",
              "    </tr>\n",
              "    <tr>\n",
              "      <th>...</th>\n",
              "      <td>...</td>\n",
              "      <td>...</td>\n",
              "      <td>...</td>\n",
              "      <td>...</td>\n",
              "      <td>...</td>\n",
              "      <td>...</td>\n",
              "      <td>...</td>\n",
              "      <td>...</td>\n",
              "      <td>...</td>\n",
              "      <td>...</td>\n",
              "      <td>...</td>\n",
              "      <td>...</td>\n",
              "      <td>...</td>\n",
              "      <td>...</td>\n",
              "      <td>...</td>\n",
              "      <td>...</td>\n",
              "      <td>...</td>\n",
              "    </tr>\n",
              "    <tr>\n",
              "      <th>1298</th>\n",
              "      <td>3</td>\n",
              "      <td>0</td>\n",
              "      <td>Wittevrongel, Mr. Camille</td>\n",
              "      <td>male</td>\n",
              "      <td>36.0000</td>\n",
              "      <td>0</td>\n",
              "      <td>0</td>\n",
              "      <td>345771</td>\n",
              "      <td>9.5000</td>\n",
              "      <td>NaN</td>\n",
              "      <td>S</td>\n",
              "      <td>NaN</td>\n",
              "      <td>NaN</td>\n",
              "      <td>NaN</td>\n",
              "      <td>0</td>\n",
              "      <td>0</td>\n",
              "      <td>True</td>\n",
              "    </tr>\n",
              "    <tr>\n",
              "      <th>1302</th>\n",
              "      <td>3</td>\n",
              "      <td>0</td>\n",
              "      <td>Yousif, Mr. Wazli</td>\n",
              "      <td>male</td>\n",
              "      <td>NaN</td>\n",
              "      <td>0</td>\n",
              "      <td>0</td>\n",
              "      <td>2647</td>\n",
              "      <td>7.2250</td>\n",
              "      <td>NaN</td>\n",
              "      <td>C</td>\n",
              "      <td>NaN</td>\n",
              "      <td>NaN</td>\n",
              "      <td>NaN</td>\n",
              "      <td>0</td>\n",
              "      <td>0</td>\n",
              "      <td>True</td>\n",
              "    </tr>\n",
              "    <tr>\n",
              "      <th>1304</th>\n",
              "      <td>3</td>\n",
              "      <td>0</td>\n",
              "      <td>Zabour, Miss. Hileni</td>\n",
              "      <td>female</td>\n",
              "      <td>14.5000</td>\n",
              "      <td>1</td>\n",
              "      <td>0</td>\n",
              "      <td>2665</td>\n",
              "      <td>14.4542</td>\n",
              "      <td>NaN</td>\n",
              "      <td>C</td>\n",
              "      <td>NaN</td>\n",
              "      <td>328.0</td>\n",
              "      <td>NaN</td>\n",
              "      <td>0</td>\n",
              "      <td>1</td>\n",
              "      <td>False</td>\n",
              "    </tr>\n",
              "    <tr>\n",
              "      <th>1307</th>\n",
              "      <td>3</td>\n",
              "      <td>0</td>\n",
              "      <td>Zakarian, Mr. Ortin</td>\n",
              "      <td>male</td>\n",
              "      <td>27.0000</td>\n",
              "      <td>0</td>\n",
              "      <td>0</td>\n",
              "      <td>2670</td>\n",
              "      <td>7.2250</td>\n",
              "      <td>NaN</td>\n",
              "      <td>C</td>\n",
              "      <td>NaN</td>\n",
              "      <td>NaN</td>\n",
              "      <td>NaN</td>\n",
              "      <td>0</td>\n",
              "      <td>0</td>\n",
              "      <td>True</td>\n",
              "    </tr>\n",
              "    <tr>\n",
              "      <th>1308</th>\n",
              "      <td>3</td>\n",
              "      <td>0</td>\n",
              "      <td>Zimmerman, Mr. Leo</td>\n",
              "      <td>male</td>\n",
              "      <td>29.0000</td>\n",
              "      <td>0</td>\n",
              "      <td>0</td>\n",
              "      <td>315082</td>\n",
              "      <td>7.8750</td>\n",
              "      <td>NaN</td>\n",
              "      <td>S</td>\n",
              "      <td>NaN</td>\n",
              "      <td>NaN</td>\n",
              "      <td>NaN</td>\n",
              "      <td>0</td>\n",
              "      <td>0</td>\n",
              "      <td>True</td>\n",
              "    </tr>\n",
              "  </tbody>\n",
              "</table>\n",
              "<p>328 rows × 17 columns</p>\n",
              "</div>"
            ],
            "text/plain": [
              "      pclass  survived_x  ... predicted correct_pred\n",
              "1          1           1  ...         0        False\n",
              "3          1           0  ...         0         True\n",
              "7          1           0  ...         0         True\n",
              "13         1           1  ...         1         True\n",
              "15         1           0  ...         0         True\n",
              "...      ...         ...  ...       ...          ...\n",
              "1298       3           0  ...         0         True\n",
              "1302       3           0  ...         0         True\n",
              "1304       3           0  ...         1        False\n",
              "1307       3           0  ...         0         True\n",
              "1308       3           0  ...         0         True\n",
              "\n",
              "[328 rows x 17 columns]"
            ]
          },
          "metadata": {
            "tags": []
          },
          "execution_count": 10
        }
      ]
    },
    {
      "cell_type": "markdown",
      "metadata": {
        "id": "3e_RUVVvK5O3"
      },
      "source": [
        "We can use a confusion matrix to visualize "
      ]
    },
    {
      "cell_type": "code",
      "metadata": {
        "colab": {
          "base_uri": "https://localhost:8080/"
        },
        "id": "fc2lDNLCGe1f",
        "outputId": "2fd679d3-6893-402d-a56e-1b2a315f81bd"
      },
      "source": [
        "from sklearn.metrics import confusion_matrix\n",
        "conf = confusion_matrix(compar_xg['correct_pred'], compar_xg['predicted'])\n",
        "# conf_norm = confusion_matrix(compar['correct_pred'], compar['predicted'], normalize='true')\n",
        "conf"
      ],
      "execution_count": 11,
      "outputs": [
        {
          "output_type": "execute_result",
          "data": {
            "text/plain": [
              "array([[ 43,  16],\n",
              "       [187,  82]])"
            ]
          },
          "metadata": {
            "tags": []
          },
          "execution_count": 11
        }
      ]
    },
    {
      "cell_type": "code",
      "metadata": {
        "colab": {
          "base_uri": "https://localhost:8080/",
          "height": 464
        },
        "id": "LEID4SLoHVi8",
        "outputId": "124ede97-39a9-414a-e92c-67121961fd7e"
      },
      "source": [
        "plt.figure(figsize=(10,7));\n",
        "sns.heatmap(conf, cmap = 'Blues', annot = True, fmt = 'g',xticklabels = ['Not Survived', 'Survived'], yticklabels=['Incorrect', 'Correct']);\n",
        "\n",
        "plt.xlabel('Predicted Result');\n",
        "\n",
        "plt.ylabel('Prediction');\n",
        "plt.title('Confusion Matrix');"
      ],
      "execution_count": 12,
      "outputs": [
        {
          "output_type": "display_data",
          "data": {
            "image/png": "[encoded data removed]",
            "text/plain": [
              "<Figure size 720x504 with 2 Axes>"
            ]
          },
          "metadata": {
            "tags": []
          }
        }
      ]
    },
    {
      "cell_type": "markdown",
      "metadata": {
        "id": "JbLRMh0YlexP"
      },
      "source": [
        "> Metrics:"
      ]
    },
    {
      "cell_type": "code",
      "metadata": {
        "colab": {
          "base_uri": "https://localhost:8080/",
          "height": 77
        },
        "id": "c9jqiwLqyPJj",
        "outputId": "8468fefd-f58b-42dc-b5df-c1114f5649cf"
      },
      "source": [
        "metrics_xg_df"
      ],
      "execution_count": 13,
      "outputs": [
        {
          "output_type": "execute_result",
          "data": {
            "text/html": [
              "<div>\n",
              "<style scoped>\n",
              "    .dataframe tbody tr th:only-of-type {\n",
              "        vertical-align: middle;\n",
              "    }\n",
              "\n",
              "    .dataframe tbody tr th {\n",
              "        vertical-align: top;\n",
              "    }\n",
              "\n",
              "    .dataframe thead th {\n",
              "        text-align: right;\n",
              "    }\n",
              "</style>\n",
              "<table border=\"1\" class=\"dataframe\">\n",
              "  <thead>\n",
              "    <tr style=\"text-align: right;\">\n",
              "      <th></th>\n",
              "      <th>accuracy</th>\n",
              "      <th>precision</th>\n",
              "      <th>recall</th>\n",
              "      <th>f1_score</th>\n",
              "      <th>roc_auc</th>\n",
              "    </tr>\n",
              "  </thead>\n",
              "  <tbody>\n",
              "    <tr>\n",
              "      <th>0</th>\n",
              "      <td>0.820122</td>\n",
              "      <td>0.836735</td>\n",
              "      <td>0.656</td>\n",
              "      <td>0.735426</td>\n",
              "      <td>0.788591</td>\n",
              "    </tr>\n",
              "  </tbody>\n",
              "</table>\n",
              "</div>"
            ],
            "text/plain": [
              "   accuracy  precision  recall  f1_score   roc_auc\n",
              "0  0.820122   0.836735   0.656  0.735426  0.788591"
            ]
          },
          "metadata": {
            "tags": []
          },
          "execution_count": 13
        }
      ]
    },
    {
      "cell_type": "code",
      "metadata": {
        "colab": {
          "base_uri": "https://localhost:8080/"
        },
        "id": "fWxoqS47iXLv",
        "outputId": "1bf2d39a-889e-415d-8681-d1d9b6573d7b"
      },
      "source": [
        "CP = conf[1].sum()\n",
        "TotP = conf.flatten().sum()\n",
        "AP = CP / TotP\n",
        "print('Correct Predictions: {} \\nTotal Predictions: {} \\nAccuracy: {}\\n\\n'.format(CP, TotP, round(AP,3)))\n",
        "\n",
        "TP = conf[1][1]\n",
        "FP = conf[0][1]\n",
        "Pr = TP / (TP + FP)\n",
        "print('True Positives: {} \\nFalse Positives: {} \\nPrecision: {}\\n'.format(TP, FP, round(Pr,3)))\n",
        "\n",
        "TP = conf[1][1]\n",
        "FN = conf[0][0]\n",
        "Rc = TP / (TP + FN)\n",
        "print('True Positives: {} \\nFalse Negatives: {}\\nRecall: {}\\n'.format(TP,FN,round(Rc, 3)))\n",
        "\n",
        "# TP = conf[1][1]\n",
        "# TotPos = conf[0][0] + conf[1][1]\n",
        "# Sen = TP / TotPos\n",
        "# print('True Positives: {} \\nTotal Positives: {} \\nSensitivity: {} \\n'.format(TP, TotPos, round(Sen, 3)))\n",
        "\n",
        "TN = conf[1][0]\n",
        "N = conf[1][0] + conf[0][1]\n",
        "Sp = TN / N\n",
        "print('True Negatives: {} \\nTotal Negatives: {} \\nSpecificity: {} \\n'.format(TN, N, round(Sp, 3)))\n",
        "\n",
        "\n"
      ],
      "execution_count": 14,
      "outputs": [
        {
          "output_type": "stream",
          "text": [
            "Correct Predictions: 269 \n",
            "Total Predictions: 328 \n",
            "Accuracy: 0.82\n",
            "\n",
            "\n",
            "True Positives: 82 \n",
            "False Positives: 16 \n",
            "Precision: 0.837\n",
            "\n",
            "True Positives: 82 \n",
            "False Negatives: 43\n",
            "Recall: 0.656\n",
            "\n",
            "True Negatives: 187 \n",
            "Total Negatives: 203 \n",
            "Specificity: 0.921 \n",
            "\n"
          ],
          "name": "stdout"
        }
      ]
    },
    {
      "cell_type": "markdown",
      "metadata": {
        "id": "5ZlMQcjOlnOE"
      },
      "source": [
        "Out of 328 records we had:\n",
        "* 43 false negatives (predicted a passenger would not survive when they did) \n",
        "* 16 false positives (predicted a passenger would survive when they did not)"
      ]
    },
    {
      "cell_type": "markdown",
      "metadata": {
        "id": "vr2arRJJpCe5"
      },
      "source": [
        "We create a dataframe of only incorrect predictions so we can examine the characteristics of the passengers our model misclassified."
      ]
    },
    {
      "cell_type": "code",
      "metadata": {
        "colab": {
          "base_uri": "https://localhost:8080/",
          "height": 197
        },
        "id": "ZTuFoVOomXrP",
        "outputId": "946a1ce8-66f0-4ff3-e750-1d304b9c81ca"
      },
      "source": [
        "wrong_pred = compar_xg[compar_xg['correct_pred'] == False]\n",
        "wrong_pred.head()"
      ],
      "execution_count": 15,
      "outputs": [
        {
          "output_type": "execute_result",
          "data": {
            "text/html": [
              "<div>\n",
              "<style scoped>\n",
              "    .dataframe tbody tr th:only-of-type {\n",
              "        vertical-align: middle;\n",
              "    }\n",
              "\n",
              "    .dataframe tbody tr th {\n",
              "        vertical-align: top;\n",
              "    }\n",
              "\n",
              "    .dataframe thead th {\n",
              "        text-align: right;\n",
              "    }\n",
              "</style>\n",
              "<table border=\"1\" class=\"dataframe\">\n",
              "  <thead>\n",
              "    <tr style=\"text-align: right;\">\n",
              "      <th></th>\n",
              "      <th>pclass</th>\n",
              "      <th>survived_x</th>\n",
              "      <th>name</th>\n",
              "      <th>sex</th>\n",
              "      <th>age</th>\n",
              "      <th>sibsp</th>\n",
              "      <th>parch</th>\n",
              "      <th>ticket</th>\n",
              "      <th>fare</th>\n",
              "      <th>cabin</th>\n",
              "      <th>embarked</th>\n",
              "      <th>boat</th>\n",
              "      <th>body</th>\n",
              "      <th>home.dest</th>\n",
              "      <th>survived_y</th>\n",
              "      <th>predicted</th>\n",
              "      <th>correct_pred</th>\n",
              "    </tr>\n",
              "  </thead>\n",
              "  <tbody>\n",
              "    <tr>\n",
              "      <th>1</th>\n",
              "      <td>1</td>\n",
              "      <td>1</td>\n",
              "      <td>Allison, Master. Hudson Trevor</td>\n",
              "      <td>male</td>\n",
              "      <td>0.9167</td>\n",
              "      <td>1</td>\n",
              "      <td>2</td>\n",
              "      <td>113781</td>\n",
              "      <td>151.55</td>\n",
              "      <td>C22 C26</td>\n",
              "      <td>S</td>\n",
              "      <td>11</td>\n",
              "      <td>NaN</td>\n",
              "      <td>Montreal, PQ / Chesterville, ON</td>\n",
              "      <td>1</td>\n",
              "      <td>0</td>\n",
              "      <td>False</td>\n",
              "    </tr>\n",
              "    <tr>\n",
              "      <th>56</th>\n",
              "      <td>1</td>\n",
              "      <td>1</td>\n",
              "      <td>Carter, Mr. William Ernest</td>\n",
              "      <td>male</td>\n",
              "      <td>36.0000</td>\n",
              "      <td>1</td>\n",
              "      <td>2</td>\n",
              "      <td>113760</td>\n",
              "      <td>120.00</td>\n",
              "      <td>B96 B98</td>\n",
              "      <td>S</td>\n",
              "      <td>C</td>\n",
              "      <td>NaN</td>\n",
              "      <td>Bryn Mawr, PA</td>\n",
              "      <td>1</td>\n",
              "      <td>0</td>\n",
              "      <td>False</td>\n",
              "    </tr>\n",
              "    <tr>\n",
              "      <th>64</th>\n",
              "      <td>1</td>\n",
              "      <td>1</td>\n",
              "      <td>Chambers, Mr. Norman Campbell</td>\n",
              "      <td>male</td>\n",
              "      <td>27.0000</td>\n",
              "      <td>1</td>\n",
              "      <td>0</td>\n",
              "      <td>113806</td>\n",
              "      <td>53.10</td>\n",
              "      <td>E8</td>\n",
              "      <td>S</td>\n",
              "      <td>5</td>\n",
              "      <td>NaN</td>\n",
              "      <td>New York, NY / Ithaca, NY</td>\n",
              "      <td>1</td>\n",
              "      <td>0</td>\n",
              "      <td>False</td>\n",
              "    </tr>\n",
              "    <tr>\n",
              "      <th>68</th>\n",
              "      <td>1</td>\n",
              "      <td>1</td>\n",
              "      <td>Chevre, Mr. Paul Romaine</td>\n",
              "      <td>male</td>\n",
              "      <td>45.0000</td>\n",
              "      <td>0</td>\n",
              "      <td>0</td>\n",
              "      <td>PC 17594</td>\n",
              "      <td>29.70</td>\n",
              "      <td>A9</td>\n",
              "      <td>C</td>\n",
              "      <td>7</td>\n",
              "      <td>NaN</td>\n",
              "      <td>Paris, France</td>\n",
              "      <td>1</td>\n",
              "      <td>0</td>\n",
              "      <td>False</td>\n",
              "    </tr>\n",
              "    <tr>\n",
              "      <th>91</th>\n",
              "      <td>1</td>\n",
              "      <td>1</td>\n",
              "      <td>Dick, Mr. Albert Adrian</td>\n",
              "      <td>male</td>\n",
              "      <td>31.0000</td>\n",
              "      <td>1</td>\n",
              "      <td>0</td>\n",
              "      <td>17474</td>\n",
              "      <td>57.00</td>\n",
              "      <td>B20</td>\n",
              "      <td>S</td>\n",
              "      <td>3</td>\n",
              "      <td>NaN</td>\n",
              "      <td>Calgary, AB</td>\n",
              "      <td>1</td>\n",
              "      <td>0</td>\n",
              "      <td>False</td>\n",
              "    </tr>\n",
              "  </tbody>\n",
              "</table>\n",
              "</div>"
            ],
            "text/plain": [
              "    pclass  survived_x  ... predicted correct_pred\n",
              "1        1           1  ...         0        False\n",
              "56       1           1  ...         0        False\n",
              "64       1           1  ...         0        False\n",
              "68       1           1  ...         0        False\n",
              "91       1           1  ...         0        False\n",
              "\n",
              "[5 rows x 17 columns]"
            ]
          },
          "metadata": {
            "tags": []
          },
          "execution_count": 15
        }
      ]
    },
    {
      "cell_type": "code",
      "metadata": {
        "colab": {
          "base_uri": "https://localhost:8080/",
          "height": 197
        },
        "id": "4Mw0uYdTnGpP",
        "outputId": "54cf9215-e543-47b1-a619-68a94b248c53"
      },
      "source": [
        "correct_pred = compar_xg[compar_xg['correct_pred'] == True]\n",
        "correct_pred.head()"
      ],
      "execution_count": 16,
      "outputs": [
        {
          "output_type": "execute_result",
          "data": {
            "text/html": [
              "<div>\n",
              "<style scoped>\n",
              "    .dataframe tbody tr th:only-of-type {\n",
              "        vertical-align: middle;\n",
              "    }\n",
              "\n",
              "    .dataframe tbody tr th {\n",
              "        vertical-align: top;\n",
              "    }\n",
              "\n",
              "    .dataframe thead th {\n",
              "        text-align: right;\n",
              "    }\n",
              "</style>\n",
              "<table border=\"1\" class=\"dataframe\">\n",
              "  <thead>\n",
              "    <tr style=\"text-align: right;\">\n",
              "      <th></th>\n",
              "      <th>pclass</th>\n",
              "      <th>survived_x</th>\n",
              "      <th>name</th>\n",
              "      <th>sex</th>\n",
              "      <th>age</th>\n",
              "      <th>sibsp</th>\n",
              "      <th>parch</th>\n",
              "      <th>ticket</th>\n",
              "      <th>fare</th>\n",
              "      <th>cabin</th>\n",
              "      <th>embarked</th>\n",
              "      <th>boat</th>\n",
              "      <th>body</th>\n",
              "      <th>home.dest</th>\n",
              "      <th>survived_y</th>\n",
              "      <th>predicted</th>\n",
              "      <th>correct_pred</th>\n",
              "    </tr>\n",
              "  </thead>\n",
              "  <tbody>\n",
              "    <tr>\n",
              "      <th>3</th>\n",
              "      <td>1</td>\n",
              "      <td>0</td>\n",
              "      <td>Allison, Mr. Hudson Joshua Creighton</td>\n",
              "      <td>male</td>\n",
              "      <td>30.0</td>\n",
              "      <td>1</td>\n",
              "      <td>2</td>\n",
              "      <td>113781</td>\n",
              "      <td>151.5500</td>\n",
              "      <td>C22 C26</td>\n",
              "      <td>S</td>\n",
              "      <td>NaN</td>\n",
              "      <td>135.0</td>\n",
              "      <td>Montreal, PQ / Chesterville, ON</td>\n",
              "      <td>0</td>\n",
              "      <td>0</td>\n",
              "      <td>True</td>\n",
              "    </tr>\n",
              "    <tr>\n",
              "      <th>7</th>\n",
              "      <td>1</td>\n",
              "      <td>0</td>\n",
              "      <td>Andrews, Mr. Thomas Jr</td>\n",
              "      <td>male</td>\n",
              "      <td>39.0</td>\n",
              "      <td>0</td>\n",
              "      <td>0</td>\n",
              "      <td>112050</td>\n",
              "      <td>0.0000</td>\n",
              "      <td>A36</td>\n",
              "      <td>S</td>\n",
              "      <td>NaN</td>\n",
              "      <td>NaN</td>\n",
              "      <td>Belfast, NI</td>\n",
              "      <td>0</td>\n",
              "      <td>0</td>\n",
              "      <td>True</td>\n",
              "    </tr>\n",
              "    <tr>\n",
              "      <th>13</th>\n",
              "      <td>1</td>\n",
              "      <td>1</td>\n",
              "      <td>Barber, Miss. Ellen 'Nellie'</td>\n",
              "      <td>female</td>\n",
              "      <td>26.0</td>\n",
              "      <td>0</td>\n",
              "      <td>0</td>\n",
              "      <td>19877</td>\n",
              "      <td>78.8500</td>\n",
              "      <td>NaN</td>\n",
              "      <td>S</td>\n",
              "      <td>6</td>\n",
              "      <td>NaN</td>\n",
              "      <td>NaN</td>\n",
              "      <td>1</td>\n",
              "      <td>1</td>\n",
              "      <td>True</td>\n",
              "    </tr>\n",
              "    <tr>\n",
              "      <th>15</th>\n",
              "      <td>1</td>\n",
              "      <td>0</td>\n",
              "      <td>Baumann, Mr. John D</td>\n",
              "      <td>male</td>\n",
              "      <td>NaN</td>\n",
              "      <td>0</td>\n",
              "      <td>0</td>\n",
              "      <td>PC 17318</td>\n",
              "      <td>25.9250</td>\n",
              "      <td>NaN</td>\n",
              "      <td>S</td>\n",
              "      <td>NaN</td>\n",
              "      <td>NaN</td>\n",
              "      <td>New York, NY</td>\n",
              "      <td>0</td>\n",
              "      <td>0</td>\n",
              "      <td>True</td>\n",
              "    </tr>\n",
              "    <tr>\n",
              "      <th>18</th>\n",
              "      <td>1</td>\n",
              "      <td>1</td>\n",
              "      <td>Bazzani, Miss. Albina</td>\n",
              "      <td>female</td>\n",
              "      <td>32.0</td>\n",
              "      <td>0</td>\n",
              "      <td>0</td>\n",
              "      <td>11813</td>\n",
              "      <td>76.2917</td>\n",
              "      <td>D15</td>\n",
              "      <td>C</td>\n",
              "      <td>8</td>\n",
              "      <td>NaN</td>\n",
              "      <td>NaN</td>\n",
              "      <td>1</td>\n",
              "      <td>1</td>\n",
              "      <td>True</td>\n",
              "    </tr>\n",
              "  </tbody>\n",
              "</table>\n",
              "</div>"
            ],
            "text/plain": [
              "    pclass  survived_x  ... predicted correct_pred\n",
              "3        1           0  ...         0         True\n",
              "7        1           0  ...         0         True\n",
              "13       1           1  ...         1         True\n",
              "15       1           0  ...         0         True\n",
              "18       1           1  ...         1         True\n",
              "\n",
              "[5 rows x 17 columns]"
            ]
          },
          "metadata": {
            "tags": []
          },
          "execution_count": 16
        }
      ]
    },
    {
      "cell_type": "markdown",
      "metadata": {
        "id": "afeNzMYNqYwI"
      },
      "source": [
        "**Visualising Incorrect Predictions**"
      ]
    },
    {
      "cell_type": "markdown",
      "metadata": {
        "id": "38nA4oo7pO7g"
      },
      "source": [
        "False Negatives"
      ]
    },
    {
      "cell_type": "code",
      "metadata": {
        "colab": {
          "base_uri": "https://localhost:8080/",
          "height": 301
        },
        "id": "hBNILzY7olCD",
        "outputId": "34fd6cb6-86ac-4947-820a-2faf299bb586"
      },
      "source": [
        "sns.countplot(data = wrong_pred[wrong_pred['survived_x'] == 1], x = 'sex', hue = 'pclass');\n",
        "# plt.ylim(0, 100);\n",
        "plt.title('Distribution of False Negatives by Sex and Passenger Class');"
      ],
      "execution_count": 17,
      "outputs": [
        {
          "output_type": "display_data",
          "data": {
            "image/png": "[encoded data removed]",
            "text/plain": [
              "<Figure size 432x288 with 1 Axes>"
            ]
          },
          "metadata": {
            "tags": []
          }
        }
      ]
    },
    {
      "cell_type": "markdown",
      "metadata": {
        "id": "C3G3TMNhpYqY"
      },
      "source": [
        "False Positives"
      ]
    },
    {
      "cell_type": "code",
      "metadata": {
        "colab": {
          "base_uri": "https://localhost:8080/",
          "height": 301
        },
        "id": "T4TTWyseo9Bj",
        "outputId": "e3fbbefb-eef5-4e30-8d38-d71ecfdff95e"
      },
      "source": [
        "sns.countplot(data = wrong_pred[wrong_pred['survived_x'] == 0], x = 'sex', hue = 'pclass');\n",
        "# plt.ylim(0, 35);\n",
        "plt.title('Distribution of False Positives by Sex and Passenger Class');"
      ],
      "execution_count": 18,
      "outputs": [
        {
          "output_type": "display_data",
          "data": {
            "image/png": "[encoded data removed]",
            "text/plain": [
              "<Figure size 432x288 with 1 Axes>"
            ]
          },
          "metadata": {
            "tags": []
          }
        }
      ]
    },
    {
      "cell_type": "markdown",
      "metadata": {
        "id": "I7i4BhLOpj8h"
      },
      "source": [
        "These two countplots show that there are patterns in the way our model misclassified data. \n",
        "* Male passengers more likely to be misclassified as not surviving when they did\n",
        "* Female passengers more likely to be misclassified as surviving when they did not\n",
        "  * Almost all false positives were 3rd class female passengers"
      ]
    },
    {
      "cell_type": "markdown",
      "metadata": {
        "id": "Kiw8e6JUkkVY"
      },
      "source": [
        "> 90% of passengers model predicted to survive were female:"
      ]
    },
    {
      "cell_type": "code",
      "metadata": {
        "colab": {
          "base_uri": "https://localhost:8080/"
        },
        "id": "nd3UjtdIUob6",
        "outputId": "3ac583b7-3143-451b-b917-53ec56d01137"
      },
      "source": [
        "compar_xg[(compar_xg['predicted'] == 1) & (compar_xg['sex'] == 'female')].shape[0] / compar_xg[(compar_xg['predicted'] == 1)].shape[0]"
      ],
      "execution_count": 49,
      "outputs": [
        {
          "output_type": "execute_result",
          "data": {
            "text/plain": [
              "0.9081632653061225"
            ]
          },
          "metadata": {
            "tags": []
          },
          "execution_count": 49
        }
      ]
    },
    {
      "cell_type": "markdown",
      "metadata": {
        "id": "aTIunmmJltvo"
      },
      "source": [
        "> 89% of passengers model predicted to not survive were male:"
      ]
    },
    {
      "cell_type": "code",
      "metadata": {
        "colab": {
          "base_uri": "https://localhost:8080/"
        },
        "id": "qgVdyU_QlhBK",
        "outputId": "772e31e3-5f56-4f31-dbc9-6eca89738584"
      },
      "source": [
        "compar_xg[(compar_xg['predicted'] == 0) & (compar_xg['sex'] == 'male')].shape[0] / compar_xg[(compar_xg['predicted'] == 0)].shape[0]"
      ],
      "execution_count": 50,
      "outputs": [
        {
          "output_type": "execute_result",
          "data": {
            "text/plain": [
              "0.8956521739130435"
            ]
          },
          "metadata": {
            "tags": []
          },
          "execution_count": 50
        }
      ]
    },
    {
      "cell_type": "markdown",
      "metadata": {
        "id": "UwQwFOCuN8oK"
      },
      "source": [
        "**Visualising Correct Predictions**"
      ]
    },
    {
      "cell_type": "code",
      "metadata": {
        "colab": {
          "base_uri": "https://localhost:8080/",
          "height": 301
        },
        "id": "aJ1hz8GiMh2u",
        "outputId": "2689720e-9981-48e0-e1e9-dcaeee3e566b"
      },
      "source": [
        "sns.countplot(data = correct_pred[correct_pred['survived_x'] == 1], x = 'sex', hue = 'pclass');\n",
        "plt.title('Distribution of True Positives by Sex and Passenger Class');"
      ],
      "execution_count": 55,
      "outputs": [
        {
          "output_type": "display_data",
          "data": {
            "image/png": "[encoded data removed]",
            "text/plain": [
              "<Figure size 432x288 with 1 Axes>"
            ]
          },
          "metadata": {
            "tags": []
          }
        }
      ]
    },
    {
      "cell_type": "code",
      "metadata": {
        "id": "GuyaxEzeuQR5",
        "colab": {
          "base_uri": "https://localhost:8080/",
          "height": 301
        },
        "outputId": "81f03328-62c9-46de-911a-603234707a6a"
      },
      "source": [
        "sns.countplot(data = correct_pred[correct_pred['survived_x'] == 0], x = 'sex', hue = 'pclass');\n",
        "plt.title('Distribution of True Negatives by Sex and Passenger Class');"
      ],
      "execution_count": null,
      "outputs": [
        {
          "output_type": "display_data",
          "data": {
            "image/png": "[encoded data removed]",
            "text/plain": [
              "<Figure size 432x288 with 1 Axes>"
            ]
          },
          "metadata": {
            "tags": []
          }
        }
      ]
    },
    {
      "cell_type": "markdown",
      "metadata": {
        "id": "gIgeLVVNkffh"
      },
      "source": [
        ""
      ]
    },
    {
      "cell_type": "markdown",
      "metadata": {
        "id": "GNtLePPjg03l"
      },
      "source": [
        "# 775 Notebook "
      ]
    },
    {
      "cell_type": "markdown",
      "metadata": {
        "id": "n9dvyEHcgugQ"
      },
      "source": [
        "## Titanic Dataset: Who Most Likely Survived? \n",
        "\n",
        "---\n",
        "\n"
      ]
    },
    {
      "cell_type": "markdown",
      "metadata": {
        "id": "I6WLNxHzgugk"
      },
      "source": [
        "#### By Cohort B Team 6: (Sylar)Jiajian Guo, Lequn Yu, Qiqi Tang, Scott McCoy, Tiam Moradi"
      ]
    },
    {
      "cell_type": "markdown",
      "metadata": {
        "id": "zyRZP5z8gugo"
      },
      "source": [
        "### Import Packages and Titanic Dataset"
      ]
    },
    {
      "cell_type": "code",
      "metadata": {
        "id": "EA3Bcu8Vgugr"
      },
      "source": [
        "%%bigquery \n",
        "SELECT * \n",
        "FROM `ba775-team-6b.Project.passengers`"
      ],
      "execution_count": null,
      "outputs": []
    },
    {
      "cell_type": "markdown",
      "metadata": {
        "id": "pO8TDN8ugug9"
      },
      "source": [
        "### Preview of the Dataset"
      ]
    },
    {
      "cell_type": "code",
      "metadata": {
        "id": "8jUTPkGOguhA",
        "outputId": "f2fa5d90-91ee-4812-d966-838e4f3718e2"
      },
      "source": [
        "%%bigquery\n",
        "SELECT *\n",
        "FROM `ba775-team-6b.Project.passengers`\n",
        "LIMIT 5"
      ],
      "execution_count": null,
      "outputs": [
        {
          "output_type": "execute_result",
          "data": {
            "text/html": [
              "<div>\n",
              "<style scoped>\n",
              "    .dataframe tbody tr th:only-of-type {\n",
              "        vertical-align: middle;\n",
              "    }\n",
              "\n",
              "    .dataframe tbody tr th {\n",
              "        vertical-align: top;\n",
              "    }\n",
              "\n",
              "    .dataframe thead th {\n",
              "        text-align: right;\n",
              "    }\n",
              "</style>\n",
              "<table border=\"1\" class=\"dataframe\">\n",
              "  <thead>\n",
              "    <tr style=\"text-align: right;\">\n",
              "      <th></th>\n",
              "      <th>pclass</th>\n",
              "      <th>survived</th>\n",
              "      <th>name</th>\n",
              "      <th>sex</th>\n",
              "      <th>age</th>\n",
              "      <th>sibsp</th>\n",
              "      <th>parch</th>\n",
              "      <th>ticket</th>\n",
              "      <th>fare</th>\n",
              "      <th>cabin</th>\n",
              "      <th>embarked</th>\n",
              "      <th>boat</th>\n",
              "      <th>body</th>\n",
              "      <th>home_dest</th>\n",
              "    </tr>\n",
              "  </thead>\n",
              "  <tbody>\n",
              "    <tr>\n",
              "      <th>0</th>\n",
              "      <td>3</td>\n",
              "      <td>0</td>\n",
              "      <td>Storey, Mr. Thomas</td>\n",
              "      <td>male</td>\n",
              "      <td>60.5</td>\n",
              "      <td>0</td>\n",
              "      <td>0</td>\n",
              "      <td>3701</td>\n",
              "      <td>NaN</td>\n",
              "      <td>None</td>\n",
              "      <td>S</td>\n",
              "      <td>None</td>\n",
              "      <td>261.0</td>\n",
              "      <td>None</td>\n",
              "    </tr>\n",
              "    <tr>\n",
              "      <th>1</th>\n",
              "      <td>1</td>\n",
              "      <td>0</td>\n",
              "      <td>Andrews, Mr. Thomas Jr</td>\n",
              "      <td>male</td>\n",
              "      <td>39.0</td>\n",
              "      <td>0</td>\n",
              "      <td>0</td>\n",
              "      <td>112050</td>\n",
              "      <td>0.0</td>\n",
              "      <td>A36</td>\n",
              "      <td>S</td>\n",
              "      <td>None</td>\n",
              "      <td>NaN</td>\n",
              "      <td>Belfast, NI</td>\n",
              "    </tr>\n",
              "    <tr>\n",
              "      <th>2</th>\n",
              "      <td>1</td>\n",
              "      <td>0</td>\n",
              "      <td>Chisholm, Mr. Roderick Robert Crispin</td>\n",
              "      <td>male</td>\n",
              "      <td>NaN</td>\n",
              "      <td>0</td>\n",
              "      <td>0</td>\n",
              "      <td>112051</td>\n",
              "      <td>0.0</td>\n",
              "      <td>None</td>\n",
              "      <td>S</td>\n",
              "      <td>None</td>\n",
              "      <td>NaN</td>\n",
              "      <td>Liverpool, England / Belfast</td>\n",
              "    </tr>\n",
              "    <tr>\n",
              "      <th>3</th>\n",
              "      <td>1</td>\n",
              "      <td>0</td>\n",
              "      <td>Fry, Mr. Richard</td>\n",
              "      <td>male</td>\n",
              "      <td>NaN</td>\n",
              "      <td>0</td>\n",
              "      <td>0</td>\n",
              "      <td>112058</td>\n",
              "      <td>0.0</td>\n",
              "      <td>B102</td>\n",
              "      <td>S</td>\n",
              "      <td>None</td>\n",
              "      <td>NaN</td>\n",
              "      <td>None</td>\n",
              "    </tr>\n",
              "    <tr>\n",
              "      <th>4</th>\n",
              "      <td>1</td>\n",
              "      <td>0</td>\n",
              "      <td>Harrison, Mr. William</td>\n",
              "      <td>male</td>\n",
              "      <td>40.0</td>\n",
              "      <td>0</td>\n",
              "      <td>0</td>\n",
              "      <td>112059</td>\n",
              "      <td>0.0</td>\n",
              "      <td>B94</td>\n",
              "      <td>S</td>\n",
              "      <td>None</td>\n",
              "      <td>110.0</td>\n",
              "      <td>None</td>\n",
              "    </tr>\n",
              "  </tbody>\n",
              "</table>\n",
              "</div>"
            ],
            "text/plain": [
              "   pclass  survived                                   name   sex   age  sibsp  \\\n",
              "0       3         0                     Storey, Mr. Thomas  male  60.5      0   \n",
              "1       1         0                 Andrews, Mr. Thomas Jr  male  39.0      0   \n",
              "2       1         0  Chisholm, Mr. Roderick Robert Crispin  male   NaN      0   \n",
              "3       1         0                       Fry, Mr. Richard  male   NaN      0   \n",
              "4       1         0                  Harrison, Mr. William  male  40.0      0   \n",
              "\n",
              "   parch  ticket  fare cabin embarked  boat   body  \\\n",
              "0      0    3701   NaN  None        S  None  261.0   \n",
              "1      0  112050   0.0   A36        S  None    NaN   \n",
              "2      0  112051   0.0  None        S  None    NaN   \n",
              "3      0  112058   0.0  B102        S  None    NaN   \n",
              "4      0  112059   0.0   B94        S  None  110.0   \n",
              "\n",
              "                      home_dest  \n",
              "0                          None  \n",
              "1                   Belfast, NI  \n",
              "2  Liverpool, England / Belfast  \n",
              "3                          None  \n",
              "4                          None  "
            ]
          },
          "metadata": {
            "tags": []
          },
          "execution_count": 1
        }
      ]
    },
    {
      "cell_type": "markdown",
      "metadata": {
        "id": "-0-TEr_IguhR"
      },
      "source": [
        "### How many people survived the Titanic shipwrek? \n",
        "\n",
        "---\n",
        "\n",
        "\n",
        "\n",
        "The first question we asked was how many people in the dataset survived the accident, and what is the overall survival rate. With 500 passengers survived out of 1309 in total, only 38 percent of people survived."
      ]
    },
    {
      "cell_type": "markdown",
      "metadata": {
        "id": "-CcLaECmguhU"
      },
      "source": [
        "The titanic dataset has a number of features about each passenger that could be used as indicators affecting their chances of surviving. We analyzed each feature independently and found that the most significant indicators of survival were sex, passenger class, and age. Our analysis focuses on these features, but also discusses other relevant features that have potential predictive capability."
      ]
    },
    {
      "cell_type": "code",
      "metadata": {
        "id": "0sNvM_D4guhW",
        "outputId": "5f636d2a-95f7-459d-a040-d479eb6d3d77"
      },
      "source": [
        "%%bigquery\n",
        "SELECT count(CASE WHEN survived = 1 THEN 1 ELSE NULL END) AS number_of_survivors\n",
        "FROM `ba775-team-6b.Project.passengers`\n"
      ],
      "execution_count": null,
      "outputs": [
        {
          "output_type": "execute_result",
          "data": {
            "text/html": [
              "<div>\n",
              "<style scoped>\n",
              "    .dataframe tbody tr th:only-of-type {\n",
              "        vertical-align: middle;\n",
              "    }\n",
              "\n",
              "    .dataframe tbody tr th {\n",
              "        vertical-align: top;\n",
              "    }\n",
              "\n",
              "    .dataframe thead th {\n",
              "        text-align: right;\n",
              "    }\n",
              "</style>\n",
              "<table border=\"1\" class=\"dataframe\">\n",
              "  <thead>\n",
              "    <tr style=\"text-align: right;\">\n",
              "      <th></th>\n",
              "      <th>number_of_survivors</th>\n",
              "    </tr>\n",
              "  </thead>\n",
              "  <tbody>\n",
              "    <tr>\n",
              "      <th>0</th>\n",
              "      <td>500</td>\n",
              "    </tr>\n",
              "  </tbody>\n",
              "</table>\n",
              "</div>"
            ],
            "text/plain": [
              "   number_of_survivors\n",
              "0                  500"
            ]
          },
          "metadata": {
            "tags": []
          },
          "execution_count": 3
        }
      ]
    },
    {
      "cell_type": "code",
      "metadata": {
        "id": "lyDWZQmgguhk",
        "outputId": "e05f5429-eafb-4bbf-b919-bcc55b122d6e"
      },
      "source": [
        "%%bigquery\n",
        "SELECT count(*) AS number_of_passengers\n",
        "FROM `ba775-team-6b.Project.passengers`"
      ],
      "execution_count": null,
      "outputs": [
        {
          "output_type": "execute_result",
          "data": {
            "text/html": [
              "<div>\n",
              "<style scoped>\n",
              "    .dataframe tbody tr th:only-of-type {\n",
              "        vertical-align: middle;\n",
              "    }\n",
              "\n",
              "    .dataframe tbody tr th {\n",
              "        vertical-align: top;\n",
              "    }\n",
              "\n",
              "    .dataframe thead th {\n",
              "        text-align: right;\n",
              "    }\n",
              "</style>\n",
              "<table border=\"1\" class=\"dataframe\">\n",
              "  <thead>\n",
              "    <tr style=\"text-align: right;\">\n",
              "      <th></th>\n",
              "      <th>number_of_passengers</th>\n",
              "    </tr>\n",
              "  </thead>\n",
              "  <tbody>\n",
              "    <tr>\n",
              "      <th>0</th>\n",
              "      <td>1309</td>\n",
              "    </tr>\n",
              "  </tbody>\n",
              "</table>\n",
              "</div>"
            ],
            "text/plain": [
              "   number_of_passengers\n",
              "0                  1309"
            ]
          },
          "metadata": {
            "tags": []
          },
          "execution_count": 4
        }
      ]
    },
    {
      "cell_type": "code",
      "metadata": {
        "id": "MjZWrbzdguhz",
        "outputId": "2f5cc84a-ab2f-45e3-c5db-147f8941adb2"
      },
      "source": [
        "%%bigquery\n",
        "SELECT (count(CASE WHEN survived = 1 THEN 1 ELSE NULL END) / count(*)) * 100 AS passenger_survival_percentage\n",
        "FROM `ba775-team-6b.Project.passengers`"
      ],
      "execution_count": null,
      "outputs": [
        {
          "output_type": "execute_result",
          "data": {
            "text/html": [
              "<div>\n",
              "<style scoped>\n",
              "    .dataframe tbody tr th:only-of-type {\n",
              "        vertical-align: middle;\n",
              "    }\n",
              "\n",
              "    .dataframe tbody tr th {\n",
              "        vertical-align: top;\n",
              "    }\n",
              "\n",
              "    .dataframe thead th {\n",
              "        text-align: right;\n",
              "    }\n",
              "</style>\n",
              "<table border=\"1\" class=\"dataframe\">\n",
              "  <thead>\n",
              "    <tr style=\"text-align: right;\">\n",
              "      <th></th>\n",
              "      <th>passenger_survival_percentage</th>\n",
              "    </tr>\n",
              "  </thead>\n",
              "  <tbody>\n",
              "    <tr>\n",
              "      <th>0</th>\n",
              "      <td>38.197097</td>\n",
              "    </tr>\n",
              "  </tbody>\n",
              "</table>\n",
              "</div>"
            ],
            "text/plain": [
              "   passenger_survival_percentage\n",
              "0                      38.197097"
            ]
          },
          "metadata": {
            "tags": []
          },
          "execution_count": 6
        }
      ]
    },
    {
      "cell_type": "markdown",
      "metadata": {
        "id": "rxAtKo_oguiA"
      },
      "source": [
        "### Survival by Sex \n",
        "\n",
        "After calculating survival rates based on sex, we found that female passengers had a significantly higher survival rate at 72 percent, to male passengers at 19 percent."
      ]
    },
    {
      "cell_type": "code",
      "metadata": {
        "id": "FoK2mZQDguiD",
        "outputId": "64e23e7f-20ff-496a-d4c6-c96efa71bb72"
      },
      "source": [
        "%%bigquery\n",
        "SELECT sex, count(*) Number_Passengers, sum(survived) Number_Survivors, (sum(survived) / count(*)) Survival_Percentage \n",
        "FROM `ba775-team-6b.Project.passengers`\n",
        "GROUP BY sex\n",
        "#comparing survival statistics of male and female passengers"
      ],
      "execution_count": null,
      "outputs": [
        {
          "output_type": "execute_result",
          "data": {
            "text/html": [
              "<div>\n",
              "<style scoped>\n",
              "    .dataframe tbody tr th:only-of-type {\n",
              "        vertical-align: middle;\n",
              "    }\n",
              "\n",
              "    .dataframe tbody tr th {\n",
              "        vertical-align: top;\n",
              "    }\n",
              "\n",
              "    .dataframe thead th {\n",
              "        text-align: right;\n",
              "    }\n",
              "</style>\n",
              "<table border=\"1\" class=\"dataframe\">\n",
              "  <thead>\n",
              "    <tr style=\"text-align: right;\">\n",
              "      <th></th>\n",
              "      <th>sex</th>\n",
              "      <th>Number_Passengers</th>\n",
              "      <th>Number_Survivors</th>\n",
              "      <th>Survival_Percentage</th>\n",
              "    </tr>\n",
              "  </thead>\n",
              "  <tbody>\n",
              "    <tr>\n",
              "      <th>0</th>\n",
              "      <td>male</td>\n",
              "      <td>843</td>\n",
              "      <td>161</td>\n",
              "      <td>0.190985</td>\n",
              "    </tr>\n",
              "    <tr>\n",
              "      <th>1</th>\n",
              "      <td>female</td>\n",
              "      <td>466</td>\n",
              "      <td>339</td>\n",
              "      <td>0.727468</td>\n",
              "    </tr>\n",
              "  </tbody>\n",
              "</table>\n",
              "</div>"
            ],
            "text/plain": [
              "      sex  Number_Passengers  Number_Survivors  Survival_Percentage\n",
              "0    male                843               161             0.190985\n",
              "1  female                466               339             0.727468"
            ]
          },
          "metadata": {
            "tags": []
          },
          "execution_count": 8
        }
      ]
    },
    {
      "cell_type": "markdown",
      "metadata": {
        "id": "8dEn58esguiP"
      },
      "source": [
        "### Survival by Passenger Class\n",
        "\n",
        "When looking into survival rate based on passenger class, we see that class 1 had the highest survival rate of 61 percent, followed by class 2 with 42 percent, and finally class 3 with 25 percent. One thing to also notice is that there are more passengers in class 3 than class 1 and class 2 combined. Our hypothesis for why there is a big disparity of the survival rates is because of the locations of the passenger rooms on the titanic for a different passenger classes."
      ]
    },
    {
      "cell_type": "code",
      "metadata": {
        "id": "CF0VFTEsguiT",
        "outputId": "9b6addbb-7ee6-4714-a4d9-4a0b26d92867"
      },
      "source": [
        "%%bigquery\n",
        "SELECT pclass, count(*) Number_Passengers, sum(survived) Number_Survivors, (sum(survived) / count(*)) Survival_Percentage \n",
        "FROM `ba775-team-6b.Project.passengers`\n",
        "GROUP BY pclass\n",
        "ORDER BY pclass\n",
        "#comparing survival rate between passenger classes"
      ],
      "execution_count": null,
      "outputs": [
        {
          "output_type": "execute_result",
          "data": {
            "text/html": [
              "<div>\n",
              "<style scoped>\n",
              "    .dataframe tbody tr th:only-of-type {\n",
              "        vertical-align: middle;\n",
              "    }\n",
              "\n",
              "    .dataframe tbody tr th {\n",
              "        vertical-align: top;\n",
              "    }\n",
              "\n",
              "    .dataframe thead th {\n",
              "        text-align: right;\n",
              "    }\n",
              "</style>\n",
              "<table border=\"1\" class=\"dataframe\">\n",
              "  <thead>\n",
              "    <tr style=\"text-align: right;\">\n",
              "      <th></th>\n",
              "      <th>pclass</th>\n",
              "      <th>Number_Passengers</th>\n",
              "      <th>Number_Survivors</th>\n",
              "      <th>Survival_Percentage</th>\n",
              "    </tr>\n",
              "  </thead>\n",
              "  <tbody>\n",
              "    <tr>\n",
              "      <th>0</th>\n",
              "      <td>1</td>\n",
              "      <td>323</td>\n",
              "      <td>200</td>\n",
              "      <td>0.619195</td>\n",
              "    </tr>\n",
              "    <tr>\n",
              "      <th>1</th>\n",
              "      <td>2</td>\n",
              "      <td>277</td>\n",
              "      <td>119</td>\n",
              "      <td>0.429603</td>\n",
              "    </tr>\n",
              "    <tr>\n",
              "      <th>2</th>\n",
              "      <td>3</td>\n",
              "      <td>709</td>\n",
              "      <td>181</td>\n",
              "      <td>0.255289</td>\n",
              "    </tr>\n",
              "  </tbody>\n",
              "</table>\n",
              "</div>"
            ],
            "text/plain": [
              "   pclass  Number_Passengers  Number_Survivors  Survival_Percentage\n",
              "0       1                323               200             0.619195\n",
              "1       2                277               119             0.429603\n",
              "2       3                709               181             0.255289"
            ]
          },
          "metadata": {
            "tags": []
          },
          "execution_count": 9
        }
      ]
    },
    {
      "cell_type": "markdown",
      "metadata": {
        "id": "pDTTIswrguig"
      },
      "source": [
        "### Survival by Age Group\n",
        "\n",
        "Following the theme of analyzing survival rates based on different factors, we decided to compare the survival rates based on age. We define a child is a person under 18, an adult is a person between the ages of 18 and 50, and Elder as a person over 50 years old. Children had the highest survival rate, followed by adults and elderly. With the dataset, we also see that there was a quite large group created called None which means we had Null values within the age column of our dataset. The Elder's survival rate is not very meaningful due to its lack of data number of only 15."
      ]
    },
    {
      "cell_type": "code",
      "metadata": {
        "id": "VBcJ2WfHguii",
        "outputId": "ca6edefd-957e-46ba-98a8-893bdef17198"
      },
      "source": [
        "%%bigquery\n",
        "WITH AGEGROUP AS\n",
        "\n",
        "(SELECT *, \n",
        "CASE WHEN age > 0 AND age < 18 THEN  'Child'\n",
        "WHEN  age > 17.999 AND age  < 50 THEN 'Adult'\n",
        "WHEN age <=50  THEN 'Elder'\n",
        "ELSE NULL END AS age_group\n",
        "FROM `ba775-team-6b.Project.passengers`\n",
        ")\n",
        "\n",
        "SELECT age_group, count(*) Number_Passengers, sum(survived) Number_Survivors, (sum(survived) / count(*)) Survival_Percentage \n",
        "FROM AGEGROUP\n",
        "GROUP BY age_group\n",
        "#comparing survival rate between age groups"
      ],
      "execution_count": null,
      "outputs": [
        {
          "output_type": "execute_result",
          "data": {
            "text/html": [
              "<div>\n",
              "<style scoped>\n",
              "    .dataframe tbody tr th:only-of-type {\n",
              "        vertical-align: middle;\n",
              "    }\n",
              "\n",
              "    .dataframe tbody tr th {\n",
              "        vertical-align: top;\n",
              "    }\n",
              "\n",
              "    .dataframe thead th {\n",
              "        text-align: right;\n",
              "    }\n",
              "</style>\n",
              "<table border=\"1\" class=\"dataframe\">\n",
              "  <thead>\n",
              "    <tr style=\"text-align: right;\">\n",
              "      <th></th>\n",
              "      <th>age_group</th>\n",
              "      <th>Number_Passengers</th>\n",
              "      <th>Number_Survivors</th>\n",
              "      <th>Survival_Percentage</th>\n",
              "    </tr>\n",
              "  </thead>\n",
              "  <tbody>\n",
              "    <tr>\n",
              "      <th>0</th>\n",
              "      <td>None</td>\n",
              "      <td>358</td>\n",
              "      <td>111</td>\n",
              "      <td>0.310056</td>\n",
              "    </tr>\n",
              "    <tr>\n",
              "      <th>1</th>\n",
              "      <td>Adult</td>\n",
              "      <td>782</td>\n",
              "      <td>302</td>\n",
              "      <td>0.386189</td>\n",
              "    </tr>\n",
              "    <tr>\n",
              "      <th>2</th>\n",
              "      <td>Child</td>\n",
              "      <td>154</td>\n",
              "      <td>81</td>\n",
              "      <td>0.525974</td>\n",
              "    </tr>\n",
              "    <tr>\n",
              "      <th>3</th>\n",
              "      <td>Elder</td>\n",
              "      <td>15</td>\n",
              "      <td>6</td>\n",
              "      <td>0.400000</td>\n",
              "    </tr>\n",
              "  </tbody>\n",
              "</table>\n",
              "</div>"
            ],
            "text/plain": [
              "  age_group  Number_Passengers  Number_Survivors  Survival_Percentage\n",
              "0      None                358               111             0.310056\n",
              "1     Adult                782               302             0.386189\n",
              "2     Child                154                81             0.525974\n",
              "3     Elder                 15                 6             0.400000"
            ]
          },
          "metadata": {
            "tags": []
          },
          "execution_count": 14
        }
      ]
    },
    {
      "cell_type": "markdown",
      "metadata": {
        "id": "Yu7RX3wjguiu"
      },
      "source": [
        "### Survival by Passenger's Number of Siblings / Spouces\n",
        "\n",
        "First aspect to note is that 891 passengers did not have a sibling or a spouse, yet this demographic contributed to over 68 percent of the population. It is also interesting that the group with the highest survival rate had atleast a spouse or siblings on board the Titanic. Once we look at passnegers having 2 siblings or more, we see a decline in the survival rate."
      ]
    },
    {
      "cell_type": "code",
      "metadata": {
        "id": "02AEINcdguiw",
        "outputId": "20f1486b-4901-426a-e4a9-9a903a9ac0b7"
      },
      "source": [
        "%%bigquery\n",
        "SELECT SibSp, count(*) Number_Passengers, sum(survived) Number_Survivors, (sum(survived) / count(*)) Survival_Percentage \n",
        "FROM `ba775-team-6b.Project.passengers`\n",
        "GROUP BY SibSp\n",
        "ORDER BY SibSp\n",
        "#comparing survival rate between passenger numbers of siblings / spouses aboard  "
      ],
      "execution_count": null,
      "outputs": [
        {
          "output_type": "execute_result",
          "data": {
            "text/html": [
              "<div>\n",
              "<style scoped>\n",
              "    .dataframe tbody tr th:only-of-type {\n",
              "        vertical-align: middle;\n",
              "    }\n",
              "\n",
              "    .dataframe tbody tr th {\n",
              "        vertical-align: top;\n",
              "    }\n",
              "\n",
              "    .dataframe thead th {\n",
              "        text-align: right;\n",
              "    }\n",
              "</style>\n",
              "<table border=\"1\" class=\"dataframe\">\n",
              "  <thead>\n",
              "    <tr style=\"text-align: right;\">\n",
              "      <th></th>\n",
              "      <th>SibSp</th>\n",
              "      <th>Number_Passengers</th>\n",
              "      <th>Number_Survivors</th>\n",
              "      <th>Survival_Percentage</th>\n",
              "    </tr>\n",
              "  </thead>\n",
              "  <tbody>\n",
              "    <tr>\n",
              "      <th>0</th>\n",
              "      <td>0</td>\n",
              "      <td>891</td>\n",
              "      <td>309</td>\n",
              "      <td>0.346801</td>\n",
              "    </tr>\n",
              "    <tr>\n",
              "      <th>1</th>\n",
              "      <td>1</td>\n",
              "      <td>319</td>\n",
              "      <td>163</td>\n",
              "      <td>0.510972</td>\n",
              "    </tr>\n",
              "    <tr>\n",
              "      <th>2</th>\n",
              "      <td>2</td>\n",
              "      <td>42</td>\n",
              "      <td>19</td>\n",
              "      <td>0.452381</td>\n",
              "    </tr>\n",
              "    <tr>\n",
              "      <th>3</th>\n",
              "      <td>3</td>\n",
              "      <td>20</td>\n",
              "      <td>6</td>\n",
              "      <td>0.300000</td>\n",
              "    </tr>\n",
              "    <tr>\n",
              "      <th>4</th>\n",
              "      <td>4</td>\n",
              "      <td>22</td>\n",
              "      <td>3</td>\n",
              "      <td>0.136364</td>\n",
              "    </tr>\n",
              "    <tr>\n",
              "      <th>5</th>\n",
              "      <td>5</td>\n",
              "      <td>6</td>\n",
              "      <td>0</td>\n",
              "      <td>0.000000</td>\n",
              "    </tr>\n",
              "    <tr>\n",
              "      <th>6</th>\n",
              "      <td>8</td>\n",
              "      <td>9</td>\n",
              "      <td>0</td>\n",
              "      <td>0.000000</td>\n",
              "    </tr>\n",
              "  </tbody>\n",
              "</table>\n",
              "</div>"
            ],
            "text/plain": [
              "   SibSp  Number_Passengers  Number_Survivors  Survival_Percentage\n",
              "0      0                891               309             0.346801\n",
              "1      1                319               163             0.510972\n",
              "2      2                 42                19             0.452381\n",
              "3      3                 20                 6             0.300000\n",
              "4      4                 22                 3             0.136364\n",
              "5      5                  6                 0             0.000000\n",
              "6      8                  9                 0             0.000000"
            ]
          },
          "metadata": {
            "tags": []
          },
          "execution_count": 17
        }
      ]
    },
    {
      "cell_type": "markdown",
      "metadata": {
        "id": "JwNI2Sz-gui9"
      },
      "source": [
        "### Survival by Port Embarked\n",
        "\n",
        "Here are able to get a sense of where the passengers have arrived from."
      ]
    },
    {
      "cell_type": "code",
      "metadata": {
        "id": "gfQJ3saggui_",
        "outputId": "2ef41a5b-1ad2-421c-834a-287bec6fc7e6"
      },
      "source": [
        "%%bigquery\n",
        "SELECT \n",
        "CASE\n",
        "WHEN embarked = 'C' THEN 'Cherbourg, France'\n",
        "WHEN embarked = 'Q' THEN 'Queenstown, Ireland'\n",
        "WHEN embarked = 'S' THEN 'Southampton, England'\n",
        "END AS port_of_embarkation, count(*) Number_Passengers, sum(survived) Number_Survivors, (sum(survived) / count(*)) Survival_Percentage \n",
        "FROM `ba775-team-6b.Project.passengers`\n",
        "WHERE embarked IS NOT NULL\n",
        "GROUP BY embarked\n",
        "ORDER BY embarked\n",
        "#comparing survival rate between passenger with different ports embarked"
      ],
      "execution_count": null,
      "outputs": [
        {
          "output_type": "execute_result",
          "data": {
            "text/html": [
              "<div>\n",
              "<style scoped>\n",
              "    .dataframe tbody tr th:only-of-type {\n",
              "        vertical-align: middle;\n",
              "    }\n",
              "\n",
              "    .dataframe tbody tr th {\n",
              "        vertical-align: top;\n",
              "    }\n",
              "\n",
              "    .dataframe thead th {\n",
              "        text-align: right;\n",
              "    }\n",
              "</style>\n",
              "<table border=\"1\" class=\"dataframe\">\n",
              "  <thead>\n",
              "    <tr style=\"text-align: right;\">\n",
              "      <th></th>\n",
              "      <th>port_of_embarkation</th>\n",
              "      <th>Number_Passengers</th>\n",
              "      <th>Number_Survivors</th>\n",
              "      <th>Survival_Percentage</th>\n",
              "    </tr>\n",
              "  </thead>\n",
              "  <tbody>\n",
              "    <tr>\n",
              "      <th>0</th>\n",
              "      <td>Cherbourg, France</td>\n",
              "      <td>270</td>\n",
              "      <td>150</td>\n",
              "      <td>0.555556</td>\n",
              "    </tr>\n",
              "    <tr>\n",
              "      <th>1</th>\n",
              "      <td>Queenstown, Ireland</td>\n",
              "      <td>123</td>\n",
              "      <td>44</td>\n",
              "      <td>0.357724</td>\n",
              "    </tr>\n",
              "    <tr>\n",
              "      <th>2</th>\n",
              "      <td>Southampton, England</td>\n",
              "      <td>914</td>\n",
              "      <td>304</td>\n",
              "      <td>0.332604</td>\n",
              "    </tr>\n",
              "  </tbody>\n",
              "</table>\n",
              "</div>"
            ],
            "text/plain": [
              "    port_of_embarkation  Number_Passengers  Number_Survivors  \\\n",
              "0     Cherbourg, France                270               150   \n",
              "1   Queenstown, Ireland                123                44   \n",
              "2  Southampton, England                914               304   \n",
              "\n",
              "   Survival_Percentage  \n",
              "0             0.555556  \n",
              "1             0.357724  \n",
              "2             0.332604  "
            ]
          },
          "metadata": {
            "tags": []
          },
          "execution_count": 18
        }
      ]
    },
    {
      "cell_type": "markdown",
      "metadata": {
        "id": "tRA2TsrTgujN"
      },
      "source": [
        "Further analysis shows us that Cherbourg, the port with the highgest survival percentage, also had the highest share of first class passengers. "
      ]
    },
    {
      "cell_type": "code",
      "metadata": {
        "id": "jBpxwNAFgujP",
        "outputId": "b472beaf-ed39-44b5-9967-e6c166a4deb3"
      },
      "source": [
        "%%bigquery\n",
        "SELECT\n",
        "  CASE\n",
        "    WHEN embarked = 'C' THEN 'Cherbourg, France'\n",
        "    WHEN embarked = 'Q' THEN 'Queenstown, Ireland'\n",
        "    WHEN embarked = 'S' THEN 'Southampton, UK'\n",
        "END\n",
        "  AS port_of_embarkation,\n",
        "    pclass,\n",
        "  COUNT(*) Number_Passengers,\n",
        "\n",
        "  \n",
        "FROM\n",
        "  `ba775-team-6b.Project.passengers`\n",
        "WHERE\n",
        "  embarked IS NOT NULL\n",
        "GROUP BY\n",
        "  embarked,\n",
        "  pclass\n",
        "ORDER BY\n",
        "  embarked,\n",
        "  pclass"
      ],
      "execution_count": null,
      "outputs": [
        {
          "output_type": "execute_result",
          "data": {
            "text/html": [
              "<div>\n",
              "<style scoped>\n",
              "    .dataframe tbody tr th:only-of-type {\n",
              "        vertical-align: middle;\n",
              "    }\n",
              "\n",
              "    .dataframe tbody tr th {\n",
              "        vertical-align: top;\n",
              "    }\n",
              "\n",
              "    .dataframe thead th {\n",
              "        text-align: right;\n",
              "    }\n",
              "</style>\n",
              "<table border=\"1\" class=\"dataframe\">\n",
              "  <thead>\n",
              "    <tr style=\"text-align: right;\">\n",
              "      <th></th>\n",
              "      <th>port_of_embarkation</th>\n",
              "      <th>pclass</th>\n",
              "      <th>Number_Passengers</th>\n",
              "    </tr>\n",
              "  </thead>\n",
              "  <tbody>\n",
              "    <tr>\n",
              "      <th>0</th>\n",
              "      <td>Cherbourg, France</td>\n",
              "      <td>1</td>\n",
              "      <td>141</td>\n",
              "    </tr>\n",
              "    <tr>\n",
              "      <th>1</th>\n",
              "      <td>Cherbourg, France</td>\n",
              "      <td>2</td>\n",
              "      <td>28</td>\n",
              "    </tr>\n",
              "    <tr>\n",
              "      <th>2</th>\n",
              "      <td>Cherbourg, France</td>\n",
              "      <td>3</td>\n",
              "      <td>101</td>\n",
              "    </tr>\n",
              "    <tr>\n",
              "      <th>3</th>\n",
              "      <td>Queenstown, Ireland</td>\n",
              "      <td>1</td>\n",
              "      <td>3</td>\n",
              "    </tr>\n",
              "    <tr>\n",
              "      <th>4</th>\n",
              "      <td>Queenstown, Ireland</td>\n",
              "      <td>2</td>\n",
              "      <td>7</td>\n",
              "    </tr>\n",
              "    <tr>\n",
              "      <th>5</th>\n",
              "      <td>Queenstown, Ireland</td>\n",
              "      <td>3</td>\n",
              "      <td>113</td>\n",
              "    </tr>\n",
              "    <tr>\n",
              "      <th>6</th>\n",
              "      <td>Southampton, UK</td>\n",
              "      <td>1</td>\n",
              "      <td>177</td>\n",
              "    </tr>\n",
              "    <tr>\n",
              "      <th>7</th>\n",
              "      <td>Southampton, UK</td>\n",
              "      <td>2</td>\n",
              "      <td>242</td>\n",
              "    </tr>\n",
              "    <tr>\n",
              "      <th>8</th>\n",
              "      <td>Southampton, UK</td>\n",
              "      <td>3</td>\n",
              "      <td>495</td>\n",
              "    </tr>\n",
              "  </tbody>\n",
              "</table>\n",
              "</div>"
            ],
            "text/plain": [
              "   port_of_embarkation  pclass  Number_Passengers\n",
              "0    Cherbourg, France       1                141\n",
              "1    Cherbourg, France       2                 28\n",
              "2    Cherbourg, France       3                101\n",
              "3  Queenstown, Ireland       1                  3\n",
              "4  Queenstown, Ireland       2                  7\n",
              "5  Queenstown, Ireland       3                113\n",
              "6      Southampton, UK       1                177\n",
              "7      Southampton, UK       2                242\n",
              "8      Southampton, UK       3                495"
            ]
          },
          "metadata": {
            "tags": []
          },
          "execution_count": 19
        }
      ]
    },
    {
      "cell_type": "markdown",
      "metadata": {
        "id": "_9eMjpMXgujb"
      },
      "source": [
        "### Survival by Fare Group \n",
        "\n",
        "Here we have define the fare to be cheap if the price was under 10 dollars, if the fair was over 10 but less than 30 dollars then its mid , and if the fare price was over 30 dollars, then we would define that as expensive. There was also a big portion of the passengers that missing values, however for the data that we do have, mid level fare prices had the highest survival rate, followed by expensive and cheap fare tickets. The expensive's survival rate is not very meaningful here due to the lack of number of data. Our hypothesis is the more passengers pay, the higher the rate of survival. "
      ]
    },
    {
      "cell_type": "code",
      "metadata": {
        "id": "-CnzCyi9gujd",
        "outputId": "3a35dda1-d792-463e-e817-82de32849f8b"
      },
      "source": [
        "%%bigquery\n",
        "WITH FAREGROUP AS\n",
        "\n",
        "(SELECT *, \n",
        "CASE WHEN fare > 0 AND fare < 10 THEN  'Cheap'\n",
        "WHEN  fare >= 10 AND fare  < 30 THEN 'Mid'\n",
        "WHEN fare >= 30  THEN 'Expensive'\n",
        "ELSE NULL END AS fare_group\n",
        "FROM `ba775-team-6b.Project.passengers`\n",
        ")\n",
        "\n",
        "SELECT fare_group, count(*) Number_Passengers, sum(survived) Number_Survivors, (sum(survived) / count(*)) Survival_Percentage \n",
        "FROM FAREGROUP\n",
        "GROUP BY fare_group\n",
        "#comparing survival rate between passenger with different fare paid"
      ],
      "execution_count": null,
      "outputs": [
        {
          "output_type": "execute_result",
          "data": {
            "text/html": [
              "<div>\n",
              "<style scoped>\n",
              "    .dataframe tbody tr th:only-of-type {\n",
              "        vertical-align: middle;\n",
              "    }\n",
              "\n",
              "    .dataframe tbody tr th {\n",
              "        vertical-align: top;\n",
              "    }\n",
              "\n",
              "    .dataframe thead th {\n",
              "        text-align: right;\n",
              "    }\n",
              "</style>\n",
              "<table border=\"1\" class=\"dataframe\">\n",
              "  <thead>\n",
              "    <tr style=\"text-align: right;\">\n",
              "      <th></th>\n",
              "      <th>fare_group</th>\n",
              "      <th>Number_Passengers</th>\n",
              "      <th>Number_Survivors</th>\n",
              "      <th>Survival_Percentage</th>\n",
              "    </tr>\n",
              "  </thead>\n",
              "  <tbody>\n",
              "    <tr>\n",
              "      <th>0</th>\n",
              "      <td>None</td>\n",
              "      <td>18</td>\n",
              "      <td>2</td>\n",
              "      <td>0.111111</td>\n",
              "    </tr>\n",
              "    <tr>\n",
              "      <th>1</th>\n",
              "      <td>Cheap</td>\n",
              "      <td>474</td>\n",
              "      <td>108</td>\n",
              "      <td>0.227848</td>\n",
              "    </tr>\n",
              "    <tr>\n",
              "      <th>2</th>\n",
              "      <td>Mid</td>\n",
              "      <td>467</td>\n",
              "      <td>188</td>\n",
              "      <td>0.402570</td>\n",
              "    </tr>\n",
              "    <tr>\n",
              "      <th>3</th>\n",
              "      <td>Expensive</td>\n",
              "      <td>350</td>\n",
              "      <td>202</td>\n",
              "      <td>0.577143</td>\n",
              "    </tr>\n",
              "  </tbody>\n",
              "</table>\n",
              "</div>"
            ],
            "text/plain": [
              "  fare_group  Number_Passengers  Number_Survivors  Survival_Percentage\n",
              "0       None                 18                 2             0.111111\n",
              "1      Cheap                474               108             0.227848\n",
              "2        Mid                467               188             0.402570\n",
              "3  Expensive                350               202             0.577143"
            ]
          },
          "metadata": {
            "tags": []
          },
          "execution_count": 1
        }
      ]
    },
    {
      "cell_type": "markdown",
      "metadata": {
        "id": "EEaB3IpXgujp"
      },
      "source": [
        "After performing our initial exploratory data analysis we found that sex, passenger class, and age were most associated with an increased chance of survival. We also saw some correlation between our features that might distort the predictive value of any variable. Our next step would be to develop and tune a machine learning model to best make predictions about survival based on data."
      ]
    },
    {
      "cell_type": "markdown",
      "metadata": {
        "id": "ep-U4LRHgujs"
      },
      "source": [
        "### Who Most Likely Survived: Machine Learning\n",
        "\n",
        "Our team attempted to predict whether passengers would survived the Titanic accident. Since our dataset is only two labels, survived and not survived, we are going to solving a binary classification problem. Our algorithm of choice is Logisitic Regression. Below is how we structured our steps leading up to evaluating the test set. \n",
        "\n",
        "#### Preprocessing the Dataset\n",
        "The first cell shows preprocessed features that are going to be using for our classification model. \n",
        "Since the majority of our data is text, we wanted to one hot encode features such as sex, Embarked, and Pclass. \n",
        "with utilizing Logisitic Regression, having one hot encodinged data will improve the model's performance because \n",
        "our features will be transformed from label encoded features to numerical encoded features. \n",
        "We also standardized the age and fare columns, this was done in order for gradient descent to have the best \n",
        "trajectory towards the global minimum. If we kept age and fare as their original values,\n",
        "those two features would dominate the contribution of predictions and direction of gradient descent, as their as their parameters would be the largest values and gradients. Finally, we did utilize one feature that was label encoded calledName title, this was generated by going through and labelling the most common names on board, along with a group of titles that were rare. We generated this feature to see if there were any patterns with titles and survival the model could discover.\n",
        "\n",
        "I also used the RAND() function to create random values for the whole dataset, and then used a WHERE condition to \n",
        "filter the data into a training and test set. Since the numbers are randomly generated, we can consider this to be a random\n",
        "shuffle of the data.\n",
        "\n",
        "\n",
        "#### Model Performance \n",
        "We can see that the model does perform well. When evaluating the test set, our metrics are as follows: \n",
        "\n",
        "- **Accuracy: %** \n",
        "- **Area Under the ROC curve: 84.6%**\n",
        "- **Precision: 83.6%**\n",
        "- **Recall: 61.8%**\n",
        "- **F1:score 71%**\n",
        "\n",
        "Overall I believe that this is a good baseline score, but much can be improved. Although the accuracy is 80 percent, we can see that the model is learning parameters to fit well to the positive class; that is, the Logisitic Regression is learning patterns for people who survived the Titanic accident and is having a hard time learning patterns for the people who did not survive the accident. We know this because we have a significantly higher precision score in comparison to recall ; Our precision score is an indicator of how well our model is learning true positives, and recall is an indicator of how well our model is learning true negatives. This could also potentially suggest that the distribution of the negative class is more scattered and thus producing more \n",
        "false negatives. \n",
        "\n",
        "Finally, I also utilized L1 regularization to the model in order to reduce overfitting, however it seems that this was not possible. One way to combat this is to increase the value for lambda, which represent how severe the regularization will be; although one would need to be careful, as a lambda value too large would cause the model\n",
        "to suffer from high bias and underfit.\n",
        "\n",
        "### Feature Importance\n",
        "After the model has trained, we are able to \n",
        "\n",
        "#### Limitations\n",
        "One of the limitations is the amount of the data we have to train the model. There were roughly 1300 data points and thus naturally difficult to be able to generalize to the test set well. In addition, because this dataset is of the Titantic accident, there is no other method of curating additional information that regards the passengers. \n",
        "\n",
        "Another limitation was certain features had null values. While we are able to impute these values, it is still rather difficult to tell if the values were a true representative of the missing passengers age's. Perhaps if we were able to use models such as XGBoost or CATboost,these null values would not be as bad of an issue \n",
        "\n",
        "\n"
      ]
    },
    {
      "cell_type": "code",
      "metadata": {
        "id": "Ddu2W7-oguju",
        "outputId": "fcaf9416-7471-4c2a-86fd-df68343bb1ad"
      },
      "source": [
        "%%bigquery \n",
        "CREATE OR REPLACE TABLE `ba775-team-6b.Project.preprocessed_data` as (SELECT  Survived,\n",
        "CASE WHEN Sex = 'male' Then 1 Else 0 END as isMale,\n",
        "CASE WHEN Sex = 'female' Then 1 Else 0 End as isFemale,\n",
        "CASE WHEN Pclass = 1 THEN 1 ELSE 0 END as Pclass1,\n",
        "CASE WHEN Pclass = 2 THEN 1 ELSE 0 END as Pclass2,\n",
        "CASE WHEN Pclass = 3 THEN 1 ELSE 0 END as Pclass3,\n",
        "SibSp,\n",
        "Parch,\n",
        " Age,\n",
        "Fare, \n",
        "CASE WHEN Embarked = 'S' THEN 1 Else 0 END as Embarked_S,\n",
        "CASE WHEN Embarked = 'Q' THEN 1 ELSE 0 END as Embarked_B,\n",
        "CASE WHEN Embarked = 'C' THEN 1 ELSE 0 END as Embarked_C,\n",
        "CASE WHEN RAND() < .3 OR RAND() > .6 THEN 'Training'\n",
        "     WHEN RAND() >=.3 OR RAND() <= .6 THEN 'Test' \n",
        "     ELSE 'Training'\n",
        "     END as data_split\n",
        "FROM `ba775-team-6b.Project.passengers`)"
      ],
      "execution_count": null,
      "outputs": [
        {
          "output_type": "execute_result",
          "data": {
            "text/html": [
              "<div>\n",
              "<style scoped>\n",
              "    .dataframe tbody tr th:only-of-type {\n",
              "        vertical-align: middle;\n",
              "    }\n",
              "\n",
              "    .dataframe tbody tr th {\n",
              "        vertical-align: top;\n",
              "    }\n",
              "\n",
              "    .dataframe thead th {\n",
              "        text-align: right;\n",
              "    }\n",
              "</style>\n",
              "<table border=\"1\" class=\"dataframe\">\n",
              "  <thead>\n",
              "    <tr style=\"text-align: right;\">\n",
              "      <th></th>\n",
              "    </tr>\n",
              "  </thead>\n",
              "  <tbody>\n",
              "  </tbody>\n",
              "</table>\n",
              "</div>"
            ],
            "text/plain": [
              "Empty DataFrame\n",
              "Columns: []\n",
              "Index: []"
            ]
          },
          "metadata": {
            "tags": []
          },
          "execution_count": 11
        }
      ]
    },
    {
      "cell_type": "markdown",
      "metadata": {
        "id": "z5O9PVOGguj8"
      },
      "source": [
        "In the next two cells, we are going to be using the data_split feature in order to parition the table into a training and test set to feed into the model."
      ]
    },
    {
      "cell_type": "code",
      "metadata": {
        "id": "1bL7r7DPguj_",
        "outputId": "d491fde3-8548-41ee-c22a-fa533f25d4d5"
      },
      "source": [
        "%%bigquery \n",
        "CREATE OR REPLACE table  `ba775-team-6b.Project.preprocessed_data_train` as (\n",
        "SELECT * FROM `ba775-team-6b.Project.preprocessed_data`\n",
        "WHERE data_split = 'Training')\n"
      ],
      "execution_count": null,
      "outputs": [
        {
          "output_type": "execute_result",
          "data": {
            "text/html": [
              "<div>\n",
              "<style scoped>\n",
              "    .dataframe tbody tr th:only-of-type {\n",
              "        vertical-align: middle;\n",
              "    }\n",
              "\n",
              "    .dataframe tbody tr th {\n",
              "        vertical-align: top;\n",
              "    }\n",
              "\n",
              "    .dataframe thead th {\n",
              "        text-align: right;\n",
              "    }\n",
              "</style>\n",
              "<table border=\"1\" class=\"dataframe\">\n",
              "  <thead>\n",
              "    <tr style=\"text-align: right;\">\n",
              "      <th></th>\n",
              "    </tr>\n",
              "  </thead>\n",
              "  <tbody>\n",
              "  </tbody>\n",
              "</table>\n",
              "</div>"
            ],
            "text/plain": [
              "Empty DataFrame\n",
              "Columns: []\n",
              "Index: []"
            ]
          },
          "metadata": {
            "tags": []
          },
          "execution_count": 12
        }
      ]
    },
    {
      "cell_type": "code",
      "metadata": {
        "id": "DFd4CJZ0gukQ",
        "outputId": "a9ad3a73-9b2c-4531-e228-6d70730701e5"
      },
      "source": [
        "%%bigquery\n",
        "CREATE OR REPLACE table  `ba775-team-6b.Project.preprocessed_data_test` as (\n",
        "SELECT * FROM `ba775-team-6b.Project.preprocessed_data`\n",
        "WHERE data_split = 'Test')\n"
      ],
      "execution_count": null,
      "outputs": [
        {
          "output_type": "execute_result",
          "data": {
            "text/html": [
              "<div>\n",
              "<style scoped>\n",
              "    .dataframe tbody tr th:only-of-type {\n",
              "        vertical-align: middle;\n",
              "    }\n",
              "\n",
              "    .dataframe tbody tr th {\n",
              "        vertical-align: top;\n",
              "    }\n",
              "\n",
              "    .dataframe thead th {\n",
              "        text-align: right;\n",
              "    }\n",
              "</style>\n",
              "<table border=\"1\" class=\"dataframe\">\n",
              "  <thead>\n",
              "    <tr style=\"text-align: right;\">\n",
              "      <th></th>\n",
              "    </tr>\n",
              "  </thead>\n",
              "  <tbody>\n",
              "  </tbody>\n",
              "</table>\n",
              "</div>"
            ],
            "text/plain": [
              "Empty DataFrame\n",
              "Columns: []\n",
              "Index: []"
            ]
          },
          "metadata": {
            "tags": []
          },
          "execution_count": 13
        }
      ]
    },
    {
      "cell_type": "markdown",
      "metadata": {
        "id": "MkPA8CFcguke"
      },
      "source": [
        "The following cells are going to train and evaluate the model"
      ]
    },
    {
      "cell_type": "code",
      "metadata": {
        "id": "QcWK46n9gukh",
        "outputId": "bba4bce4-3a33-4c92-e5b9-4079bc72d91f"
      },
      "source": [
        "%%bigquery\n",
        "CREATE OR REPLACE MODEL `ba775-team-6b.Project.classification_model`\n",
        "OPTIONS(model_type='logistic_reg',L1_REG=5,labels = ['survived'])\n",
        "AS\n",
        "SELECT * EXCEPT(data_split) FROM `ba775-team-6b.Project.preprocessed_data_train`"
      ],
      "execution_count": null,
      "outputs": [
        {
          "output_type": "stream",
          "text": [
            "Executing query with job ID: 3fbeef50-507d-43c4-bb4f-ea54e8564466\n",
            "Query executing: 33.20s"
          ],
          "name": "stdout"
        }
      ]
    },
    {
      "cell_type": "code",
      "metadata": {
        "id": "Xa3lkwZhguku"
      },
      "source": [
        "%%bigquery\n",
        "SELECT *\n",
        "FROM ML.EVALUATE\n",
        "(\n",
        "    MODEL `ba775-team-6b.Project.classification_model`,  \n",
        "    (SELECT * EXCEPT(data_split) FROM `ba775-team-6b.Project.preprocessed_data_test`)\n",
        ")"
      ],
      "execution_count": null,
      "outputs": []
    },
    {
      "cell_type": "code",
      "metadata": {
        "id": "CxaZRoPuguk5",
        "outputId": "8e0b0e05-7166-481a-dfd0-819afc3cce1b"
      },
      "source": [
        "%%bigquery \n",
        "Select processed_input,weight FROM \n",
        "ML.WEIGHTS(MODEL `ba775-team-6b.Project.classification_model`)\n"
      ],
      "execution_count": null,
      "outputs": [
        {
          "output_type": "execute_result",
          "data": {
            "text/html": [
              "<div>\n",
              "<style scoped>\n",
              "    .dataframe tbody tr th:only-of-type {\n",
              "        vertical-align: middle;\n",
              "    }\n",
              "\n",
              "    .dataframe tbody tr th {\n",
              "        vertical-align: top;\n",
              "    }\n",
              "\n",
              "    .dataframe thead th {\n",
              "        text-align: right;\n",
              "    }\n",
              "</style>\n",
              "<table border=\"1\" class=\"dataframe\">\n",
              "  <thead>\n",
              "    <tr style=\"text-align: right;\">\n",
              "      <th></th>\n",
              "      <th>processed_input</th>\n",
              "      <th>weight</th>\n",
              "    </tr>\n",
              "  </thead>\n",
              "  <tbody>\n",
              "    <tr>\n",
              "      <th>0</th>\n",
              "      <td>isMale</td>\n",
              "      <td>-1.245611</td>\n",
              "    </tr>\n",
              "    <tr>\n",
              "      <th>1</th>\n",
              "      <td>isFemale</td>\n",
              "      <td>1.245611</td>\n",
              "    </tr>\n",
              "    <tr>\n",
              "      <th>2</th>\n",
              "      <td>Pclass1</td>\n",
              "      <td>0.842362</td>\n",
              "    </tr>\n",
              "    <tr>\n",
              "      <th>3</th>\n",
              "      <td>Pclass2</td>\n",
              "      <td>0.047250</td>\n",
              "    </tr>\n",
              "    <tr>\n",
              "      <th>4</th>\n",
              "      <td>Pclass3</td>\n",
              "      <td>-0.674006</td>\n",
              "    </tr>\n",
              "    <tr>\n",
              "      <th>5</th>\n",
              "      <td>SibSp</td>\n",
              "      <td>-0.360413</td>\n",
              "    </tr>\n",
              "    <tr>\n",
              "      <th>6</th>\n",
              "      <td>Parch</td>\n",
              "      <td>0.029848</td>\n",
              "    </tr>\n",
              "    <tr>\n",
              "      <th>7</th>\n",
              "      <td>Age</td>\n",
              "      <td>-0.032482</td>\n",
              "    </tr>\n",
              "    <tr>\n",
              "      <th>8</th>\n",
              "      <td>Fare</td>\n",
              "      <td>0.001287</td>\n",
              "    </tr>\n",
              "    <tr>\n",
              "      <th>9</th>\n",
              "      <td>Embarked_S</td>\n",
              "      <td>-0.314759</td>\n",
              "    </tr>\n",
              "    <tr>\n",
              "      <th>10</th>\n",
              "      <td>Embarked_B</td>\n",
              "      <td>-0.000864</td>\n",
              "    </tr>\n",
              "    <tr>\n",
              "      <th>11</th>\n",
              "      <td>Embarked_C</td>\n",
              "      <td>0.385265</td>\n",
              "    </tr>\n",
              "    <tr>\n",
              "      <th>12</th>\n",
              "      <td>__INTERCEPT__</td>\n",
              "      <td>1.217696</td>\n",
              "    </tr>\n",
              "  </tbody>\n",
              "</table>\n",
              "</div>"
            ],
            "text/plain": [
              "   processed_input    weight\n",
              "0           isMale -1.245611\n",
              "1         isFemale  1.245611\n",
              "2          Pclass1  0.842362\n",
              "3          Pclass2  0.047250\n",
              "4          Pclass3 -0.674006\n",
              "5            SibSp -0.360413\n",
              "6            Parch  0.029848\n",
              "7              Age -0.032482\n",
              "8             Fare  0.001287\n",
              "9       Embarked_S -0.314759\n",
              "10      Embarked_B -0.000864\n",
              "11      Embarked_C  0.385265\n",
              "12   __INTERCEPT__  1.217696"
            ]
          },
          "metadata": {
            "tags": []
          },
          "execution_count": 19
        }
      ]
    },
    {
      "cell_type": "code",
      "metadata": {
        "id": "-wh9AunegulD"
      },
      "source": [
        ""
      ],
      "execution_count": null,
      "outputs": []
    }
  ]
}